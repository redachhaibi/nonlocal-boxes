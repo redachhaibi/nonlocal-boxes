{
 "cells": [
  {
   "cell_type": "code",
   "execution_count": null,
   "metadata": {},
   "outputs": [],
   "source": [
    "import torch\n",
    "import matplotlib.pyplot as plt\n",
    "import non_local_boxes\n",
    "\n",
    "# Sugar coating for reloading\n",
    "%matplotlib inline\n",
    "%load_ext autoreload\n",
    "%autoreload 2\n",
    "\n",
    "# in ordert to have unblurred pictures\n",
    "plt.rcParams['figure.dpi'] = 300\n",
    "plt.rcParams['savefig.dpi'] = 300"
   ]
  },
  {
   "cell_type": "markdown",
   "metadata": {},
   "source": [
    "# Definitions"
   ]
  },
  {
   "cell_type": "code",
   "execution_count": null,
   "metadata": {},
   "outputs": [],
   "source": [
    "PNL = non_local_boxes.utils.P_NL\n",
    "PL  = non_local_boxes.utils.P_L\n",
    "PR = non_local_boxes.utils.PR"
   ]
  },
  {
   "cell_type": "code",
   "execution_count": null,
   "metadata": {},
   "outputs": [],
   "source": [
    "def game(Boolean_function):\n",
    "    M = torch.zeros((4,4))\n",
    "    for a in range(2):\n",
    "        for b in range(2):\n",
    "            for x in range(2):\n",
    "                for y in range(2):\n",
    "                    if Boolean_function(a,b,x,y):\n",
    "                        M[2*x+y, 2*a+b]=0.25\n",
    "    return M\n",
    "\n",
    "def value(P, game):\n",
    "    # P and game are 4x4 matrices\n",
    "    return float(torch.sum(P*game))"
   ]
  },
  {
   "cell_type": "code",
   "execution_count": null,
   "metadata": {},
   "outputs": [],
   "source": [
    "def plot_games(game1, name1, game2, name2):\n",
    "    points, labels = [], []\n",
    "\n",
    "    for mu in range(2):\n",
    "        for nu in range(2):\n",
    "            for sigma in range(2):\n",
    "                P = PNL(mu, nu, sigma)\n",
    "                points.append([value(P, game1), value(P, game2)])\n",
    "                if mu==nu==sigma==0: labels.append(\"PR\")\n",
    "                else: labels.append(\"$P_{NL}$\"+str(mu)+str(nu)+str(sigma))\n",
    "                for tau in range(2):\n",
    "                    P = PL(mu, nu, sigma, tau)\n",
    "                    points.append([value(P, game1), value(P, game2)])\n",
    "                    label=\"$P_{L}$\"+str(mu)+str(nu)+str(sigma)+str(tau)\n",
    "                    if mu==nu==sigma==tau==0: label=\"P0\"\n",
    "                    if mu==0==sigma and nu==tau==1: label=\"P1\"\n",
    "                    labels.append(label)\n",
    "\n",
    "\n",
    "    for i in range(len(points)):\n",
    "        bold=False\n",
    "        if len(labels[i])==2: bold = True\n",
    "        for j in range(i):\n",
    "            if points[i]==points[j]: labels[i]=\"\\n\\n\"+labels[i]\n",
    "        x, y = points[i]\n",
    "        plt.plot(x, y, marker=\"o\", markersize=5, color=\"purple\")\n",
    "        if bold: plt.text(x+0.01, y+0.02, labels[i], horizontalalignment='left', verticalalignment='center', size=8, weight=\"bold\")\n",
    "        else: plt.text(x+0.01, y, labels[i], horizontalalignment='left', verticalalignment='center', size=5)\n",
    "\n",
    "\n",
    "    plt.xlabel(name1)\n",
    "    plt.ylabel(name2)\n",
    "    plt.grid(color=\"whitesmoke\")\n",
    "    plt.show()"
   ]
  },
  {
   "cell_type": "markdown",
   "metadata": {},
   "source": [
    "# Plot"
   ]
  },
  {
   "cell_type": "code",
   "execution_count": null,
   "metadata": {},
   "outputs": [],
   "source": [
    "CHSH  = game(lambda a,b,x,y: (a+b)%2 == x*y)\n",
    "CHSHp = game(lambda a,b,x,y: (a+b)%2 == (x+1)*(y+1)%2)"
   ]
  },
  {
   "cell_type": "code",
   "execution_count": null,
   "metadata": {},
   "outputs": [],
   "source": [
    "plot_games(\n",
    "    game1=CHSHp, \n",
    "    name1=\"$\\mathbf{CHSH}'(\\cdot)$\", \n",
    "    game2=CHSH, \n",
    "    name2=\"$\\mathbf{CHSH}(\\cdot)$\"\n",
    "    )"
   ]
  },
  {
   "cell_type": "code",
   "execution_count": null,
   "metadata": {},
   "outputs": [],
   "source": [
    "CHSHpp = game(lambda a,b,x,y: (a+b)%2 == (x)*(y+1)%2)\n",
    "\n",
    "plot_games(\n",
    "    game1=CHSHpp, \n",
    "    name1=\"$\\mathbf{CHSH}''(\\cdot)$\", \n",
    "    game2=CHSH, \n",
    "    name2=\"$\\mathbf{CHSH}(\\cdot)$\"\n",
    "    )"
   ]
  },
  {
   "cell_type": "code",
   "execution_count": null,
   "metadata": {},
   "outputs": [],
   "source": []
  }
 ],
 "metadata": {
  "kernelspec": {
   "display_name": ".venv_boxes",
   "language": "python",
   "name": "python3"
  },
  "language_info": {
   "codemirror_mode": {
    "name": "ipython",
    "version": 3
   },
   "file_extension": ".py",
   "mimetype": "text/x-python",
   "name": "python",
   "nbconvert_exporter": "python",
   "pygments_lexer": "ipython3",
   "version": "3.9.12"
  }
 },
 "nbformat": 4,
 "nbformat_minor": 2
}
