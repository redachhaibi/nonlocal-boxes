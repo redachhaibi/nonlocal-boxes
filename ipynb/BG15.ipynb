{
 "cells": [
  {
   "cell_type": "code",
   "execution_count": 1,
   "metadata": {},
   "outputs": [],
   "source": [
    "import torch\n",
    "import non_local_boxes\n",
    "\n",
    "# Sugar coating for reloading\n",
    "%matplotlib inline\n",
    "%load_ext autoreload\n",
    "%autoreload 2"
   ]
  },
  {
   "attachments": {},
   "cell_type": "markdown",
   "metadata": {},
   "source": [
    "# Implementation of `rho(P)`"
   ]
  },
  {
   "cell_type": "code",
   "execution_count": 23,
   "metadata": {},
   "outputs": [],
   "source": [
    "# def BG15_form(P): # P is a 4x4 box, in the usual form\n",
    "#     P = non_local_boxes.utils.matrix_to_tensor(P)\n",
    "#     Q = torch.zeros(4,4)\n",
    "#     for i in range(4):\n",
    "#         a, x = i//2, i%2\n",
    "#         for j in range(4):\n",
    "#             b, y = j//2, j%2\n",
    "#             Q[i,j] = P[a, b, x, y]\n",
    "#     return Q\n",
    "\n",
    "def BG15_form(P): # P is a 4x4 box, in the usual form\n",
    "    P = non_local_boxes.utils.matrix_to_tensor(P)\n",
    "    Q = torch.zeros(4,4)\n",
    "    for i in range(4):\n",
    "        a, x = i//2, i%2\n",
    "        for j in range(2):\n",
    "            # b, y = j, x\n",
    "            Q[i, 2*j + x] = P[a, j, x, x]\n",
    "    return Q"
   ]
  },
  {
   "cell_type": "code",
   "execution_count": 30,
   "metadata": {},
   "outputs": [],
   "source": [
    "def marginals(P):  # P is a 4x4 matrix, in the BS15 form\n",
    "    # P = BG15_form(P)\n",
    "    e = torch.ones(4)\n",
    "    pX = torch.tensordot(P, e, dims=1)\n",
    "    pY = torch.tensordot(torch.t(P), e, dims=1)\n",
    "    return pX, pY\n",
    "\n",
    "def marginals_diag(P):  # P is a 4x4 matrix, in the BS15 form\n",
    "    pX, pY = marginals(P)\n",
    "    P_X, P_Y = torch.diag_embed(pX), torch.diag_embed(pY)\n",
    "    return P_X, P_Y"
   ]
  },
  {
   "cell_type": "code",
   "execution_count": 39,
   "metadata": {},
   "outputs": [],
   "source": [
    "def P_tilda(P):  # P is a 4x4 matrix, in the usual form\n",
    "    P = BG15_form(P)\n",
    "    pX, pY = marginals(P)\n",
    "    A, B = torch.diag_embed(torch.pow(pX, -0.5)), torch.diag_embed(torch.pow(pY, -0.5))\n",
    "    return torch.tensordot(torch.tensordot(A, P, dims=1), B, dims=1)"
   ]
  },
  {
   "cell_type": "code",
   "execution_count": 61,
   "metadata": {},
   "outputs": [],
   "source": [
    "def rho(P):   # P is a 4x4 matrix, in the usual form\n",
    "    sing_val = torch.linalg.svdvals(P_tilda(P))\n",
    "    return round(float(sing_val[1]), 6)"
   ]
  },
  {
   "attachments": {},
   "cell_type": "markdown",
   "metadata": {},
   "source": [
    "# Compute $\\rho$ of somes boxes"
   ]
  },
  {
   "cell_type": "code",
   "execution_count": null,
   "metadata": {},
   "outputs": [],
   "source": [
    "PR = non_local_boxes.utils.PR\n",
    "SR = non_local_boxes.utils.SR\n",
    "I = non_local_boxes.utils.I"
   ]
  },
  {
   "cell_type": "code",
   "execution_count": 62,
   "metadata": {},
   "outputs": [
    {
     "name": "stdout",
     "output_type": "stream",
     "text": [
      "1.0 1.0 1.0\n"
     ]
    }
   ],
   "source": [
    "print(rho(PR), rho(SR), rho(I))"
   ]
  },
  {
   "cell_type": "code",
   "execution_count": null,
   "metadata": {},
   "outputs": [],
   "source": []
  }
 ],
 "metadata": {
  "kernelspec": {
   "display_name": ".venv_boxes",
   "language": "python",
   "name": "python3"
  },
  "language_info": {
   "codemirror_mode": {
    "name": "ipython",
    "version": 3
   },
   "file_extension": ".py",
   "mimetype": "text/x-python",
   "name": "python",
   "nbconvert_exporter": "python",
   "pygments_lexer": "ipython3",
   "version": "3.9.12"
  },
  "orig_nbformat": 4,
  "vscode": {
   "interpreter": {
    "hash": "fc316f9929218361e7d645a202e8c2b79a1175dfee9b41dd9aa3806e9995da6b"
   }
  }
 },
 "nbformat": 4,
 "nbformat_minor": 2
}
