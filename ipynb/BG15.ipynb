{
 "cells": [
  {
   "cell_type": "code",
   "execution_count": null,
   "metadata": {},
   "outputs": [],
   "source": [
    "import torch\n",
    "import non_local_boxes\n",
    "import matplotlib.pyplot as plt\n",
    "from matplotlib.colors import hsv_to_rgb\n",
    "import matplotlib.patches as mpatches\n",
    "\n",
    "# Sugar coating for reloading\n",
    "%matplotlib inline\n",
    "%load_ext autoreload\n",
    "%autoreload 2"
   ]
  },
  {
   "attachments": {},
   "cell_type": "markdown",
   "metadata": {},
   "source": [
    "# Implementation of `rho(P)`"
   ]
  },
  {
   "cell_type": "code",
   "execution_count": null,
   "metadata": {},
   "outputs": [],
   "source": [
    "# def BG15_form(P): # P is a 4x4 box, in the usual form\n",
    "#     P = non_local_boxes.utils.matrix_to_tensor(P)\n",
    "#     Q = torch.zeros(4,4)\n",
    "#     for i in range(4):\n",
    "#         a, x = i//2, i%2\n",
    "#         for j in range(4):\n",
    "#             b, y = j//2, j%2\n",
    "#             Q[i,j] = P[a, b, x, y]\n",
    "#     return Q\n",
    "\n",
    "# def BG15_form(P): # P is a 4x4 box, in the usual form\n",
    "#     P = non_local_boxes.utils.matrix_to_tensor(P)\n",
    "#     Q = torch.zeros(4,4)\n",
    "#     for i in range(4):\n",
    "#         a, x = i//2, i%2\n",
    "#         for j in range(2):\n",
    "#             # b, y = j, x\n",
    "#             Q[i, 2*j + x] = P[a, j, x, x]*0.5\n",
    "#     return Q\n",
    "\n",
    "def KU11_form(P, x, y):  # P is a 4x4 box\n",
    "    return torch.reshape(P[ 2*x+y, :], (2,2))  # the output is a 2x2 matrix"
   ]
  },
  {
   "cell_type": "code",
   "execution_count": null,
   "metadata": {},
   "outputs": [],
   "source": [
    "def marginals(Q):  # Q is a 2x2 matrix\n",
    "    e = torch.ones(2)\n",
    "    pX = torch.tensordot(Q, e, dims=1)\n",
    "    pY = torch.tensordot(torch.t(Q), e, dims=1)\n",
    "    return pX, pY\n",
    "\n",
    "def marginals_diag(Q):  # Q is a 2x2 matrix\n",
    "    pX, pY = marginals(Q)\n",
    "    P_X, P_Y = torch.diag_embed(pX), torch.diag_embed(pY)\n",
    "    return P_X, P_Y"
   ]
  },
  {
   "cell_type": "code",
   "execution_count": null,
   "metadata": {},
   "outputs": [],
   "source": [
    "def P_tilda(Q):  # Q is a 2x2 matrix\n",
    "    pX, pY = marginals(Q)\n",
    "    A, B = torch.diag_embed(torch.pow(pX, -0.5)), torch.diag_embed(torch.pow(pY, -0.5))\n",
    "    return torch.tensordot(torch.tensordot(A, Q, dims=1), B, dims=1)"
   ]
  },
  {
   "cell_type": "code",
   "execution_count": null,
   "metadata": {},
   "outputs": [],
   "source": [
    "def rho(P):   # P is a 4x4 matrix, in the usual form\n",
    "    sing_val = torch.zeros(2, 2)\n",
    "    for x in range(2):\n",
    "        for y in range(2):\n",
    "            Q = KU11_form(P, x, y)\n",
    "            sing_val[x,y] = torch.linalg.svdvals(P_tilda(Q))[1]\n",
    "    return round(float(torch.max(sing_val)), 6)"
   ]
  },
  {
   "attachments": {},
   "cell_type": "markdown",
   "metadata": {},
   "source": [
    "# Compute $\\rho$ of somes boxes"
   ]
  },
  {
   "cell_type": "code",
   "execution_count": null,
   "metadata": {},
   "outputs": [],
   "source": [
    "# import numpy as np\n",
    "# import pylab as pl\n",
    "# from matplotlib.colors import hsv_to_rgb\n",
    "\n",
    "# V, H = np.mgrid[0:1:100j, 0:1:300j]\n",
    "# S = np.ones_like(V)\n",
    "# HSV = np.dstack((H,S,V))\n",
    "# RGB = hsv_to_rgb(HSV)\n",
    "# pl.imshow(RGB, origin=\"lower\", extent=[0, 360, 0, 1], aspect=150)\n",
    "# pl.xlabel(\"H\")\n",
    "# pl.ylabel(\"V\")\n",
    "# pl.title(\"$S_{HSV}=1$\")\n",
    "# pl.show()"
   ]
  },
  {
   "cell_type": "code",
   "execution_count": null,
   "metadata": {},
   "outputs": [],
   "source": [
    "PR = non_local_boxes.utils.PR\n",
    "PRprime = non_local_boxes.utils.PRprime\n",
    "SR = non_local_boxes.utils.SR\n",
    "I = non_local_boxes.utils.I"
   ]
  },
  {
   "cell_type": "code",
   "execution_count": null,
   "metadata": {},
   "outputs": [],
   "source": [
    "p = 0.156\n",
    "print(rho(PR), rho(SR), rho(I), rho((PR+I)/2))\n",
    "print(rho(p*PR + (1-p)*I))"
   ]
  },
  {
   "cell_type": "code",
   "execution_count": null,
   "metadata": {},
   "outputs": [],
   "source": [
    "def draw_triangle(Box1, Box1_name, Box2, Box2_name, Box3, Box3_name, box_grid_size): # Box is a 4x4 tensor\n",
    "    X = torch.tensor([[0, 10], [10,0], [0, 0]]).numpy()\n",
    "    triangle = plt.Polygon(X[:3,:], color=\"snow\")\n",
    "    plt.gca().add_patch(triangle)\n",
    "\n",
    "    for i in range(box_grid_size+1):\n",
    "        for j in range(box_grid_size-i+1):\n",
    "            alpha, beta = i/box_grid_size, j/box_grid_size\n",
    "            p = rho(alpha*Box1 + beta*Box2 + (1-alpha-beta)*Box3)\n",
    "            color_point = hsv_to_rgb([p, 1, 1]) #(0., 0.*(1-p)+0.8*p, 0.*(1-p)+0.8*p)\n",
    "            plt.plot(X[0,0]*alpha + X[1,0]*beta + X[2,0]*(1-alpha-beta), X[0,1]*alpha + X[1,1]*beta + X[2,1]*(1-alpha-beta), 'o', markersize=3, color=color_point)\n",
    "\n",
    "    plt.text(X[0,0]+0.3, X[0,1], Box1_name, horizontalalignment='center')\n",
    "    plt.text(X[1,0], X[1,1]+0.3, Box2_name, verticalalignment='center')\n",
    "    plt.text(X[2,0], X[2,1]-0.3, Box3_name, verticalalignment='center')\n",
    "    plt.title(\"Level lines of rho (the rho from [BG15])\")\n",
    "    color1 = mpatches.Patch(color=hsv_to_rgb([1, 1, 1]), label='rho = 1')\n",
    "    color075 = mpatches.Patch(color=hsv_to_rgb([0.75, 1, 1]), label='rho = 0.75')\n",
    "    color05 = mpatches.Patch(color=hsv_to_rgb([0.5, 1, 1]), label='rho = 0.5')\n",
    "    color025 = mpatches.Patch(color=hsv_to_rgb([0.25, 1, 1]), label='rho = 0.25')\n",
    "    plt.legend(handles=[color1, color075, color05, color025]) \n",
    "    plt.show()"
   ]
  },
  {
   "cell_type": "code",
   "execution_count": null,
   "metadata": {},
   "outputs": [],
   "source": [
    "draw_triangle(\n",
    "    Box1 = PR,\n",
    "    Box1_name = \"PR\",\n",
    "    Box2 = SR,\n",
    "    Box2_name = \"SR\",\n",
    "    Box3 = (PR+I)/2,\n",
    "    Box3_name = \"(PR+I)/2\",\n",
    "    box_grid_size = 60\n",
    ")"
   ]
  },
  {
   "attachments": {},
   "cell_type": "markdown",
   "metadata": {},
   "source": [
    "# Draw above BBBLMTU"
   ]
  },
  {
   "cell_type": "code",
   "execution_count": null,
   "metadata": {},
   "outputs": [],
   "source": [
    "def draw_above_BBLMTU(Box1, Box1_name, Box2, Box2_name, Box3, Box3_name, box_grid_size): # Box is a 4x4 tensor\n",
    "    X = torch.tensor([[0, 10], [10,0], [0, 0]]).numpy()\n",
    "    triangle = plt.Polygon(X[:3,:], color=\"snow\")\n",
    "    plt.gca().add_patch(triangle)\n",
    "    a = (3 + float(torch.sqrt(torch.tensor(6))))/6\n",
    "    threshold = rho(a*non_local_boxes.utils.PR + (1-a)*non_local_boxes.utils.PRbar)\n",
    "\n",
    "    color_above_threshold = hsv_to_rgb([0.475, 1, 0.8])\n",
    "    color_below_threshold = hsv_to_rgb([0.475, 1, 0.5])\n",
    "\n",
    "    for i in range(box_grid_size+1):\n",
    "        for j in range(box_grid_size-i+1):\n",
    "            alpha, beta = i/box_grid_size, j/box_grid_size\n",
    "            p = rho(alpha*Box1 + beta*Box2 + (1-alpha-beta)*Box3)\n",
    "            color_point = color_below_threshold #(0., 0.3, 0.3)\n",
    "            if p > threshold:\n",
    "                color_point = color_above_threshold # (0., 0.7, 0.7)\n",
    "            plt.plot(X[0,0]*alpha + X[1,0]*beta + X[2,0]*(1-alpha-beta), X[0,1]*alpha + X[1,1]*beta + X[2,1]*(1-alpha-beta), 'o', markersize=3, color=color_point)\n",
    "\n",
    "    plt.text(X[0,0]+0.3, X[0,1], Box1_name, horizontalalignment='center')\n",
    "    plt.text(X[1,0], X[1,1]+0.3, Box2_name, verticalalignment='center')\n",
    "    plt.text(X[2,0], X[2,1]-0.3, Box3_name, verticalalignment='center')\n",
    "    plt.title(\"[BG15] combined with [BBLMTU06]\")\n",
    "    color_below_patch = mpatches.Patch(color=color_below_threshold, label='Impossible to distill until the collapsing triangle.')\n",
    "    color_above_patch = mpatches.Patch(color=color_above_threshold, label='No conclusion.')\n",
    "    plt.legend(handles=[color_below_patch, color_above_patch])   \n",
    "    plt.show()"
   ]
  },
  {
   "cell_type": "code",
   "execution_count": null,
   "metadata": {},
   "outputs": [],
   "source": [
    "draw_above_BBLMTU(\n",
    "    Box1 = PR,\n",
    "    Box1_name = \"PR\",\n",
    "    Box2 = SR,\n",
    "    Box2_name = \"SR\",\n",
    "    Box3 = (PR+I)/2,\n",
    "    Box3_name = \"(PR+I)/2\",\n",
    "    box_grid_size = 60\n",
    ")"
   ]
  },
  {
   "cell_type": "code",
   "execution_count": null,
   "metadata": {},
   "outputs": [],
   "source": [
    "draw_above_BBLMTU(\n",
    "    Box1 = PR,\n",
    "    Box1_name = \"PR\",\n",
    "    Box2 = SR,\n",
    "    Box2_name = \"(PR+PRpime)/2\",\n",
    "    Box3 = (PR+PRprime)/2,\n",
    "    Box3_name = \"(PR+I)/2\",\n",
    "    box_grid_size = 60\n",
    ")"
   ]
  },
  {
   "attachments": {},
   "cell_type": "markdown",
   "metadata": {},
   "source": [
    "# $\\rho$ average"
   ]
  },
  {
   "cell_type": "code",
   "execution_count": null,
   "metadata": {},
   "outputs": [],
   "source": [
    "def rho_average(P):   # P is a 4x4 matrix, in the usual form\n",
    "    sing_val = torch.zeros(2, 2)\n",
    "    for x in range(2):\n",
    "        for y in range(2):\n",
    "            Q = KU11_form(P, x, y)\n",
    "            sing_val[x,y] = torch.linalg.svdvals(P_tilda(Q))[1]\n",
    "    return round(float(torch.sum(sing_val)/4), 6)"
   ]
  },
  {
   "cell_type": "code",
   "execution_count": null,
   "metadata": {},
   "outputs": [],
   "source": [
    "rho_average(PR), rho_average(SR), rho_average(I), rho_average((PR+SR)/2)"
   ]
  },
  {
   "cell_type": "code",
   "execution_count": null,
   "metadata": {},
   "outputs": [],
   "source": [
    "def draw_triangle_average(Box1, Box1_name, Box2, Box2_name, Box3, Box3_name, box_grid_size): # Box is a 4x4 tensor\n",
    "    X = torch.tensor([[0, 10], [10,0], [0, 0]]).numpy()\n",
    "    triangle = plt.Polygon(X[:3,:], color=\"snow\")\n",
    "    plt.gca().add_patch(triangle)\n",
    "\n",
    "    for i in range(box_grid_size+1):\n",
    "        for j in range(box_grid_size-i+1):\n",
    "            alpha, beta = i/box_grid_size, j/box_grid_size\n",
    "            p = rho_average(alpha*Box1 + beta*Box2 + (1-alpha-beta)*Box3)\n",
    "            color_point = hsv_to_rgb([p, 1, 1]) # ((1-p)*0., 0.*(1-p)+0.8*p, 0.*(1-p)+0.8*p)\n",
    "            plt.plot(X[0,0]*alpha + X[1,0]*beta + X[2,0]*(1-alpha-beta), X[0,1]*alpha + X[1,1]*beta + X[2,1]*(1-alpha-beta), 'o', markersize=3, color=color_point)\n",
    "\n",
    "    plt.text(X[0,0]+0.3, X[0,1], Box1_name, horizontalalignment='center')\n",
    "    plt.text(X[1,0], X[1,1]+0.3, Box2_name, verticalalignment='center')\n",
    "    plt.text(X[2,0], X[2,1]-0.3, Box3_name, verticalalignment='center')\n",
    "    plt.title(\"Level lines of `rho_average`\")\n",
    "    color1 = mpatches.Patch(color=hsv_to_rgb([1, 1, 1]), label='rho_average = 1')\n",
    "    color075 = mpatches.Patch(color=hsv_to_rgb([0.75, 1, 1]), label='rho_average = 0.75')\n",
    "    color05 = mpatches.Patch(color=hsv_to_rgb([0.5, 1, 1]), label='rho_average = 0.5')\n",
    "    color025 = mpatches.Patch(color=hsv_to_rgb([0.25, 1, 1]), label='rho_average = 0.25')\n",
    "    plt.legend(handles=[color1, color075, color05, color025]) \n",
    "    plt.show()"
   ]
  },
  {
   "cell_type": "code",
   "execution_count": null,
   "metadata": {},
   "outputs": [],
   "source": [
    "draw_triangle_average(\n",
    "    Box1 = PR,\n",
    "    Box1_name = \"PR\",\n",
    "    Box2 = SR,\n",
    "    Box2_name = \"SR\",\n",
    "    Box3 = (PR+I)/2,\n",
    "    Box3_name = \"(PR+I)/2\",\n",
    "    box_grid_size = 60\n",
    ")"
   ]
  },
  {
   "cell_type": "code",
   "execution_count": null,
   "metadata": {},
   "outputs": [],
   "source": [
    "def draw_above_BBLMTU_average(Box1, Box1_name, Box2, Box2_name, Box3, Box3_name, box_grid_size): # Box is a 4x4 tensor\n",
    "    X = torch.tensor([[0, 10], [10,0], [0, 0]]).numpy()\n",
    "    triangle = plt.Polygon(X[:3,:], color=\"snow\")\n",
    "    plt.gca().add_patch(triangle)\n",
    "    a = (3 + float(torch.sqrt(torch.tensor(6))))/6\n",
    "    threshold = rho_average(a*non_local_boxes.utils.PR + (1-a)*non_local_boxes.utils.PRbar)\n",
    "\n",
    "    color_above_threshold = hsv_to_rgb([0.475, 1, 0.8])\n",
    "    color_below_threshold = hsv_to_rgb([0.475, 1, 0.5])\n",
    "\n",
    "    for i in range(box_grid_size+1):\n",
    "        for j in range(box_grid_size-i+1):\n",
    "            alpha, beta = i/box_grid_size, j/box_grid_size\n",
    "            p = rho_average(alpha*Box1 + beta*Box2 + (1-alpha-beta)*Box3)\n",
    "            color_point = color_below_threshold # (0., 0.3, 0.3)\n",
    "            if p > threshold:\n",
    "                color_point = color_above_threshold # (0., 0.7, 0.7)\n",
    "            plt.plot(X[0,0]*alpha + X[1,0]*beta + X[2,0]*(1-alpha-beta), X[0,1]*alpha + X[1,1]*beta + X[2,1]*(1-alpha-beta), 'o', markersize=3, color=color_point)\n",
    "\n",
    "    plt.text(X[0,0]+0.3, X[0,1], Box1_name, horizontalalignment='center')\n",
    "    plt.text(X[1,0], X[1,1]+0.3, Box2_name, verticalalignment='center')\n",
    "    plt.text(X[2,0], X[2,1]-0.3, Box3_name, verticalalignment='center')\n",
    "    plt.title(\"`rho_average` combined with [BBLMTU06]\")\n",
    "    color_below_patch = mpatches.Patch(color=color_below_threshold, label='Impossible to distill until the collapsing triangle.')\n",
    "    color_above_patch = mpatches.Patch(color=color_above_threshold, label='No conclusion.')\n",
    "    plt.legend(handles=[color_below_patch, color_above_patch])   \n",
    "    plt.show()"
   ]
  },
  {
   "cell_type": "code",
   "execution_count": null,
   "metadata": {},
   "outputs": [],
   "source": [
    "draw_above_BBLMTU_average(\n",
    "    Box1 = PR,\n",
    "    Box1_name = \"PR\",\n",
    "    Box2 = SR,\n",
    "    Box2_name = \"SR\",\n",
    "    Box3 = (PR+I)/2,\n",
    "    Box3_name = \"(PR+I)/2\",\n",
    "    box_grid_size = 60\n",
    ")"
   ]
  },
  {
   "cell_type": "code",
   "execution_count": null,
   "metadata": {},
   "outputs": [],
   "source": [
    "draw_above_BBLMTU_average(\n",
    "    Box1 = PR,\n",
    "    Box1_name = \"PR\",\n",
    "    Box2 = SR,\n",
    "    Box2_name = \"(PR+PRpime)/2\",\n",
    "    Box3 = (PR+PRprime)/2,\n",
    "    Box3_name = \"(PR+I)/2\",\n",
    "    box_grid_size = 60\n",
    ")"
   ]
  },
  {
   "cell_type": "code",
   "execution_count": null,
   "metadata": {},
   "outputs": [],
   "source": []
  }
 ],
 "metadata": {
  "kernelspec": {
   "display_name": ".venv_boxes",
   "language": "python",
   "name": "python3"
  },
  "language_info": {
   "codemirror_mode": {
    "name": "ipython",
    "version": 3
   },
   "file_extension": ".py",
   "mimetype": "text/x-python",
   "name": "python",
   "nbconvert_exporter": "python",
   "pygments_lexer": "ipython3",
   "version": "3.9.12"
  },
  "orig_nbformat": 4,
  "vscode": {
   "interpreter": {
    "hash": "fc316f9929218361e7d645a202e8c2b79a1175dfee9b41dd9aa3806e9995da6b"
   }
  }
 },
 "nbformat": 4,
 "nbformat_minor": 2
}
