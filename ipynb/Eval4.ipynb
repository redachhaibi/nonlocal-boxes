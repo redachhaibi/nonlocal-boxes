{
 "cells": [
  {
   "cell_type": "code",
   "execution_count": null,
   "id": "67f8a8b8",
   "metadata": {},
   "outputs": [],
   "source": [
    "import numpy as np\n",
    "import random  # for the random wirings\n",
    "import time # to compare the algorithm timings\n",
    "import timeit"
   ]
  },
  {
   "attachments": {},
   "cell_type": "markdown",
   "id": "926ad4fa",
   "metadata": {},
   "source": [
    "> See the attached PDF for the meaning of the notations.\n",
    "\n",
    "Here $W$ is a matrix whose columns are wirings:"
   ]
  },
  {
   "cell_type": "code",
   "execution_count": null,
   "id": "a7524bf4",
   "metadata": {},
   "outputs": [],
   "source": [
    "import non_local_boxes\n",
    "\n",
    "# Sugar coating for reloading\n",
    "%matplotlib inline\n",
    "%load_ext autoreload\n",
    "%autoreload 2"
   ]
  },
  {
   "cell_type": "code",
   "execution_count": null,
   "id": "e6abb691",
   "metadata": {},
   "outputs": [],
   "source": [
    "nb_columns = 1000\n",
    "\n",
    "print( non_local_boxes.utils.random_wiring(nb_columns).shape)\n",
    "\n",
    "W_BS09 = np.tensordot(np.ones(nb_columns), non_local_boxes.utils.W_BS09, axes=0).T\n",
    "\n",
    "print(W_BS09.shape)"
   ]
  },
  {
   "cell_type": "markdown",
   "id": "d0692f0e",
   "metadata": {},
   "source": [
    "# I. Vectorialization"
   ]
  },
  {
   "attachments": {},
   "cell_type": "markdown",
   "id": "98700883",
   "metadata": {},
   "source": [
    "## 1.1. Definition of h"
   ]
  },
  {
   "cell_type": "code",
   "execution_count": null,
   "id": "028b5736",
   "metadata": {},
   "outputs": [],
   "source": [
    "\"\"\"def matrix_to_tensor(Matrix):\n",
    "    Tensor = np.zeros((2,2,2,2))\n",
    "    for i in range(4):\n",
    "        for j in range(4):\n",
    "            b = j%2\n",
    "            a = (j-b)//2\n",
    "            y = i%2\n",
    "            x = (i-y)//2\n",
    "            Tensor[a,b,x,y] = Matrix[i,j]\n",
    "    return Tensor\"\"\"\n",
    "\n",
    "def matrix_to_tensor(Matrix):\n",
    "    return np.transpose(np.reshape(Matrix, (2,2,2,2)), (2,3,0,1))"
   ]
  },
  {
   "cell_type": "code",
   "execution_count": null,
   "id": "c604f3cd",
   "metadata": {},
   "outputs": [],
   "source": [
    "\"\"\"CHSH = np.array([\n",
    "    [0.25, 0, 0, 0.25],\n",
    "    [0.25, 0, 0, 0.25],\n",
    "    [0.25, 0, 0, 0.25],\n",
    "    [0, 0.25, 0.25, 0]\n",
    "])\"\"\"\n",
    "\n",
    "CHSH = np.zeros((4,4))\n",
    "\n",
    "for a in range(2):\n",
    "    for b in range(2):\n",
    "        for x in range(2):\n",
    "            for y in range(2):\n",
    "                if (a+b)%2 == x*y:\n",
    "                    CHSH[2*x+y, 2*a+b]=0.25\n",
    "                    \n",
    "print(CHSH)"
   ]
  },
  {
   "cell_type": "code",
   "execution_count": null,
   "id": "c1098081",
   "metadata": {},
   "outputs": [],
   "source": [
    "CHSH_flat = matrix_to_tensor( CHSH ).flatten()\n",
    "#CHSH_flat = np.reshape(CHSH, (16))\n",
    "\n",
    "def h_flat(R):\n",
    "    R = np.reshape(R, (16, -1))\n",
    "    return np.dot( CHSH_flat, R )  # scalar product of CHSH and each column of R"
   ]
  },
  {
   "cell_type": "code",
   "execution_count": null,
   "id": "ea7b1fd1",
   "metadata": {},
   "outputs": [],
   "source": [
    "PR = np.zeros((4,4))\n",
    "for a in range(2):\n",
    "    for b in range(2):\n",
    "        for x in range(2):\n",
    "            for y in range(2):\n",
    "                if (a+b)%2 == x*y:\n",
    "                    PR[2*x+y, 2*a+b]=0.5\n",
    "                \n",
    "\n",
    "SR = np.zeros((4,4))\n",
    "for a in range(2):\n",
    "    for b in range(2):\n",
    "        for x in range(2):\n",
    "            for y in range(2):\n",
    "                if a==b:\n",
    "                    SR[2*x+y, 2*a+b]=0.5"
   ]
  },
  {
   "cell_type": "code",
   "execution_count": null,
   "id": "0d8abb6a",
   "metadata": {},
   "outputs": [],
   "source": [
    "h_flat(matrix_to_tensor(PR))"
   ]
  },
  {
   "cell_type": "code",
   "execution_count": null,
   "id": "f9ca3c51",
   "metadata": {},
   "outputs": [],
   "source": [
    "h_flat(matrix_to_tensor(SR))"
   ]
  },
  {
   "cell_type": "markdown",
   "id": "54431e5b",
   "metadata": {},
   "source": [
    "## 1.2. Computation of A(W)"
   ]
  },
  {
   "cell_type": "code",
   "execution_count": null,
   "id": "51a1d17f",
   "metadata": {},
   "outputs": [],
   "source": [
    "# A1 is a 2x4x4x32-tensor\n",
    "A1 = np.zeros( (2, 4, 4, 32) )\n",
    "\n",
    "for x in range(2):\n",
    "    for j in range(4):\n",
    "        \n",
    "        sign = 1\n",
    "        if j >= 2:\n",
    "            sign=-1\n",
    "            \n",
    "        A1[x, 0, j, 0] = sign*(x-1)\n",
    "        A1[x, 1, j, 0] = sign*(x-1)\n",
    "        A1[x, 2, j, 1] = sign*(x-1)\n",
    "        A1[x, 3, j, 1] = sign*(x-1)\n",
    "        \n",
    "        A1[x, 0, j, 2] = sign*(-x)\n",
    "        A1[x, 1, j, 2] = sign*(-x)\n",
    "        A1[x, 2, j, 3] = sign*(-x)\n",
    "        A1[x, 3, j, 3] = sign*(-x)\n",
    "\n",
    "#print(A1)"
   ]
  },
  {
   "cell_type": "code",
   "execution_count": null,
   "id": "59fb91ca",
   "metadata": {},
   "outputs": [],
   "source": [
    "# A2 is a 2x4x4xnb_columns-tensor\n",
    "A2 = np.zeros( (2, 4, 4, nb_columns) )\n",
    "\n",
    "for x in range(2):\n",
    "    for i in range(4):\n",
    "        for k in range(4):\n",
    "            for alpha in range(nb_columns):\n",
    "                if k<=1:\n",
    "                    A2[x, i, k]=1\n",
    "\n",
    "#print(A2)"
   ]
  },
  {
   "cell_type": "code",
   "execution_count": null,
   "id": "4f322e80",
   "metadata": {},
   "outputs": [],
   "source": [
    "\"\"\"W_BS09 = [0, 0, 1, 1,              # f_1(x, a_2) = x\n",
    "          0, 0, 1, 1,              # g_1(y, b_2) = y\n",
    "          0, 0, 0, 1,              # f_2(x, a_1) = a_1*x\n",
    "          0, 0, 0, 1,              # g_2(y, b_1) = b_1*y\n",
    "          0, 1, 1, 0, 0, 1, 1, 0,  # f_3(x, a_1, a_2) = a_1 + a_2 mod 2\n",
    "          0, 1, 1, 0, 0, 1, 1, 0   # g_3(y, b_1, b_2) = b_1 + b_2 mod 2\n",
    "         ]\"\"\"\n",
    "\n",
    "(np.tensordot(A1, random_wiring(), axes=([3, 0])) + A2).shape"
   ]
  },
  {
   "attachments": {},
   "cell_type": "markdown",
   "id": "2ded4c76",
   "metadata": {},
   "source": [
    "-> This is indeed the wanted result"
   ]
  },
  {
   "cell_type": "code",
   "execution_count": null,
   "id": "90d4eb3e",
   "metadata": {},
   "outputs": [],
   "source": [
    "# A3 is a 2x4x4x32-tensor\n",
    "A3 = np.zeros( (2, 4, 4, 32) )\n",
    "\n",
    "for y in range(2):\n",
    "    for j in range(4):\n",
    "        \n",
    "        sign = 1\n",
    "        if j==1 or j==3:\n",
    "            sign=-1\n",
    "            \n",
    "        A3[y, 0, j, 0 +4] = sign*(y-1)\n",
    "        A3[y, 2, j, 0 +4] = sign*(y-1)\n",
    "        A3[y, 1, j, 1 +4] = sign*(y-1)\n",
    "        A3[y, 3, j, 1 +4] = sign*(y-1)\n",
    "        \n",
    "        A3[y, 0, j, 2 +4] = sign*(-y)\n",
    "        A3[y, 2, j, 2 +4] = sign*(-y)\n",
    "        A3[y, 1, j, 3 +4] = sign*(-y)\n",
    "        A3[y, 3, j, 3 +4] = sign*(-y)\n",
    "        \n",
    "#print(A3)"
   ]
  },
  {
   "cell_type": "code",
   "execution_count": null,
   "id": "9a002060",
   "metadata": {},
   "outputs": [],
   "source": [
    "# A4 is a 2x4x4xnb_columns-tensor\n",
    "A4 = np.zeros( (2, 4, 4, nb_columns) )\n",
    "\n",
    "for y in range(2):\n",
    "    for i in range(4):\n",
    "        for k in range(4):\n",
    "            for alpha in range(nb_columns):\n",
    "                if k==0 or k==2:\n",
    "                    A4[y, i, k]=1\n",
    "                \n",
    "#print(A4)"
   ]
  },
  {
   "cell_type": "code",
   "execution_count": null,
   "id": "30baf205",
   "metadata": {},
   "outputs": [],
   "source": [
    "(np.tensordot(A3, random_wiring(), axes=([3, 0])) + A4).shape"
   ]
  },
  {
   "attachments": {},
   "cell_type": "markdown",
   "id": "f4c8307b",
   "metadata": {},
   "source": [
    "-> We indeed obtain the wanted result.\n",
    "\n",
    "We obtain $A(W)$:"
   ]
  },
  {
   "cell_type": "code",
   "execution_count": null,
   "id": "6b2a6c8d",
   "metadata": {},
   "outputs": [],
   "source": [
    "def A(W):  # W is a vector with 32 entries\n",
    "    T1 = np.tensordot(A1, W, axes=([3, 0])) + A2\n",
    "    T2 = np.tensordot(np.ones((2)), T1, axes=0)\n",
    "    T3 = np.transpose(T2, (1,0,2,3,4))\n",
    "    S1 = np.tensordot(A3, W, axes=([3, 0])) + A4\n",
    "    S2 = np.tensordot(np.ones((2)), S1, axes=0)\n",
    "    return np.transpose(T3 * S2, (0,1,4,2,3))\n",
    "\n",
    "A(random_wiring()).shape\n",
    "    "
   ]
  },
  {
   "cell_type": "markdown",
   "id": "0758693a",
   "metadata": {},
   "source": [
    "-> This is the wanted result."
   ]
  },
  {
   "cell_type": "markdown",
   "id": "fe947858",
   "metadata": {},
   "source": [
    "## 1.3. Definition of B(W)"
   ]
  },
  {
   "cell_type": "code",
   "execution_count": null,
   "id": "d92ef45d",
   "metadata": {},
   "outputs": [],
   "source": [
    "# B1 is a 2x4x4x32-tensor\n",
    "B1 = np.zeros( (2, 4, 4, 32) )\n",
    "\n",
    "for x in range(2):\n",
    "    for l in range(4):\n",
    "        \n",
    "        sign = 1\n",
    "        if l>=2:\n",
    "            sign=-1\n",
    "            \n",
    "        B1[x, 0, l, 0 +8] = sign * (x-1)\n",
    "        B1[x, 1, l, 0 +8] = sign * (x-1)\n",
    "        B1[x, 2, l, 1 +8] = sign * (x-1)\n",
    "        B1[x, 3, l, 1 +8] = sign * (x-1)\n",
    "        \n",
    "        B1[x, 0, l, 2 +8] = sign * (-x)\n",
    "        B1[x, 1, l, 2 +8] = sign * (-x)\n",
    "        B1[x, 2, l, 3 +8] = sign * (-x)\n",
    "        B1[x, 3, l, 3 +8] = sign * (-x)\n",
    "\n",
    "#print(B1)"
   ]
  },
  {
   "cell_type": "code",
   "execution_count": null,
   "id": "5bf26b2e",
   "metadata": {},
   "outputs": [],
   "source": [
    "# B2 is equal to A2\n",
    "B2 = A2\n",
    "\n",
    "#print(B2)"
   ]
  },
  {
   "cell_type": "code",
   "execution_count": null,
   "id": "ab0b6308",
   "metadata": {},
   "outputs": [],
   "source": [
    "# B3 is a 2x4x4x32-tensor\n",
    "B3 = np.zeros( (2, 4, 4, 32) )\n",
    "\n",
    "for y in range(2):\n",
    "    for l in range(4):\n",
    "        \n",
    "        sign=1\n",
    "        if l==1 or l==3:\n",
    "            sign=-1\n",
    "        \n",
    "        B3[y, 0, l, 0 +12] = sign * (y-1)\n",
    "        B3[y, 2, l, 0 +12] = sign * (y-1)\n",
    "        B3[y, 1, l, 1 +12] = sign * (y-1)\n",
    "        B3[y, 3, l, 1 +12] = sign * (y-1)\n",
    "        \n",
    "        B3[y, 0, l, 2 +12] = sign * (-y)\n",
    "        B3[y, 2, l, 2 +12] = sign * (-y)\n",
    "        B3[y, 1, l, 3 +12] = sign * (-y)\n",
    "        B3[y, 3, l, 3 +12] = sign * (-y)\n",
    "\n",
    "#print(B3)"
   ]
  },
  {
   "cell_type": "code",
   "execution_count": null,
   "id": "37678800",
   "metadata": {},
   "outputs": [],
   "source": [
    "# B4 is equal to A4\n",
    "B4 = A4\n",
    "\n",
    "#print(B4)"
   ]
  },
  {
   "cell_type": "code",
   "execution_count": null,
   "id": "dbbd9067",
   "metadata": {},
   "outputs": [],
   "source": [
    "def B(W):   # W is a vector with 32 entries\n",
    "    T1 = np.tensordot(B1, W, axes=([3, 0])) + B2\n",
    "    T2 = np.tensordot(np.ones((2)), T1, axes=0)\n",
    "    T3 = np.transpose(T2, (1,0,2,3,4))\n",
    "    S1 = np.tensordot(B3, W, axes=([3, 0])) + B4\n",
    "    S2 = np.tensordot(np.ones((2)), S1, axes=0)\n",
    "    return np.transpose(T3 * S2, (0,1,4,2,3))\n",
    "\n",
    "B(random_wiring()).shape\n"
   ]
  },
  {
   "cell_type": "markdown",
   "id": "05719ec3",
   "metadata": {},
   "source": [
    "-> This is the wanted result."
   ]
  },
  {
   "cell_type": "markdown",
   "id": "d2142b2e",
   "metadata": {},
   "source": [
    "## 1.4. Definition of C(W)"
   ]
  },
  {
   "cell_type": "code",
   "execution_count": null,
   "id": "8e03ce46",
   "metadata": {},
   "outputs": [],
   "source": [
    "# C1 is a 2x2x4x4x32-tensor\n",
    "C1 = np.zeros( (2, 2, 4, 4, 32) )\n",
    "\n",
    "for a in range(2):\n",
    "    for x in range(2):\n",
    "        for j in range(4):\n",
    "            if j<=1:\n",
    "                C1[a, x, 0, j, 0 +16] = -(1-x) * (-1)**a\n",
    "                C1[a, x, 1, j, 0 +16] = -(1-x) * (-1)**a\n",
    "                C1[a, x, 2, j, 1 +16] = -(1-x) * (-1)**a\n",
    "                C1[a, x, 3, j, 1 +16] = -(1-x) * (-1)**a\n",
    "                \n",
    "                C1[a, x, 0, j, 4 +16] = -(x) * (-1)**a\n",
    "                C1[a, x, 1, j, 4 +16] = -(x) * (-1)**a\n",
    "                C1[a, x, 2, j, 5 +16] = -(x) * (-1)**a\n",
    "                C1[a, x, 3, j, 5 +16] = -(x) * (-1)**a\n",
    "            \n",
    "            if j>=2:\n",
    "                C1[a, x, 0, j, 0 +18] = -(1-x) * (-1)**a\n",
    "                C1[a, x, 1, j, 0 +18] = -(1-x) * (-1)**a\n",
    "                C1[a, x, 2, j, 1 +18] = -(1-x) * (-1)**a\n",
    "                C1[a, x, 3, j, 1 +18] = -(1-x) * (-1)**a\n",
    "                \n",
    "                C1[a, x, 0, j, 4 +18] = -(x) * (-1)**a\n",
    "                C1[a, x, 1, j, 4 +18] = -(x) * (-1)**a\n",
    "                C1[a, x, 2, j, 5 +18] = -(x) * (-1)**a\n",
    "                C1[a, x, 3, j, 5 +18] = -(x) * (-1)**a\n",
    "                \n",
    "\n",
    "#print(C1)"
   ]
  },
  {
   "cell_type": "code",
   "execution_count": null,
   "id": "78f67170",
   "metadata": {},
   "outputs": [],
   "source": [
    "np.tensordot(C1, random_wiring(), axes=([4, 0])).shape"
   ]
  },
  {
   "attachments": {},
   "cell_type": "markdown",
   "id": "331f9711",
   "metadata": {},
   "source": [
    "-> This is indeed the expected result."
   ]
  },
  {
   "cell_type": "code",
   "execution_count": null,
   "id": "34fbf432",
   "metadata": {},
   "outputs": [],
   "source": [
    "# C2 is a 2x2x4x4xnb_columns-tensor\n",
    "C2 = np.zeros( (2, 2, 4, 4, nb_columns) )\n",
    "\n",
    "for x in range(2):\n",
    "    for i in range(4):\n",
    "        for j in range(4):\n",
    "            for alpha in range(nb_columns):\n",
    "                C2[0, x, i, j]=1\n",
    "            \n",
    "print(C2.shape)"
   ]
  },
  {
   "cell_type": "markdown",
   "id": "b94e16dc",
   "metadata": {},
   "source": [
    "---\n",
    "#### Kronecker product:"
   ]
  },
  {
   "cell_type": "code",
   "execution_count": null,
   "id": "57450ccd",
   "metadata": {},
   "outputs": [],
   "source": [
    "v = np.arange(4).reshape(2,2)\n",
    "w = np.ones((3, 3))\n",
    "\n",
    "print(np.tensordot(w, v, axes=0))"
   ]
  },
  {
   "cell_type": "markdown",
   "id": "bb593eaa",
   "metadata": {},
   "source": [
    "#### Permute some entries of a tensor:"
   ]
  },
  {
   "cell_type": "code",
   "execution_count": null,
   "id": "8ae8f02f",
   "metadata": {},
   "outputs": [],
   "source": [
    "x = np.ones((480, 640, 3, 42))\n",
    "np.transpose(x, (1, 3, 2, 0)).shape  # the new 0 is the old 1\n",
    "                                     # the new 1 is the old 3\n",
    "                                     # 2 stays 2\n",
    "                                     # the new 3 is the old 0"
   ]
  },
  {
   "cell_type": "markdown",
   "id": "30d2ef37",
   "metadata": {},
   "source": [
    "---"
   ]
  },
  {
   "cell_type": "code",
   "execution_count": null,
   "id": "6ebde0a5",
   "metadata": {},
   "outputs": [],
   "source": [
    "def C(W):    # W is a vector with 32 entries\n",
    "    T1 = np.tensordot(C1, W, axes=([4, 0])) + C2\n",
    "    T2 = np.tensordot( np.ones((2,2)), T1, axes=0)  # Kronecker product\n",
    "    return np.transpose(T2, (2, 0, 3, 1, 6, 4, 5))\n",
    "\n",
    "C(random_wiring()).shape"
   ]
  },
  {
   "cell_type": "markdown",
   "id": "93eec032",
   "metadata": {},
   "source": [
    "-> It seems good"
   ]
  },
  {
   "cell_type": "markdown",
   "id": "5f5ca95c",
   "metadata": {},
   "source": [
    "## 1.5. Definition of D(W)"
   ]
  },
  {
   "cell_type": "code",
   "execution_count": null,
   "id": "8419e1c0",
   "metadata": {},
   "outputs": [],
   "source": [
    "# D1 is a 2x2x4x4x32-tensor\n",
    "D1 = np.zeros( (2, 2, 4, 4, 32) )\n",
    "\n",
    "for b in range(2):\n",
    "    for y in range(2):\n",
    "        for j in range(4):\n",
    "            if j==0 or j==2:\n",
    "                D1[b, y, 0, j, 0 + 24] = -(1-y) * (-1)**b\n",
    "                D1[b, y, 2, j, 0 + 24] = -(1-y) * (-1)**b\n",
    "                D1[b, y, 1, j, 1 + 24] = -(1-y) * (-1)**b\n",
    "                D1[b, y, 3, j, 1 + 24] = -(1-y) * (-1)**b\n",
    "                \n",
    "                D1[b, y, 0, j, 4 + 24] = -(y) * (-1)**b\n",
    "                D1[b, y, 2, j, 4 + 24] = -(y) * (-1)**b\n",
    "                D1[b, y, 1, j, 5 + 24] = -(y) * (-1)**b\n",
    "                D1[b, y, 3, j, 5 + 24] = -(y) * (-1)**b\n",
    "            \n",
    "            if j==1 or j==3:\n",
    "                D1[b, y, 0, j, 0 + 26] = -(1-y) * (-1)**b\n",
    "                D1[b, y, 2, j, 0 + 26] = -(1-y) * (-1)**b\n",
    "                D1[b, y, 1, j, 1 + 26] = -(1-y) * (-1)**b\n",
    "                D1[b, y, 3, j, 1 + 26] = -(1-y) * (-1)**b\n",
    "                \n",
    "                D1[b, y, 0, j, 4 + 26] = -(y) * (-1)**b\n",
    "                D1[b, y, 2, j, 4 + 26] = -(y) * (-1)**b\n",
    "                D1[b, y, 1, j, 5 + 26] = -(y) * (-1)**b\n",
    "                D1[b, y, 3, j, 5 + 26] = -(y) * (-1)**b\n",
    "\n",
    "#print(D1)"
   ]
  },
  {
   "cell_type": "code",
   "execution_count": null,
   "id": "662cf851",
   "metadata": {},
   "outputs": [],
   "source": [
    "np.tensordot(D1, random_wiring(), axes=([4, 0])).shape"
   ]
  },
  {
   "attachments": {},
   "cell_type": "markdown",
   "id": "05c1be9d",
   "metadata": {},
   "source": [
    "-> This is indeed the wanted result."
   ]
  },
  {
   "cell_type": "code",
   "execution_count": null,
   "id": "46df06cf",
   "metadata": {},
   "outputs": [],
   "source": [
    "# D2 is a 2x2x4x4xnb_columns-tensor\n",
    "D2 = np.zeros( (2, 2, 4, 4, nb_columns) )\n",
    "\n",
    "for y in range(2):\n",
    "    for i in range(4):\n",
    "        for j in range(4):\n",
    "            for alpha in range(nb_columns):\n",
    "                D2[0, y, i, j] = 1\n",
    "\n",
    "#print(D2)"
   ]
  },
  {
   "cell_type": "code",
   "execution_count": null,
   "id": "f75d1d6a",
   "metadata": {},
   "outputs": [],
   "source": [
    "def D(W):    # W is a vector with 32 entries\n",
    "    T1 = np.tensordot(D1, W, axes=([4, 0])) + D2\n",
    "    T2 = np.tensordot( np.ones((2,2)), T1, axes=0)  # Kronecker product\n",
    "    return np.transpose(T2, (0, 2, 1, 3, 6, 4, 5))\n",
    "\n",
    "D(random_wiring()).shape"
   ]
  },
  {
   "cell_type": "markdown",
   "id": "1efb8035",
   "metadata": {},
   "source": [
    "-> It seems good!"
   ]
  },
  {
   "cell_type": "markdown",
   "id": "dfd89542",
   "metadata": {},
   "source": [
    "## 1.6. Product of Boxes $R(W, P, Q) = P \\boxtimes_W Q$"
   ]
  },
  {
   "cell_type": "code",
   "execution_count": null,
   "id": "ba186c0a",
   "metadata": {},
   "outputs": [],
   "source": [
    "def R(W, P, Q):\n",
    "    T1 = np.tensordot(A(W), P, axes=([4, 0]))  # green term\n",
    "    T2 = np.transpose(np.tensordot(B(W), Q, axes=([4, 0])), (0,1,2,4,3))  # blue term\n",
    "    T3 = np.tensordot(np.ones((2,2)), T1*T2, axes = 0)   # Kronecker product\n",
    "    T4 = T3 * C(W) * D(W)  # the big bracket\n",
    "    T5 = np.tensordot(T4, np.ones((4)), axes=([6, 0]))\n",
    "    return np.tensordot(T5, np.ones((4)), axes = ([5,0]))"
   ]
  },
  {
   "cell_type": "code",
   "execution_count": null,
   "id": "6ef8dcd1",
   "metadata": {},
   "outputs": [],
   "source": [
    "R(random_wiring(), PR, SR).shape"
   ]
  },
  {
   "cell_type": "code",
   "execution_count": null,
   "id": "670e7a5f",
   "metadata": {},
   "outputs": [],
   "source": [
    "R(W_BS09, PR, SR)[:,:,:,:,0].shape"
   ]
  },
  {
   "cell_type": "code",
   "execution_count": null,
   "id": "1d12e7db",
   "metadata": {},
   "outputs": [],
   "source": [
    "np.reshape(R(W_BS09, PR, SR), (16, nb_columns)).shape"
   ]
  },
  {
   "cell_type": "markdown",
   "id": "27586af2",
   "metadata": {},
   "source": [
    "## 1.7. Write R as a matrix"
   ]
  },
  {
   "cell_type": "code",
   "execution_count": null,
   "id": "d1277c8a",
   "metadata": {},
   "outputs": [],
   "source": [
    "def tensor_to_matrix(Tensor):\n",
    "    Matrix = np.zeros((4,4))\n",
    "    for a in range(2):\n",
    "        for b in range(2):\n",
    "            for x in range(2):\n",
    "                for y in range(2):\n",
    "                    Matrix[2*x+y, 2*a+b] = Tensor[a, b, x, y]\n",
    "    return Matrix"
   ]
  },
  {
   "cell_type": "code",
   "execution_count": null,
   "id": "adb99d4a",
   "metadata": {},
   "outputs": [],
   "source": [
    "def matrix_to_tensor(Matrix):\n",
    "    Tensor = np.zeros((2,2,2,2))\n",
    "    for i in range(4):\n",
    "        for j in range(4):\n",
    "            b = j%2\n",
    "            a = (j-b)//2\n",
    "            y = i%2\n",
    "            x = (i-y)//2\n",
    "            Tensor[a,b,x,y] = Matrix[i,j]\n",
    "    return Tensor"
   ]
  },
  {
   "cell_type": "code",
   "execution_count": null,
   "id": "3130a142",
   "metadata": {},
   "outputs": [],
   "source": [
    "tensor_to_matrix(matrix_to_tensor(PR)) == PR"
   ]
  },
  {
   "cell_type": "code",
   "execution_count": null,
   "id": "f6f4c5bd",
   "metadata": {},
   "outputs": [],
   "source": [
    "tensor_to_matrix(matrix_to_tensor(SR)) == SR"
   ]
  },
  {
   "cell_type": "code",
   "execution_count": null,
   "id": "7b46689d",
   "metadata": {},
   "outputs": [],
   "source": [
    "matrix_to_tensor(tensor_to_matrix(R(W_BS09, PR, SR)[:,:,:,:,0])) == R(W_BS09, PR, SR)[:,:,:,:,0]"
   ]
  },
  {
   "cell_type": "code",
   "execution_count": null,
   "id": "58e0bb07",
   "metadata": {},
   "outputs": [],
   "source": [
    "tensor_to_matrix(R(W_BS09, PR, SR)[:,:,:,:,0]) == PR"
   ]
  },
  {
   "cell_type": "code",
   "execution_count": null,
   "id": "2bc6de86",
   "metadata": {},
   "outputs": [],
   "source": [
    "tensor_to_matrix(R(W_BS09, PR, PR)[:,:,:,:,0]) == PR"
   ]
  },
  {
   "cell_type": "markdown",
   "id": "0e5d4147",
   "metadata": {},
   "source": [
    "## 1.8. Function to maximize"
   ]
  },
  {
   "cell_type": "code",
   "execution_count": null,
   "id": "08834632",
   "metadata": {},
   "outputs": [],
   "source": [
    "def phi_flat(W, P, Q):\n",
    "    # W is a vector in R^32\n",
    "    # P is a box: a 4x4-matrix\n",
    "    # Q is a box: a 4x4-matrix\n",
    "    \n",
    "    return h_flat( R(W,P,Q) )"
   ]
  },
  {
   "cell_type": "code",
   "execution_count": null,
   "id": "c9b9a594",
   "metadata": {},
   "outputs": [],
   "source": [
    "phi_flat(W_BS09, PR, PR)"
   ]
  },
  {
   "attachments": {},
   "cell_type": "markdown",
   "id": "5a3a1991",
   "metadata": {},
   "source": [
    "This is the expected result"
   ]
  },
  {
   "cell_type": "code",
   "execution_count": null,
   "id": "ac324307",
   "metadata": {},
   "outputs": [],
   "source": [
    "phi_flat(W_BS09, SR, SR)"
   ]
  },
  {
   "cell_type": "code",
   "execution_count": null,
   "id": "e91735c6",
   "metadata": {},
   "outputs": [],
   "source": [
    "start_time = time.time()\n",
    "phi_flat(W_BS09, PR, PR)\n",
    "\n",
    "print(\"\")\n",
    "print(\"Single evaluation\")\n",
    "print(\"Duration: --- %s ms ---\" % (1e3*(time.time() - start_time)) )\n",
    "\n",
    "count=int(1e4)\n",
    "print(\"\")\n",
    "print(\"Multiple evaluations (flat): \", count)\n",
    "counter = timeit.timeit(lambda: phi_flat(W_BS09, PR, PR), number=count)\n",
    "print( \"Average per evaluation: %s ms\" % (1e3*counter/count) )"
   ]
  },
  {
   "cell_type": "code",
   "execution_count": null,
   "id": "feb4b70d",
   "metadata": {},
   "outputs": [],
   "source": [
    "start_time = time.time()\n",
    "result = phi_flat( random_wiring(), PR, PR)\n",
    "\n",
    "print(\"\")\n",
    "print(\"Single evaluation\")\n",
    "print(\"Duration: --- %s ms ---\" % (1e3*(time.time() - start_time)) )\n",
    "\n",
    "count=int(1e3)\n",
    "print(\"\")\n",
    "print(\"Multiple evaluations (flat): \", count)\n",
    "counter = timeit.timeit(lambda: phi_flat(random_wiring(), PR, PR), number=count)\n",
    "print( \"Average per evaluation: %s ms\" % (1e3*counter/count) )"
   ]
  },
  {
   "cell_type": "code",
   "execution_count": null,
   "id": "dd6c62c5",
   "metadata": {},
   "outputs": [],
   "source": [
    "maxi = 0\n",
    "mean = 0\n",
    "for i in range(1000):\n",
    "    result = phi_flat( random_wiring(), PR, PR)\n",
    "    maxi = max( maxi, np.max( result ) )\n",
    "    mean = np.mean( result )\n",
    "    print( \"Absolute max: \", maxi, \"Mean: \", mean)"
   ]
  },
  {
   "cell_type": "markdown",
   "id": "44fcc341",
   "metadata": {},
   "source": [
    "## 1.9. Some other boxes"
   ]
  },
  {
   "cell_type": "code",
   "execution_count": null,
   "id": "a643ead7",
   "metadata": {},
   "outputs": [],
   "source": [
    "def P_L(mu, nu, sigma, tau):\n",
    "    new_box = np.zeros((4,4))\n",
    "    \n",
    "    for a in range(2):\n",
    "        for b in range(2):\n",
    "            for x in range(2):\n",
    "                for y in range(2):\n",
    "                    if a==(mu*x+nu)%2 and b==(sigma*y+tau)%2:\n",
    "                        new_box[2*x+y, 2*a+b] = 1\n",
    "                        \n",
    "    return new_box\n",
    "                        "
   ]
  },
  {
   "cell_type": "code",
   "execution_count": null,
   "id": "017e68a0",
   "metadata": {},
   "outputs": [],
   "source": [
    "P_0 = P_L(0,0,0,0)\n",
    "P_1 = P_L(0,1,0,1)"
   ]
  },
  {
   "cell_type": "code",
   "execution_count": null,
   "id": "7804e8b8",
   "metadata": {},
   "outputs": [],
   "source": [
    "def P_NL(mu, nu, sigma):\n",
    "    new_box = np.zeros((4,4))\n",
    "    \n",
    "    for a in range(2):\n",
    "        for b in range(2):\n",
    "            for x in range(2):\n",
    "                for y in range(2):\n",
    "                    if (a+b)%2==(x*y + mu*x + nu*y + sigma)%2:\n",
    "                        new_box[2*x+y, 2*a+b] = 0.5\n",
    "                        \n",
    "    return new_box"
   ]
  },
  {
   "cell_type": "code",
   "execution_count": null,
   "id": "2d6ebdcd",
   "metadata": {},
   "outputs": [],
   "source": [
    "P_NL(0,0,0) == PR"
   ]
  },
  {
   "cell_type": "code",
   "execution_count": null,
   "id": "e4af9844",
   "metadata": {},
   "outputs": [],
   "source": [
    "PRbar = P_NL(0,0,1)\n",
    "I = 0.25*np.ones((4,4))\n",
    "SRbar = 2*I-SR\n",
    "(PRbar/2 + PR/2)==I"
   ]
  },
  {
   "cell_type": "code",
   "execution_count": null,
   "id": "0b1ed0ee",
   "metadata": {},
   "outputs": [],
   "source": [
    "def corNLB(p):\n",
    "    return p*PR + (1-p)*SR"
   ]
  },
  {
   "cell_type": "code",
   "execution_count": null,
   "id": "8fa86dfe",
   "metadata": {},
   "outputs": [],
   "source": [
    "p=random.random()\n",
    "\n",
    "h_flat(matrix_to_tensor(corNLB(p))) == (p+3)/4"
   ]
  },
  {
   "cell_type": "code",
   "execution_count": null,
   "id": "c5cefdca",
   "metadata": {},
   "outputs": [],
   "source": [
    "p=random.random()\n",
    "\n",
    "tensor_to_matrix(R(W_BS09, PR, corNLB(p))[:,:,:,:,0]) == PR"
   ]
  },
  {
   "cell_type": "code",
   "execution_count": null,
   "id": "25eb76db",
   "metadata": {},
   "outputs": [],
   "source": [
    "p=random.random()\n",
    "\n",
    "tensor_to_matrix(R(W_BS09, corNLB(p), PR)[:,:,:,:,0]) == p*PR + (1-p)*(PR+SR)/2"
   ]
  },
  {
   "cell_type": "code",
   "execution_count": null,
   "id": "9c7008f7",
   "metadata": {},
   "outputs": [],
   "source": [
    "p=random.random()\n",
    "\n",
    "tensor_to_matrix(R(W_BS09, corNLB(p), PRbar)[:,:,:,:,0]) == p*PRbar + (1-p)*(PRbar+SRbar)/2\n"
   ]
  },
  {
   "cell_type": "code",
   "execution_count": null,
   "id": "371b0b81",
   "metadata": {},
   "outputs": [],
   "source": [
    "p=random.random()\n",
    "\n",
    "tensor_to_matrix(R(W_BS09, corNLB(p), SRbar)[:,:,:,:,0]) == p*PRbar + (1-p)*(SRbar)\n"
   ]
  },
  {
   "cell_type": "code",
   "execution_count": null,
   "id": "667b2333",
   "metadata": {},
   "outputs": [],
   "source": []
  },
  {
   "cell_type": "code",
   "execution_count": null,
   "id": "ec923280",
   "metadata": {},
   "outputs": [],
   "source": [
    "import torch"
   ]
  },
  {
   "cell_type": "code",
   "execution_count": null,
   "id": "a98c83cd",
   "metadata": {},
   "outputs": [],
   "source": [
    "x = torch.tensor( [2,2] )\n",
    "print( x )"
   ]
  }
 ],
 "metadata": {
  "kernelspec": {
   "display_name": ".venv_boxes",
   "language": "python",
   "name": "python3"
  },
  "language_info": {
   "codemirror_mode": {
    "name": "ipython",
    "version": 3
   },
   "file_extension": ".py",
   "mimetype": "text/x-python",
   "name": "python",
   "nbconvert_exporter": "python",
   "pygments_lexer": "ipython3",
   "version": "3.10.6"
  },
  "vscode": {
   "interpreter": {
    "hash": "b68ffec917ae6ebf4bd5863906bf0af29d2e2876ab6f3fbdfa50359afc577f72"
   }
  }
 },
 "nbformat": 4,
 "nbformat_minor": 5
}
