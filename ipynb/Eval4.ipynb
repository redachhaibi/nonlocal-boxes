{
 "cells": [
  {
   "cell_type": "code",
   "execution_count": 1,
   "id": "67f8a8b8",
   "metadata": {},
   "outputs": [],
   "source": [
    "import numpy as np\n",
    "import random  # for the random wirings\n",
    "import time # to compare the algorithm timings\n",
    "import timeit"
   ]
  },
  {
   "cell_type": "code",
   "execution_count": 2,
   "id": "a7524bf4",
   "metadata": {},
   "outputs": [],
   "source": [
    "import non_local_boxes\n",
    "\n",
    "# Sugar coating for reloading\n",
    "%matplotlib inline\n",
    "%load_ext autoreload\n",
    "%autoreload 2"
   ]
  },
  {
   "cell_type": "code",
   "execution_count": null,
   "id": "b01949a4",
   "metadata": {},
   "outputs": [],
   "source": [
    "W = non_local_boxes.utils.W_BS09(non_local_boxes.evaluate.nb_columns)\n",
    "P = non_local_boxes.utils.PR\n",
    "Q = non_local_boxes.utils.SR\n",
    "\n",
    "\n",
    "#non_local_boxes.evaluate.R(W, P, Q)[:,:,:,:,0] == non_local_boxes.utils.matrix_to_tensor(P)\n",
    "non_local_boxes.evaluate.phi_flat(W, P, Q)"
   ]
  },
  {
   "cell_type": "code",
   "execution_count": null,
   "id": "448ff302",
   "metadata": {},
   "outputs": [],
   "source": [
    "coeff = random.random()\n",
    "P = non_local_boxes.utils.matrix_to_tensor(non_local_boxes.utils.corNLB(coeff))\n",
    "\n",
    "non_local_boxes.evaluate.h_flat(P) == (coeff+3)/4"
   ]
  },
  {
   "attachments": {},
   "cell_type": "markdown",
   "id": "0e5d4147",
   "metadata": {},
   "source": [
    "## Timing"
   ]
  },
  {
   "cell_type": "code",
   "execution_count": null,
   "id": "e91735c6",
   "metadata": {},
   "outputs": [],
   "source": [
    "W = non_local_boxes.utils.W_BS09(non_local_boxes.evaluate.nb_columns)\n",
    "P = non_local_boxes.utils.PR\n",
    "Q = non_local_boxes.utils.PR\n",
    "\n",
    "start_time = time.time()\n",
    "non_local_boxes.evaluate.phi_flat(W, P, Q)\n",
    "\n",
    "print(\"\")\n",
    "print(\"Single evaluation\")\n",
    "print(\"Duration: --- %s ms ---\" % (1e3*(time.time() - start_time)) )\n",
    "\n",
    "count=int(1e4)\n",
    "print(\"\")\n",
    "print(\"Multiple evaluations (flat): \", count)\n",
    "counter = timeit.timeit(lambda: non_local_boxes.evaluate.phi_flat(W, P, Q), number=count)\n",
    "print( \"Average per evaluation: %s ms\" % (1e3*counter/count) )"
   ]
  },
  {
   "attachments": {},
   "cell_type": "markdown",
   "id": "e29be0d1",
   "metadata": {},
   "source": [
    "# Random Extremal Point"
   ]
  },
  {
   "cell_type": "code",
   "execution_count": 4,
   "id": "b6808012",
   "metadata": {},
   "outputs": [
    {
     "ename": "ValueError",
     "evalue": "operands could not be broadcast together with shapes (2,4,4,100) (2,4,4,1000) ",
     "output_type": "error",
     "traceback": [
      "\u001b[0;31m---------------------------------------------------------------------------\u001b[0m",
      "\u001b[0;31mValueError\u001b[0m                                Traceback (most recent call last)",
      "Cell \u001b[0;32mIn[4], line 5\u001b[0m\n\u001b[1;32m      2\u001b[0m P \u001b[39m=\u001b[39m non_local_boxes\u001b[39m.\u001b[39mutils\u001b[39m.\u001b[39mcorNLB(\u001b[39m0.5\u001b[39m)\n\u001b[1;32m      3\u001b[0m Q \u001b[39m=\u001b[39m P\n\u001b[0;32m----> 5\u001b[0m non_local_boxes\u001b[39m.\u001b[39;49mevaluate\u001b[39m.\u001b[39;49mphi_flat(W, P, Q)\n",
      "File \u001b[0;32m~/Desktop/PhD/0- LaTeX/1- Article M2 - Algèbre des boîtes/Code/nonlocal-boxes/non_local_boxes/evaluate.py:289\u001b[0m, in \u001b[0;36mphi_flat\u001b[0;34m(W, P, Q)\u001b[0m\n\u001b[1;32m    284\u001b[0m \u001b[39mdef\u001b[39;00m \u001b[39mphi_flat\u001b[39m(W, P, Q):\n\u001b[1;32m    285\u001b[0m     \u001b[39m# W is a 32xn matrix\u001b[39;00m\n\u001b[1;32m    286\u001b[0m     \u001b[39m# P is a box: a 4x4 matrix\u001b[39;00m\n\u001b[1;32m    287\u001b[0m     \u001b[39m# Q is a box: a 4x4 matrix\u001b[39;00m\n\u001b[0;32m--> 289\u001b[0m     \u001b[39mreturn\u001b[39;00m h_flat( R(W,P,Q) )\n",
      "File \u001b[0;32m~/Desktop/PhD/0- LaTeX/1- Article M2 - Algèbre des boîtes/Code/nonlocal-boxes/non_local_boxes/evaluate.py:256\u001b[0m, in \u001b[0;36mR\u001b[0;34m(W, P, Q)\u001b[0m\n\u001b[1;32m    255\u001b[0m \u001b[39mdef\u001b[39;00m \u001b[39mR\u001b[39m(W, P, Q):     \u001b[39m# W is a 32xn matrix, P and Q are 4x4 matrices\u001b[39;00m\n\u001b[0;32m--> 256\u001b[0m     T1 \u001b[39m=\u001b[39m np\u001b[39m.\u001b[39mtensordot(A(W), P, axes\u001b[39m=\u001b[39m([\u001b[39m4\u001b[39m, \u001b[39m0\u001b[39m]))  \u001b[39m# green term\u001b[39;00m\n\u001b[1;32m    257\u001b[0m     T2 \u001b[39m=\u001b[39m np\u001b[39m.\u001b[39mtranspose(np\u001b[39m.\u001b[39mtensordot(B(W), Q, axes\u001b[39m=\u001b[39m([\u001b[39m4\u001b[39m, \u001b[39m0\u001b[39m])), (\u001b[39m0\u001b[39m,\u001b[39m1\u001b[39m,\u001b[39m2\u001b[39m,\u001b[39m4\u001b[39m,\u001b[39m3\u001b[39m))  \u001b[39m# blue term\u001b[39;00m\n\u001b[1;32m    258\u001b[0m     T3 \u001b[39m=\u001b[39m np\u001b[39m.\u001b[39mtensordot(np\u001b[39m.\u001b[39mones((\u001b[39m2\u001b[39m,\u001b[39m2\u001b[39m)), T1\u001b[39m*\u001b[39mT2, axes \u001b[39m=\u001b[39m \u001b[39m0\u001b[39m)   \u001b[39m# Kronecker product\u001b[39;00m\n",
      "File \u001b[0;32m~/Desktop/PhD/0- LaTeX/1- Article M2 - Algèbre des boîtes/Code/nonlocal-boxes/non_local_boxes/evaluate.py:76\u001b[0m, in \u001b[0;36mA\u001b[0;34m(W)\u001b[0m\n\u001b[1;32m     75\u001b[0m \u001b[39mdef\u001b[39;00m \u001b[39mA\u001b[39m(W):    \u001b[39m# W is a 32xn matrix\u001b[39;00m\n\u001b[0;32m---> 76\u001b[0m     T1 \u001b[39m=\u001b[39m np\u001b[39m.\u001b[39;49mtensordot(A1, W, axes\u001b[39m=\u001b[39;49m([\u001b[39m3\u001b[39;49m, \u001b[39m0\u001b[39;49m])) \u001b[39m+\u001b[39;49m A2\n\u001b[1;32m     77\u001b[0m     T2 \u001b[39m=\u001b[39m np\u001b[39m.\u001b[39mtensordot(np\u001b[39m.\u001b[39mones((\u001b[39m2\u001b[39m)), T1, axes\u001b[39m=\u001b[39m\u001b[39m0\u001b[39m)\n\u001b[1;32m     78\u001b[0m     T3 \u001b[39m=\u001b[39m np\u001b[39m.\u001b[39mtranspose(T2, (\u001b[39m1\u001b[39m,\u001b[39m0\u001b[39m,\u001b[39m2\u001b[39m,\u001b[39m3\u001b[39m,\u001b[39m4\u001b[39m))\n",
      "\u001b[0;31mValueError\u001b[0m: operands could not be broadcast together with shapes (2,4,4,100) (2,4,4,1000) "
     ]
    }
   ],
   "source": [
    "W = non_local_boxes.utils.random_extremal_wiring(non_local_boxes.evaluate.nb_columns)\n",
    "P = non_local_boxes.utils.corNLB(0.5)\n",
    "Q = P\n",
    "\n",
    "non_local_boxes.evaluate.phi_flat(W, P, Q)"
   ]
  },
  {
   "cell_type": "code",
   "execution_count": null,
   "id": "25d060af",
   "metadata": {},
   "outputs": [],
   "source": []
  }
 ],
 "metadata": {
  "kernelspec": {
   "display_name": ".venv_boxes",
   "language": "python",
   "name": "python3"
  },
  "language_info": {
   "codemirror_mode": {
    "name": "ipython",
    "version": 3
   },
   "file_extension": ".py",
   "mimetype": "text/x-python",
   "name": "python",
   "nbconvert_exporter": "python",
   "pygments_lexer": "ipython3",
   "version": "3.9.12"
  },
  "vscode": {
   "interpreter": {
    "hash": "fc316f9929218361e7d645a202e8c2b79a1175dfee9b41dd9aa3806e9995da6b"
   }
  }
 },
 "nbformat": 4,
 "nbformat_minor": 5
}
