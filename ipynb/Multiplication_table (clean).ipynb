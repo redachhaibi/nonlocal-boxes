{
 "cells": [
  {
   "cell_type": "code",
   "execution_count": 8,
   "metadata": {},
   "outputs": [
    {
     "name": "stdout",
     "output_type": "stream",
     "text": [
      "The autoreload extension is already loaded. To reload it, use:\n",
      "  %reload_ext autoreload\n"
     ]
    }
   ],
   "source": [
    "import torch\n",
    "import non_local_boxes\n",
    "import numpy as np\n",
    "\n",
    "# Sugar coating for reloading\n",
    "%matplotlib inline\n",
    "%load_ext autoreload\n",
    "%autoreload 2"
   ]
  },
  {
   "attachments": {},
   "cell_type": "markdown",
   "metadata": {},
   "source": [
    "# Definitions"
   ]
  },
  {
   "cell_type": "code",
   "execution_count": 9,
   "metadata": {},
   "outputs": [],
   "source": [
    "def projection(T):\n",
    "    T = torch.max(T, torch.zeros_like(T))\n",
    "    c = torch.sum(T)\n",
    "    if c>1:  T += -torch.ones_like(T)*(c-1)/T.size(dim=0)\n",
    "    return T\n",
    "\n",
    "def loss(T, Q, R):\n",
    "    n = len(T)\n",
    "    NewBox = torch.zeros_like(R[0])\n",
    "    for j in range(n):\n",
    "        NewBox += T[j]*R[j]   # ! EASY to vectorialize if we need to go faster\n",
    "    NewBox += (1-torch.sum(T))*R[n]\n",
    "    return torch.sum(torch.abs(NewBox - Q))\n",
    "\n",
    "def find_coeff(Q, R, learning_rate, number_steps, do_a_projection=True):\n",
    "    # Goal: find (a_0, ..., a_{n-1}) such that Q = a_0*R_0 + ... + a_{n-1}*_R_{n-1} + (1-a_0-...-a_{n-1})*R_n\n",
    "    # How: gradient descent\n",
    "    # Q is 4x4 matrices\n",
    "    # R is a list of 4x4 matrices\n",
    "    # n := len(R)-1\n",
    "    # T will be torch.tensor([a_0, ..., a_{n-1}])\n",
    "\n",
    "    T = 0.5 * torch.ones(len(R) - 1)\n",
    "    T.requires_grad=True\n",
    "    for i in range(number_steps):\n",
    "        loss(T, Q, R).backward()\n",
    "        if do_a_projection:   T = projection(T - T.grad*learning_rate/(i+1)).detach()\n",
    "        else:   T = (T - T.grad*learning_rate/(i+1)).detach()\n",
    "        T.requires_grad = True\n",
    "    return T"
   ]
  },
  {
   "cell_type": "code",
   "execution_count": 10,
   "metadata": {},
   "outputs": [],
   "source": [
    "def write_combinaison(P, Pname, Boxes, learning_rate=1, number_steps=5000, decimals=2, do_a_projection=True, print_mistakes=False):\n",
    "    R = [Boxes[j][0] for j in range(len(Boxes))]\n",
    "    string = Pname+\" = \"\n",
    "\n",
    "    T = find_coeff(P.clone(), R, learning_rate, number_steps, do_a_projection)\n",
    "    values = np.around(T.tolist(), decimals=decimals).tolist()\n",
    "    values.append(1-sum(values))\n",
    "\n",
    "    for j in range(len(values)):\n",
    "        if values[j] != 0:\n",
    "            if string != Pname+\" = \": string += \" + \"\n",
    "            if values[j]==1: string += Boxes[j][1]\n",
    "            else: string += str(values[j])+\"·\"+Boxes[j][1]\n",
    "    error = float(loss(torch.tensor(values[:-1]),P,R))\n",
    "    if error == 0:   string += \"    (exact)\"\n",
    "    else:      \n",
    "        string += \"    !!!!! ERROR=\"+str(error)+\" !!!!!\"\n",
    "        if print_mistakes:   print(P)\n",
    "\n",
    "    print(string)"
   ]
  },
  {
   "cell_type": "code",
   "execution_count": 11,
   "metadata": {},
   "outputs": [],
   "source": [
    "def multiplication_table(Boxes, W, learning_rate=1, number_steps=5000, decimals=2, do_a_projection=True):\n",
    "    for Q1 in Boxes:\n",
    "        print(\"\\n-----\\n\")\n",
    "        for Q2 in Boxes:\n",
    "            P = non_local_boxes.utils.tensor_to_matrix(non_local_boxes.evaluate.R(W, Q1[0], Q2[0]))\n",
    "            Pname = Q1[1]+\" ⊠_W \"+Q2[1]\n",
    "            write_combinaison(P, Pname, Boxes, learning_rate, number_steps, decimals, do_a_projection)\n",
    "            "
   ]
  },
  {
   "cell_type": "code",
   "execution_count": 12,
   "metadata": {},
   "outputs": [],
   "source": [
    "P_NL = non_local_boxes.utils.P_NL\n",
    "P_L = non_local_boxes.utils.P_L\n",
    "\n",
    "Boxes_all = []  # it will contain all the extremal boxes of NS\n",
    "for mu in range(2):\n",
    "    for nu in range(2):\n",
    "        for sigma in range(2):\n",
    "            Boxes_all.append([P_NL(mu, nu, sigma), \"PNL(\"+str(mu)+str(nu)+str(sigma)+\")\"])\n",
    "            for tau in range(2):\n",
    "                Boxes_all.append([P_L(mu, nu, sigma, tau), \"PL(\"+str(mu)+str(nu)+str(sigma)+str(tau)+\")\"])\n",
    "\n",
    "R_all = [Boxes_all[j][0] for j in range(len(Boxes_all))]"
   ]
  },
  {
   "attachments": {},
   "cell_type": "markdown",
   "metadata": {},
   "source": [
    "# Draw the Multiplication Table"
   ]
  },
  {
   "cell_type": "code",
   "execution_count": 13,
   "metadata": {},
   "outputs": [],
   "source": [
    "PR = non_local_boxes.utils.PR\n",
    "P0 = non_local_boxes.utils.P_0\n",
    "P1 = non_local_boxes.utils.P_1\n",
    "I = non_local_boxes.utils.I"
   ]
  },
  {
   "cell_type": "code",
   "execution_count": 28,
   "metadata": {},
   "outputs": [
    {
     "name": "stdout",
     "output_type": "stream",
     "text": [
      "\n",
      "-----\n",
      "\n",
      "PR ⊠_W PR = PR    (exact)\n",
      "PR ⊠_W P0 = PR    (exact)\n",
      "PR ⊠_W PL0111 = PR    (exact)\n",
      "\n",
      "-----\n",
      "\n",
      "P0 ⊠_W PR = PR    (exact)\n",
      "P0 ⊠_W P0 = PL0111    (exact)\n",
      "P0 ⊠_W PL0111 = P0    (exact)\n",
      "\n",
      "-----\n",
      "\n",
      "PL0111 ⊠_W PR = 0.5·P0 + 0.5·PL0111    (exact)\n",
      "PL0111 ⊠_W P0 = P0    (exact)\n",
      "PL0111 ⊠_W PL0111 = PL0111    (exact)\n"
     ]
    }
   ],
   "source": [
    "Boxes = [\n",
    "    [PR, \"PR\"],\n",
    "    [P_L(0,0,0,0), \"P0\"],\n",
    "    #[P_L(0,1,0,1), \"P1\"],\n",
    "    [P_L(0,1,1,1), \"PL0111\"],\n",
    "    #[I, \"I\"],\n",
    "    #[P_L(0,0,0,1), \"P01\"],\n",
    "    #[P_L(0,1,0,0), \"P10\"]\n",
    "    ]\n",
    "#W = non_local_boxes.utils.W_BS09(1).detach()\n",
    "n=1\n",
    "W = non_local_boxes.utils.W9(n).detach()\n",
    "W = torch.tensor([1.,0.,0.,1.,0.,0.,1.,0.,1.,1.,0.,0.,0.,0.,1.,1.,1.,0.,0.,1.,1.,0.,0.,1.,1.,0.,0.,1.,0.,1.,1.,0.])*1.\n",
    "W = torch.t(W.repeat(n, 1))\n",
    "\n",
    "multiplication_table(\n",
    "    Boxes=Boxes,\n",
    "    W = W,\n",
    "    learning_rate=1,\n",
    "    number_steps=5000,\n",
    "    decimals = 2,\n",
    "    do_a_projection = False\n",
    "    )"
   ]
  },
  {
   "attachments": {},
   "cell_type": "markdown",
   "metadata": {},
   "source": [
    "---"
   ]
  },
  {
   "attachments": {},
   "cell_type": "markdown",
   "metadata": {},
   "source": [
    "# Other Stuff..."
   ]
  },
  {
   "cell_type": "code",
   "execution_count": 27,
   "metadata": {},
   "outputs": [],
   "source": [
    "# W = non_local_boxes.utils.W_NSSRRB22(1).detach()\n",
    "# non_local_boxes.utils.wiring_to_functions(W)"
   ]
  },
  {
   "cell_type": "code",
   "execution_count": 86,
   "metadata": {},
   "outputs": [
    {
     "name": "stdout",
     "output_type": "stream",
     "text": [
      "P = 0.1875·P0 + 0.1875·P1 + 0.0625·P01 + 0.5625·P10    (exact)\n"
     ]
    }
   ],
   "source": [
    "Boxes = [\n",
    "    [PR, \"PR\"],\n",
    "    [P_L(0,0,0,0), \"P0\"],\n",
    "    [P_L(0,1,0,1), \"P1\"],\n",
    "    [P_L(0,0,0,1), \"P01\"],\n",
    "    [P_L(0,1,0,0), \"P10\"],\n",
    "    #[I, \"I\"],\n",
    "    #[P_NL(0,1,1), \"P_NL(011)\"]\n",
    "    ]\n",
    "\n",
    "W = non_local_boxes.utils.W_NSSRRB22(1).detach()\n",
    "P =non_local_boxes.utils.tensor_to_matrix(non_local_boxes.evaluate.R(W, I, I))\n",
    "Pname = \"P\"\n",
    "\n",
    "write_combinaison(\n",
    "    P=P,\n",
    "    Pname = Pname,\n",
    "    Boxes=Boxes,\n",
    "    learning_rate=1,\n",
    "    number_steps=50000,\n",
    "    decimals = 3,\n",
    "    do_a_projection = False,\n",
    "    print_mistakes = True\n",
    "    )"
   ]
  },
  {
   "cell_type": "code",
   "execution_count": 11,
   "metadata": {},
   "outputs": [
    {
     "data": {
      "text/plain": [
       "tensor(False)"
      ]
     },
     "execution_count": 11,
     "metadata": {},
     "output_type": "execute_result"
    }
   ],
   "source": [
    "R = non_local_boxes.evaluate.R\n",
    "tensor_to_matrix = non_local_boxes.utils.tensor_to_matrix\n",
    "\n",
    "W = non_local_boxes.utils.W_Pierre_1(1).detach()\n",
    "\n",
    "Q1 = P0\n",
    "Q2 = P1\n",
    "Q3 = PR\n",
    "\n",
    "torch.all(tensor_to_matrix(R(W, Q1, tensor_to_matrix(R(W, Q2, Q3))))\n",
    "          ==tensor_to_matrix(R(W, tensor_to_matrix(R(W, Q1, Q2)), Q3))\n",
    ")"
   ]
  },
  {
   "cell_type": "code",
   "execution_count": 10,
   "metadata": {},
   "outputs": [
    {
     "name": "stdout",
     "output_type": "stream",
     "text": [
      "f_1(x,a2) = x\n",
      "g_1(y,b2) = y\n",
      "f_2(x,a1) = x\n",
      "g_2(y,b1) = y\n",
      "f_3(x,a1,a2) = a1·a2 ⊕ 1.0 \n",
      "g_3(y,b1,b2) = b1·b2 ⊕ 1.0 \n"
     ]
    }
   ],
   "source": [
    "W = non_local_boxes.utils.W_Pierre_1(1).detach()\n",
    "non_local_boxes.utils.wiring_to_functions(W)"
   ]
  },
  {
   "cell_type": "code",
   "execution_count": 9,
   "metadata": {},
   "outputs": [
    {
     "data": {
      "text/plain": [
       "tensor(True)"
      ]
     },
     "execution_count": 9,
     "metadata": {},
     "output_type": "execute_result"
    }
   ],
   "source": [
    "R = non_local_boxes.evaluate.R\n",
    "tensor_to_matrix = non_local_boxes.utils.tensor_to_matrix\n",
    "\n",
    "W = non_local_boxes.utils.W_BS09(1).detach()\n",
    "\n",
    "torch.all(tensor_to_matrix(R(W, I, PR)) == -(1/8)*P0 -(1/8)*P1 +I + (1/4)*PR)"
   ]
  },
  {
   "cell_type": "code",
   "execution_count": null,
   "metadata": {},
   "outputs": [],
   "source": []
  }
 ],
 "metadata": {
  "kernelspec": {
   "display_name": ".venv_boxes",
   "language": "python",
   "name": "python3"
  },
  "language_info": {
   "codemirror_mode": {
    "name": "ipython",
    "version": 3
   },
   "file_extension": ".py",
   "mimetype": "text/x-python",
   "name": "python",
   "nbconvert_exporter": "python",
   "pygments_lexer": "ipython3",
   "version": "3.9.12"
  },
  "orig_nbformat": 4
 },
 "nbformat": 4,
 "nbformat_minor": 2
}
