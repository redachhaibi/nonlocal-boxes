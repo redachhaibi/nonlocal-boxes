{
 "cells": [
  {
   "cell_type": "code",
   "execution_count": 3,
   "metadata": {},
   "outputs": [],
   "source": [
    "import torch\n",
    "import non_local_boxes\n",
    "import numpy as np\n",
    "\n",
    "# Sugar coating for reloading\n",
    "%matplotlib inline\n",
    "%load_ext autoreload\n",
    "%autoreload 2"
   ]
  },
  {
   "attachments": {},
   "cell_type": "markdown",
   "metadata": {},
   "source": [
    "# Definitions"
   ]
  },
  {
   "cell_type": "code",
   "execution_count": 4,
   "metadata": {},
   "outputs": [],
   "source": [
    "def projection(T):\n",
    "    T = torch.max(T, torch.zeros_like(T))\n",
    "    c = torch.sum(T)\n",
    "    if c>1:  T += -torch.ones_like(T)*(c-1)/T.size(dim=0)\n",
    "    return T\n",
    "\n",
    "def loss(T, Q, R):\n",
    "    n = len(T)\n",
    "    NewBox = torch.zeros_like(R[0])\n",
    "    for j in range(n):\n",
    "        NewBox += T[j]*R[j]   # ! EASY to vectorialize if we need to go faster\n",
    "    NewBox += (1-torch.sum(T))*R[n]\n",
    "    return torch.sum(torch.abs(NewBox - Q))\n",
    "\n",
    "def find_coeff(Q, R, learning_rate, number_steps, do_a_projection=True):\n",
    "    # Goal: find (a_0, ..., a_{n-1}) such that Q = a_0*R_0 + ... + a_{n-1}*_R_{n-1} + (1-a_0-...-a_{n-1})*R_n\n",
    "    # How: gradient descent\n",
    "    # Q is 4x4 matrices\n",
    "    # R is a list of 4x4 matrices\n",
    "    # n := len(R)-1\n",
    "    # T will be torch.tensor([a_0, ..., a_{n-1}])\n",
    "\n",
    "    T = 0.5 * torch.ones(len(R) - 1)\n",
    "    T.requires_grad=True\n",
    "    for i in range(number_steps):\n",
    "        loss(T, Q, R).backward()\n",
    "        if do_a_projection:   T = projection(T - T.grad*learning_rate/(i+1)).detach()\n",
    "        else:   T = (T - T.grad*learning_rate/(i+1)).detach()\n",
    "        T.requires_grad = True\n",
    "    return T"
   ]
  },
  {
   "cell_type": "code",
   "execution_count": 5,
   "metadata": {},
   "outputs": [],
   "source": [
    "def write_combinaison(P, Pname, Boxes, learning_rate=1, number_steps=5000, decimals=2, do_a_projection=True, print_mistakes=False):\n",
    "    R = [Boxes[j][0] for j in range(len(Boxes))]\n",
    "    string = Pname+\" = \"\n",
    "\n",
    "    T = find_coeff(P.clone(), R, learning_rate, number_steps, do_a_projection)\n",
    "    values = np.around(T.tolist(), decimals=decimals).tolist()\n",
    "    values.append(1-sum(values))\n",
    "\n",
    "    for j in range(len(values)):\n",
    "        if values[j] != 0:\n",
    "            if string != Pname+\" = \": string += \" + \"\n",
    "            if values[j]==1: string += Boxes[j][1]\n",
    "            else: string += str(values[j])+\"·\"+Boxes[j][1]\n",
    "    error = float(loss(torch.tensor(values[:-1]),P,R))\n",
    "    if error == 0:   string += \"    (exact)\"\n",
    "    else:      \n",
    "        string += \"    !!!!! ERROR=\"+str(error)+\" !!!!!\"\n",
    "        if print_mistakes:   print(P)\n",
    "\n",
    "    print(string)"
   ]
  },
  {
   "cell_type": "code",
   "execution_count": 6,
   "metadata": {},
   "outputs": [],
   "source": [
    "def multiplication_table(Boxes, W, learning_rate=1, number_steps=5000, decimals=2, do_a_projection=True):\n",
    "    for Q1 in Boxes:\n",
    "        print(\"\\n-----\\n\")\n",
    "        for Q2 in Boxes:\n",
    "            P = non_local_boxes.utils.tensor_to_matrix(non_local_boxes.evaluate.R(W, Q1[0], Q2[0]))\n",
    "            Pname = Q1[1]+\" ⊠_W \"+Q2[1]\n",
    "            write_combinaison(P, Pname, Boxes, learning_rate, number_steps, decimals, do_a_projection)\n",
    "            "
   ]
  },
  {
   "cell_type": "code",
   "execution_count": 7,
   "metadata": {},
   "outputs": [],
   "source": [
    "P_NL = non_local_boxes.utils.P_NL\n",
    "P_L = non_local_boxes.utils.P_L\n",
    "\n",
    "Boxes_all = []  # it will contain all the extremal boxes of NS\n",
    "for mu in range(2):\n",
    "    for nu in range(2):\n",
    "        for sigma in range(2):\n",
    "            Boxes_all.append([P_NL(mu, nu, sigma), \"PNL(\"+str(mu)+str(nu)+str(sigma)+\")\"])\n",
    "            for tau in range(2):\n",
    "                Boxes_all.append([P_L(mu, nu, sigma, tau), \"PL(\"+str(mu)+str(nu)+str(sigma)+str(tau)+\")\"])\n",
    "\n",
    "R_all = [Boxes_all[j][0] for j in range(len(Boxes_all))]"
   ]
  },
  {
   "attachments": {},
   "cell_type": "markdown",
   "metadata": {},
   "source": [
    "# Draw the Multiplication Table"
   ]
  },
  {
   "cell_type": "code",
   "execution_count": 8,
   "metadata": {},
   "outputs": [],
   "source": [
    "PR = non_local_boxes.utils.PR\n",
    "PRprime = non_local_boxes.utils.PRprime\n",
    "P0 = non_local_boxes.utils.P_0\n",
    "P1 = non_local_boxes.utils.P_1\n",
    "SR = (P0+P1)/2\n",
    "I = non_local_boxes.utils.I"
   ]
  },
  {
   "cell_type": "code",
   "execution_count": 12,
   "metadata": {},
   "outputs": [
    {
     "name": "stdout",
     "output_type": "stream",
     "text": [
      "\n",
      "-----\n",
      "\n",
      "PR ⊠_W PR = SR    (exact)\n",
      "PR ⊠_W SR = PR    (exact)\n",
      "PR ⊠_W I = I    (exact)\n",
      "\n",
      "-----\n",
      "\n",
      "SR ⊠_W PR = PR    (exact)\n",
      "SR ⊠_W SR = SR    (exact)\n",
      "SR ⊠_W I = I    (exact)\n",
      "\n",
      "-----\n",
      "\n",
      "I ⊠_W PR = I    (exact)\n",
      "I ⊠_W SR = I    (exact)\n",
      "I ⊠_W I = I    (exact)\n"
     ]
    }
   ],
   "source": [
    "n=non_local_boxes.evaluate.nb_columns\n",
    "assert n==1, \"nb_columns must be set set to 1 ...\"\n",
    "\n",
    "Boxes = [\n",
    "    [PR, \"PR\"],\n",
    "    #[P_L(0,0,0,0), \"P0\"],\n",
    "    #[P_L(0,1,0,1), \"P1\"],\n",
    "    [SR, \"SR\"],\n",
    "    #[P_L(1,1,1,0), \"PL1110\"],\n",
    "    #[P_L(1,0,0,0), \"PL1000\"],\n",
    "    #[P_L(0,0,0,1), \"P01\"],\n",
    "    #[P_L(0,1,0,0), \"P10\"],\n",
    "    #[P_L(1,0,0,0), \"PL1000\"],\n",
    "    #[(P_L(1,1,1,0)+P_L(1,0,0,0))/2, \"Q\"],\n",
    "    #[(P_L(1,1,0,1)+P0)/2, \"(PL1101+P0)/2\"],\n",
    "    #[(PR+I)/2, \"I'\"]\n",
    "    [I, \"I\"]\n",
    "    ]\n",
    "W = non_local_boxes.utils.W_FWW09(n).detach()\n",
    "#W = torch.tensor(non_local_boxes.utils.known_collapsing_W[16] )*1.\n",
    "#W = torch.t(W.repeat(n, 1))\n",
    "\n",
    "multiplication_table(\n",
    "    Boxes=Boxes,\n",
    "    W = W,\n",
    "    learning_rate=1,   #1\n",
    "    number_steps=5000, #10000\n",
    "    decimals = 2,      #3\n",
    "    do_a_projection = False\n",
    "    )"
   ]
  },
  {
   "attachments": {},
   "cell_type": "markdown",
   "metadata": {},
   "source": [
    "---"
   ]
  },
  {
   "attachments": {},
   "cell_type": "markdown",
   "metadata": {},
   "source": [
    "# Other Stuff..."
   ]
  },
  {
   "cell_type": "code",
   "execution_count": 1,
   "metadata": {},
   "outputs": [],
   "source": [
    "def find_stabilizing_wiring(Boxes, learning_rate=1, number_steps=5000, decimals=2, do_a_projection=True):\n",
    "    Boxes_string = \"\"\n",
    "    for P in Boxes:\n",
    "        Boxes_string+=P[1]+\"  \"\n",
    "    print(\"SLICE:  \"+Boxes_string+\"\\n\")\n",
    "    print(\"Learning rate:       \"+str(learning_rate))\n",
    "    print(\"Number of steps:     \"+str(number_steps))\n",
    "    print(\"Number of decimals:  \"+str(decimals)+\"\\n\")\n",
    "    i=0\n",
    "    minvalue = 1000\n",
    "    imin = 0\n",
    "    assert(non_local_boxes.evaluate.nb_columns==1)\n",
    "    print(\"WIRINGS  | Sum of errors\")\n",
    "    print(\"------------------------\")\n",
    "    for W in non_local_boxes.utils.known_collapsing_W:\n",
    "        i+=1\n",
    "        W = torch.tensor(W)*1.\n",
    "        W = torch.t(W.repeat(1, 1))\n",
    "        sum_errors=0\n",
    "\n",
    "        for Q1 in Boxes:\n",
    "            for Q2 in Boxes:\n",
    "                P = non_local_boxes.utils.tensor_to_matrix(non_local_boxes.evaluate.R(W, Q1[0], Q2[0]))\n",
    "\n",
    "                R = [Boxes[j][0] for j in range(len(Boxes))]\n",
    "\n",
    "                T = find_coeff(P.clone(), R, learning_rate, number_steps, do_a_projection)\n",
    "                values = np.around(T.tolist(), decimals=decimals).tolist()\n",
    "                values.append(1-sum(values))\n",
    "                error = float(loss(torch.tensor(values[:-1]),P,R))\n",
    "                sum_errors+=error\n",
    "\n",
    "        string=\"W_\"+str(i)\n",
    "        for _ in range(int(6-np.floor(np.log10(i)))):\n",
    "            string+=\" \"\n",
    "        string+=\"| \"+str(sum_errors)\n",
    "        print(string)\n",
    "        if sum_errors<minvalue:\n",
    "            minvalue=sum_errors\n",
    "            imin=i\n",
    "    \n",
    "    print(\"\\nMin value: \"+str(minvalue)+\"  atteined at W_\"+str(imin))"
   ]
  },
  {
   "cell_type": "code",
   "execution_count": 10,
   "metadata": {},
   "outputs": [
    {
     "name": "stdout",
     "output_type": "stream",
     "text": [
      "SLICE:  PR  P0  P1  \n",
      "\n",
      "Learning rate:       1\n",
      "Number of steps:     5000\n",
      "Number of decimals:  2\n",
      "\n",
      "WIRINGS  | Sum of errors\n",
      "------------------------\n",
      "W_1      | 0.0\n",
      "W_2      | 18.09999942779541\n",
      "W_3      | 36.0\n",
      "W_4      | 20.09999942779541\n",
      "W_5      | 18.09999942779541\n",
      "W_6      | 22.0\n",
      "W_7      | 22.0\n",
      "W_8      | 18.09999942779541\n",
      "W_9      | 0.0\n",
      "W_10     | 14.069999694824219\n",
      "W_11     | 0.0\n",
      "W_12     | 16.06999969482422\n",
      "W_13     | 27.062199712730944\n",
      "W_14     | 0.0\n",
      "W_15     | 34.0\n",
      "W_16     | 18.09999942779541\n",
      "W_17     | 0.0\n",
      "W_18     | 18.09999942779541\n",
      "W_19     | 22.0\n",
      "W_20     | 22.0\n",
      "W_21     | 18.09999942779541\n",
      "W_22     | 0.0\n",
      "W_23     | 36.0\n",
      "W_24     | 44.0\n",
      "W_25     | 36.0\n",
      "W_26     | 36.0\n",
      "W_27     | 44.0\n",
      "W_28     | 0.0\n",
      "W_29     | 50.0\n",
      "W_30     | 50.0\n",
      "W_31     | 18.09999942779541\n",
      "W_32     | 50.0\n",
      "W_33     | 50.0\n",
      "W_34     | 18.09999942779541\n",
      "W_35     | 50.0\n",
      "W_36     | 22.0\n",
      "W_37     | 22.0\n",
      "W_38     | 50.0\n",
      "W_39     | 18.09999942779541\n",
      "W_40     | 50.0\n",
      "W_41     | 50.0\n",
      "W_42     | 18.09999942779541\n",
      "W_43     | 50.0\n",
      "W_44     | 18.09999942779541\n",
      "W_45     | 50.0\n",
      "W_46     | 36.0\n",
      "W_47     | 44.0\n",
      "W_48     | 36.0\n",
      "W_49     | 36.0\n",
      "W_50     | 44.0\n",
      "W_51     | 36.0\n",
      "W_52     | 52.0\n",
      "W_53     | 20.09999942779541\n",
      "W_54     | 20.09999942779541\n",
      "W_55     | 52.0\n",
      "W_56     | 20.09999942779541\n",
      "W_57     | 52.0\n",
      "W_58     | 52.0\n",
      "W_59     | 20.09999942779541\n",
      "W_60     | 52.0\n",
      "W_61     | 24.0\n",
      "W_62     | 24.0\n",
      "W_63     | 52.0\n",
      "W_64     | 50.0\n",
      "W_65     | 18.09999942779541\n",
      "W_66     | 18.09999942779541\n",
      "W_67     | 50.0\n",
      "W_68     | 52.0\n",
      "W_69     | 20.09999942779541\n",
      "W_70     | 20.09999942779541\n",
      "W_71     | 52.0\n",
      "W_72     | 20.09999942779541\n",
      "W_73     | 52.0\n",
      "W_74     | 52.0\n",
      "W_75     | 20.09999942779541\n",
      "W_76     | 52.0\n",
      "W_77     | 24.0\n",
      "W_78     | 24.0\n",
      "W_79     | 52.0\n",
      "W_80     | 27.049999713897705\n",
      "W_81     | 18.09999942779541\n",
      "\n",
      "Min value: 0.0  atteined at W_1\n"
     ]
    }
   ],
   "source": [
    "Boxes = [\n",
    "    [PR, \"PR\"],\n",
    "    #[PRprime, \"PR'\"],\n",
    "    [P_L(0,0,0,0), \"P0\"],\n",
    "    [P_L(0,1,0,1), \"P1\"],\n",
    "    #[SR, \"SR\"],\n",
    "    #[P_L(1,1,1,0), \"PL1110\"],\n",
    "    #[P_L(1,0,0,0), \"PL1000\"],\n",
    "    #[P_L(0,0,0,1), \"P01\"],\n",
    "    #[P_L(0,1,0,0), \"P10\"],\n",
    "    #[P_L(1,0,0,0), \"PL1000\"],\n",
    "    #[(P_L(1,1,1,0)+P_L(1,0,0,0))/2, \"Q\"],\n",
    "    #[(P_L(1,1,0,1)+P0)/2, \"(PL1101+P0)/2\"],\n",
    "    #[(P0+P_L(1,1,0,1))/2, \"(P0+PL1101)/2\"],\n",
    "    #[I, \"I\"]\n",
    "    ]\n",
    "\n",
    "find_stabilizing_wiring(\n",
    "    Boxes=Boxes,\n",
    "    learning_rate=1,   #1\n",
    "    number_steps=5000, #7000\n",
    "    decimals = 2,      #3\n",
    "    do_a_projection = False\n",
    "    )"
   ]
  },
  {
   "cell_type": "markdown",
   "metadata": {},
   "source": [
    "____"
   ]
  },
  {
   "cell_type": "code",
   "execution_count": 27,
   "metadata": {},
   "outputs": [],
   "source": [
    "# W = non_local_boxes.utils.W_NSSRRB22(1).detach()\n",
    "# non_local_boxes.utils.wiring_to_functions(W)"
   ]
  },
  {
   "cell_type": "code",
   "execution_count": 86,
   "metadata": {},
   "outputs": [
    {
     "name": "stdout",
     "output_type": "stream",
     "text": [
      "P = 0.1875·P0 + 0.1875·P1 + 0.0625·P01 + 0.5625·P10    (exact)\n"
     ]
    }
   ],
   "source": [
    "Boxes = [\n",
    "    [PR, \"PR\"],\n",
    "    [P_L(0,0,0,0), \"P0\"],\n",
    "    [P_L(0,1,0,1), \"P1\"],\n",
    "    [P_L(0,0,0,1), \"P01\"],\n",
    "    [P_L(0,1,0,0), \"P10\"],\n",
    "    #[I, \"I\"],\n",
    "    #[P_NL(0,1,1), \"P_NL(011)\"]\n",
    "    ]\n",
    "\n",
    "W = non_local_boxes.utils.W_NSSRRB22(1).detach()\n",
    "P =non_local_boxes.utils.tensor_to_matrix(non_local_boxes.evaluate.R(W, I, I))\n",
    "Pname = \"P\"\n",
    "\n",
    "write_combinaison(\n",
    "    P=P,\n",
    "    Pname = Pname,\n",
    "    Boxes=Boxes,\n",
    "    learning_rate=1,\n",
    "    number_steps=50000,\n",
    "    decimals = 3,\n",
    "    do_a_projection = False,\n",
    "    print_mistakes = True\n",
    "    )"
   ]
  },
  {
   "cell_type": "code",
   "execution_count": 11,
   "metadata": {},
   "outputs": [
    {
     "data": {
      "text/plain": [
       "tensor(False)"
      ]
     },
     "execution_count": 11,
     "metadata": {},
     "output_type": "execute_result"
    }
   ],
   "source": [
    "R = non_local_boxes.evaluate.R\n",
    "tensor_to_matrix = non_local_boxes.utils.tensor_to_matrix\n",
    "\n",
    "W = non_local_boxes.utils.W_Pierre_1(1).detach()\n",
    "\n",
    "Q1 = P0\n",
    "Q2 = P1\n",
    "Q3 = PR\n",
    "\n",
    "torch.all(tensor_to_matrix(R(W, Q1, tensor_to_matrix(R(W, Q2, Q3))))\n",
    "          ==tensor_to_matrix(R(W, tensor_to_matrix(R(W, Q1, Q2)), Q3))\n",
    ")"
   ]
  },
  {
   "cell_type": "code",
   "execution_count": 10,
   "metadata": {},
   "outputs": [
    {
     "name": "stdout",
     "output_type": "stream",
     "text": [
      "f_1(x,a2) = x\n",
      "g_1(y,b2) = y\n",
      "f_2(x,a1) = x\n",
      "g_2(y,b1) = y\n",
      "f_3(x,a1,a2) = a1·a2 ⊕ 1.0 \n",
      "g_3(y,b1,b2) = b1·b2 ⊕ 1.0 \n"
     ]
    }
   ],
   "source": [
    "W = non_local_boxes.utils.W_Pierre_1(1).detach()\n",
    "non_local_boxes.utils.wiring_to_functions(W)"
   ]
  },
  {
   "cell_type": "code",
   "execution_count": 9,
   "metadata": {},
   "outputs": [
    {
     "data": {
      "text/plain": [
       "tensor(True)"
      ]
     },
     "execution_count": 9,
     "metadata": {},
     "output_type": "execute_result"
    }
   ],
   "source": [
    "R = non_local_boxes.evaluate.R\n",
    "tensor_to_matrix = non_local_boxes.utils.tensor_to_matrix\n",
    "\n",
    "W = non_local_boxes.utils.W_BS09(1).detach()\n",
    "\n",
    "torch.all(tensor_to_matrix(R(W, I, PR)) == -(1/8)*P0 -(1/8)*P1 +I + (1/4)*PR)"
   ]
  },
  {
   "cell_type": "code",
   "execution_count": 21,
   "metadata": {},
   "outputs": [
    {
     "data": {
      "text/plain": [
       "tensor(True)"
      ]
     },
     "execution_count": 21,
     "metadata": {},
     "output_type": "execute_result"
    }
   ],
   "source": [
    "R = non_local_boxes.evaluate.R\n",
    "tensor_to_matrix = non_local_boxes.utils.tensor_to_matrix\n",
    "\n",
    "Iprime = (PR+I)/2\n",
    "\n",
    "W = non_local_boxes.utils.W_BS09(1).detach()\n",
    "\n",
    "torch.all(tensor_to_matrix(R(W, Iprime, Iprime)) == -7*PR/16 - SR/16 + 3*Iprime/2)"
   ]
  },
  {
   "cell_type": "code",
   "execution_count": null,
   "metadata": {},
   "outputs": [],
   "source": []
  }
 ],
 "metadata": {
  "kernelspec": {
   "display_name": ".venv_boxes",
   "language": "python",
   "name": "python3"
  },
  "language_info": {
   "codemirror_mode": {
    "name": "ipython",
    "version": 3
   },
   "file_extension": ".py",
   "mimetype": "text/x-python",
   "name": "python",
   "nbconvert_exporter": "python",
   "pygments_lexer": "ipython3",
   "version": "3.9.12"
  },
  "orig_nbformat": 4
 },
 "nbformat": 4,
 "nbformat_minor": 2
}
