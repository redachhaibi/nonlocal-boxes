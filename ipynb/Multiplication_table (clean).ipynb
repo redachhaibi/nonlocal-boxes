{
 "cells": [
  {
   "cell_type": "code",
   "execution_count": 1,
   "metadata": {},
   "outputs": [],
   "source": [
    "import torch\n",
    "import non_local_boxes\n",
    "import numpy as np\n",
    "\n",
    "# Sugar coating for reloading\n",
    "%matplotlib inline\n",
    "%load_ext autoreload\n",
    "%autoreload 2"
   ]
  },
  {
   "attachments": {},
   "cell_type": "markdown",
   "metadata": {},
   "source": [
    "# Definitions"
   ]
  },
  {
   "cell_type": "code",
   "execution_count": 2,
   "metadata": {},
   "outputs": [],
   "source": [
    "def projection(T):\n",
    "    T = torch.max(T, torch.zeros_like(T))\n",
    "    c = torch.sum(T)\n",
    "    if c>1:  T += -torch.ones_like(T)*(c-1)/T.size(dim=0)\n",
    "    return T\n",
    "\n",
    "def loss(T, Q, R):\n",
    "    n = len(T)\n",
    "    NewBox = torch.zeros_like(R[0])\n",
    "    for j in range(n):\n",
    "        NewBox += T[j]*R[j]   # ! EASY to vectorialize if we need to go faster\n",
    "    NewBox += (1-torch.sum(T))*R[n]\n",
    "    return torch.sum(torch.abs(NewBox - Q))\n",
    "\n",
    "def find_coeff(Q, R, learning_rate, number_steps, do_a_projection=True):\n",
    "    # Goal: find (a_0, ..., a_{n-1}) such that Q = a_0*R_0 + ... + a_{n-1}*_R_{n-1} + (1-a_0-...-a_{n-1})*R_n\n",
    "    # How: gradient descent\n",
    "    # Q is 4x4 matrices\n",
    "    # R is a list of 4x4 matrices\n",
    "    # n := len(R)-1\n",
    "    # T will be torch.tensor([a_0, ..., a_{n-1}])\n",
    "\n",
    "    T = 0.5 * torch.ones(len(R) - 1)\n",
    "    T.requires_grad=True\n",
    "    for i in range(number_steps):\n",
    "        loss(T, Q, R).backward()\n",
    "        if do_a_projection:   T = projection(T - T.grad*learning_rate/(i+1)).detach()\n",
    "        else:   T = (T - T.grad*learning_rate/(i+1)).detach()\n",
    "        T.requires_grad = True\n",
    "    return T"
   ]
  },
  {
   "cell_type": "code",
   "execution_count": 48,
   "metadata": {},
   "outputs": [],
   "source": [
    "def write_combinaison(P, Pname, Boxes, learning_rate=1, number_steps=5000, decimals=2, do_a_projection=True, print_mistakes=False):\n",
    "    R = [Boxes[j][0] for j in range(len(Boxes))]\n",
    "    string = Pname+\" = \"\n",
    "\n",
    "    T = find_coeff(P.clone(), R, learning_rate, number_steps, do_a_projection)\n",
    "    values = np.around(T.tolist(), decimals=decimals).tolist()\n",
    "    values.append(1-sum(values))\n",
    "\n",
    "    for j in range(len(values)):\n",
    "        if values[j] != 0:\n",
    "            if string != Pname+\" = \": string += \" + \"\n",
    "            if values[j]==1: string += Boxes[j][1]\n",
    "            else: string += str(values[j])+\"·\"+Boxes[j][1]\n",
    "    error = float(loss(torch.tensor(values[:-1]),P,R))\n",
    "    if error == 0:   string += \"    (exact)\"\n",
    "    else:      \n",
    "        string += \"    !!!!! ERROR=\"+str(error)+\" !!!!!\"\n",
    "        if print_mistakes:   print(P)\n",
    "\n",
    "    print(string)"
   ]
  },
  {
   "cell_type": "code",
   "execution_count": 44,
   "metadata": {},
   "outputs": [],
   "source": [
    "def multiplication_table(Boxes, W, learning_rate=1, number_steps=5000, decimals=2, do_a_projection=True):\n",
    "    for Q1 in Boxes:\n",
    "        print(\"\\n-----\\n\")\n",
    "        for Q2 in Boxes:\n",
    "            P = non_local_boxes.utils.tensor_to_matrix(non_local_boxes.evaluate.R(W, Q1[0], Q2[0]))\n",
    "            Pname = Q1[1]+\" ⊠_W \"+Q2[1]\n",
    "            write_combinaison(P, Pname, Boxes, learning_rate, number_steps, decimals, do_a_projection)\n",
    "            "
   ]
  },
  {
   "cell_type": "code",
   "execution_count": 10,
   "metadata": {},
   "outputs": [],
   "source": [
    "P_NL = non_local_boxes.utils.P_NL\n",
    "P_L = non_local_boxes.utils.P_L\n",
    "\n",
    "Boxes_all = []  # it will contain all the extremal boxes of NS\n",
    "for mu in range(2):\n",
    "    for nu in range(2):\n",
    "        for sigma in range(2):\n",
    "            Boxes_all.append([P_NL(mu, nu, sigma), \"PNL(\"+str(mu)+str(nu)+str(sigma)+\")\"])\n",
    "            for tau in range(2):\n",
    "                Boxes_all.append([P_L(mu, nu, sigma, tau), \"PL(\"+str(mu)+str(nu)+str(sigma)+str(tau)+\")\"])\n",
    "\n",
    "R_all = [Boxes_all[j][0] for j in range(len(Boxes_all))]"
   ]
  },
  {
   "attachments": {},
   "cell_type": "markdown",
   "metadata": {},
   "source": [
    "# Draw the Multiplication Table"
   ]
  },
  {
   "cell_type": "code",
   "execution_count": 11,
   "metadata": {},
   "outputs": [],
   "source": [
    "PR = non_local_boxes.utils.PR\n",
    "P0 = non_local_boxes.utils.P_0\n",
    "P1 = non_local_boxes.utils.P_1\n",
    "I = non_local_boxes.utils.I"
   ]
  },
  {
   "cell_type": "code",
   "execution_count": 89,
   "metadata": {},
   "outputs": [
    {
     "name": "stdout",
     "output_type": "stream",
     "text": [
      "\n",
      "-----\n",
      "\n",
      "PR ⊠_W PR = PR    (exact)\n",
      "PR ⊠_W P0 = PR    (exact)\n",
      "PR ⊠_W P1 = PR    (exact)\n",
      "\n",
      "-----\n",
      "\n",
      "P0 ⊠_W PR = 0.5·P0 + 0.5·P1    (exact)\n",
      "P0 ⊠_W P0 = P0    (exact)\n",
      "P0 ⊠_W P1 = P1    (exact)\n",
      "\n",
      "-----\n",
      "\n",
      "P1 ⊠_W PR = PR    (exact)\n",
      "P1 ⊠_W P0 = P1    (exact)\n",
      "P1 ⊠_W P1 = P0    (exact)\n"
     ]
    }
   ],
   "source": [
    "Boxes = [\n",
    "    [PR, \"PR\"],\n",
    "    [P_L(0,0,0,0), \"P0\"],\n",
    "    [P_L(0,1,0,1), \"P1\"],\n",
    "    #[I, \"I\"],\n",
    "    #[P_L(0,0,0,1), \"P01\"],\n",
    "    #[P_L(0,1,0,0), \"P10\"]\n",
    "    ]\n",
    "W = non_local_boxes.utils.W_BS09(1).detach()\n",
    "\n",
    "multiplication_table(\n",
    "    Boxes=Boxes,\n",
    "    W = W,\n",
    "    learning_rate=1,\n",
    "    number_steps=5000,\n",
    "    decimals = 2,\n",
    "    do_a_projection = False\n",
    "    )"
   ]
  },
  {
   "attachments": {},
   "cell_type": "markdown",
   "metadata": {},
   "source": [
    "---"
   ]
  },
  {
   "attachments": {},
   "cell_type": "markdown",
   "metadata": {},
   "source": [
    "# Other Stuff..."
   ]
  },
  {
   "cell_type": "code",
   "execution_count": 27,
   "metadata": {},
   "outputs": [],
   "source": [
    "# W = non_local_boxes.utils.W_NSSRRB22(1).detach()\n",
    "# non_local_boxes.utils.wiring_to_functions(W)"
   ]
  },
  {
   "cell_type": "code",
   "execution_count": 86,
   "metadata": {},
   "outputs": [
    {
     "name": "stdout",
     "output_type": "stream",
     "text": [
      "P = 0.1875·P0 + 0.1875·P1 + 0.0625·P01 + 0.5625·P10    (exact)\n"
     ]
    }
   ],
   "source": [
    "Boxes = [\n",
    "    [PR, \"PR\"],\n",
    "    [P_L(0,0,0,0), \"P0\"],\n",
    "    [P_L(0,1,0,1), \"P1\"],\n",
    "    [P_L(0,0,0,1), \"P01\"],\n",
    "    [P_L(0,1,0,0), \"P10\"],\n",
    "    #[I, \"I\"],\n",
    "    #[P_NL(0,1,1), \"P_NL(011)\"]\n",
    "    ]\n",
    "\n",
    "W = non_local_boxes.utils.W_NSSRRB22(1).detach()\n",
    "P =non_local_boxes.utils.tensor_to_matrix(non_local_boxes.evaluate.R(W, I, I))\n",
    "Pname = \"P\"\n",
    "\n",
    "write_combinaison(\n",
    "    P=P,\n",
    "    Pname = Pname,\n",
    "    Boxes=Boxes,\n",
    "    learning_rate=1,\n",
    "    number_steps=50000,\n",
    "    decimals = 3,\n",
    "    do_a_projection = False,\n",
    "    print_mistakes = True\n",
    "    )"
   ]
  },
  {
   "cell_type": "code",
   "execution_count": null,
   "metadata": {},
   "outputs": [],
   "source": []
  }
 ],
 "metadata": {
  "kernelspec": {
   "display_name": ".venv_boxes",
   "language": "python",
   "name": "python3"
  },
  "language_info": {
   "codemirror_mode": {
    "name": "ipython",
    "version": 3
   },
   "file_extension": ".py",
   "mimetype": "text/x-python",
   "name": "python",
   "nbconvert_exporter": "python",
   "pygments_lexer": "ipython3",
   "version": "3.9.12"
  },
  "orig_nbformat": 4
 },
 "nbformat": 4,
 "nbformat_minor": 2
}
