{
 "cells": [
  {
   "cell_type": "code",
   "execution_count": null,
   "metadata": {},
   "outputs": [],
   "source": [
    "import torch\n",
    "import non_local_boxes\n",
    "import numpy as np\n",
    "import math\n",
    "import matplotlib.pyplot as plt\n",
    "from matplotlib.colors import hsv_to_rgb\n",
    "import matplotlib.patches as mpatches\n",
    "\n",
    "import matplotlib.lines as mlines\n",
    "\n",
    "# Sugar coating for reloading\n",
    "%matplotlib inline\n",
    "%load_ext autoreload\n",
    "%autoreload 2\n",
    "\n",
    "# from IPython.display import set_matplotlib_formats\n",
    "# set_matplotlib_formats('svg')   # in ordert to have unblurred pictures\n",
    "plt.rcParams['figure.dpi'] = 300\n",
    "plt.rcParams['savefig.dpi'] = 300"
   ]
  },
  {
   "attachments": {},
   "cell_type": "markdown",
   "metadata": {},
   "source": [
    "# Definitions"
   ]
  },
  {
   "cell_type": "code",
   "execution_count": null,
   "metadata": {},
   "outputs": [],
   "source": [
    "matrix_to_tensor = non_local_boxes.utils.matrix_to_tensor\n",
    "tensor_to_matrix = non_local_boxes.utils.tensor_to_matrix\n",
    "\n",
    "# Boxes as 2x2x2x2 tensors\n",
    "PR = matrix_to_tensor(non_local_boxes.utils.PR)\n",
    "PRprime = matrix_to_tensor(non_local_boxes.utils.PRprime)\n",
    "SR = matrix_to_tensor(non_local_boxes.utils.SR)\n",
    "I = matrix_to_tensor(non_local_boxes.utils.I)\n",
    "\n",
    "n = non_local_boxes.evaluate.nb_columns\n",
    "W_BS09 = non_local_boxes.utils.W_BS09(n)\n",
    "\n",
    "def WinCHSH(P): return float(non_local_boxes.evaluate.h_flat(P))                    # P is a 2x2x2x2 tensor\n",
    "def WinCHSHprime(P): return float(non_local_boxes.evaluate.h_prime_flat(P))         # P is a 2x2x2x2 tensor\n",
    "def BoxProduct(W,P,Q): return non_local_boxes.evaluate.R_tensor(W,P,Q)[:,:,:,:,0]   # P,Q are is a 2x2x2x2 tensor\n",
    "\n",
    "def Catalan_number(k):\n",
    "    return int(math.factorial(2*(k-1))/(math.factorial(k)*math.factorial(k-1)))"
   ]
  },
  {
   "cell_type": "code",
   "execution_count": null,
   "metadata": {},
   "outputs": [],
   "source": [
    "def Compute_Coeff(P1, P2, P3, CHSHprime_value, CHSH_value):\n",
    "    A = np.array([[WinCHSHprime(P1), WinCHSHprime(P2), WinCHSHprime(P3)],\n",
    "                  [WinCHSH(P1), WinCHSH(P2), WinCHSH(P3)],\n",
    "                  [1, 1, 1]])\n",
    "    b = np.array([CHSHprime_value, CHSH_value, 1])\n",
    "    return np.linalg.solve(A,b).tolist()"
   ]
  },
  {
   "cell_type": "code",
   "execution_count": null,
   "metadata": {},
   "outputs": [],
   "source": [
    "def eta(P, x, y):\n",
    "    return 2*P[0, x*y, x, y] + 2*P[1, (1+x*y)%2, x, y] -1\n",
    "\n",
    "def BBP23_value(P):\n",
    "    A = (eta(P,0,0)+eta(P,0,1)+eta(P,1,0)+eta(P,1,1))**2\n",
    "    B = 2*eta(P,0,0)**2+4*eta(P, 1,0)*eta(P,0,1) + 2*eta(P, 1,1)**2\n",
    "    return A+B"
   ]
  },
  {
   "cell_type": "code",
   "execution_count": null,
   "metadata": {},
   "outputs": [],
   "source": [
    "def Compute_Orbits(P, W, max_depth):\n",
    "    Orbit = [P]  # each all_orbits[k] is a list, which is the orbit of depth k+1\n",
    "    for k in range(max_depth-1):\n",
    "       Orbit.append( BoxProduct(W, Orbit[-1], P) )\n",
    "    return Orbit"
   ]
  },
  {
   "cell_type": "code",
   "execution_count": null,
   "metadata": {},
   "outputs": [],
   "source": [
    "def Compute_Orbit_BS09(P, W, max_depth):\n",
    "    OrbitBS09 = [P]\n",
    "    k = 1\n",
    "    while 2**k<=max_depth:\n",
    "        k += 1\n",
    "        Q = OrbitBS09[-1]\n",
    "        OrbitBS09.append( BoxProduct(W, Q, Q) )\n",
    "    return OrbitBS09"
   ]
  },
  {
   "cell_type": "code",
   "execution_count": null,
   "metadata": {},
   "outputs": [],
   "source": [
    "def E(Box, x, y):\n",
    "    return Box[0,0,x,y] + Box[1,1,x,y] - Box[0,1,x,y] - Box[1,0,x,y]\n",
    "\n",
    "def is_in_Q(CHSHprime_value,CHSH_value):\n",
    "    alpha, beta, gamma = Compute_Coeff(PR, SR, I, CHSHprime_value=CHSHprime_value, CHSH_value=CHSH_value)\n",
    "    Box = alpha*PR + beta*SR + gamma*I\n",
    "        # Box is a 2x2x2x2 tensor\n",
    "    coeff00 = np.arcsin(E(Box,0,0))\n",
    "    coeff01 = np.arcsin(E(Box,0,1))\n",
    "    coeff10 = np.arcsin(E(Box,1,0))\n",
    "    coeff11 = np.arcsin(E(Box,1,1))\n",
    "    return coeff00 + coeff01 + coeff10 - coeff11 <= np.pi"
   ]
  },
  {
   "cell_type": "code",
   "execution_count": null,
   "metadata": {},
   "outputs": [],
   "source": [
    "def Draw_Orbit(P, P1, P1name, P2, P2name, P3, P3name, W, Wname, max_depth, details_BS09=False, precision_Q=0.0001, precision_coll_area=0.01):\n",
    "    # P, P1, P2, P3 are 2x2x2x2 matrices\n",
    "\n",
    "    # Draw the initial background triangle:\n",
    "    x1, y1 = WinCHSHprime(P1), WinCHSH(P1)\n",
    "    x2, y2 = WinCHSHprime(P2), WinCHSH(P2)\n",
    "    x3, y3 = WinCHSHprime(P3), WinCHSH(P3)\n",
    "    triangle = plt.Polygon(np.array([[x1, y1], [x2,y2], [x3, y3]]), color=hsv_to_rgb([0.475, 1, 0.9]))\n",
    "    plt.gca().add_patch(triangle)\n",
    "\n",
    "    BBLMTU_value = (3+math.sqrt(6))/6\n",
    "    BBLMTU_rectangle = plt.Polygon(np.array([[0.5, 1.0], [0.5,BBLMTU_value], [1.5-BBLMTU_value, BBLMTU_value]]), color=hsv_to_rgb([0.475, 1, 0.5]))\n",
    "    plt.gca().add_patch(BBLMTU_rectangle)\n",
    "\n",
    "    # Draw the Quantum area\n",
    "    CHSHprime_value=0.5\n",
    "    CHSH_value=(2+np.sqrt(2))/4\n",
    "    Quantum_color = 'pink'\n",
    "    while CHSHprime_value<=0.75:\n",
    "        if is_in_Q(CHSHprime_value, CHSH_value):\n",
    "            plt.plot([CHSHprime_value, CHSHprime_value], [CHSH_value, 0.75], color=Quantum_color)\n",
    "            CHSHprime_value+=precision_Q\n",
    "        else:\n",
    "            CHSH_value= max(CHSH_value-precision_Q, 0.75)\n",
    "    plt.plot(0.75, 0.75,'o', markersize=0.7, color=Quantum_color)\n",
    "\n",
    "    # Check if our coordinate system is good, i.e. if projected points aren't aligned:\n",
    "    if (x1 - x3)*(y2-y3)==(x2-x3)*(y1-y3):\n",
    "            print(\"WARNING: Error in the coordinate system.\")\n",
    "            return None\n",
    "    \n",
    "\n",
    "    x=0.5\n",
    "    y=BBLMTU_value\n",
    "    while y>0.75:\n",
    "        alpha, beta, gamma = Compute_Coeff(PR, SR, I, CHSHprime_value=x, CHSH_value=y)\n",
    "        P = alpha*PR + beta*SR + (1-alpha-beta)*I\n",
    "\n",
    "        # Check if Orbit intersects the BBLMTU area:\n",
    "        if details_BS09:\n",
    "            OrbitBS09 = Compute_Orbit_BS09(P, W, max_depth)\n",
    "            for Q in OrbitBS09:\n",
    "                x = WinCHSHprime(Q)\n",
    "                if x>=0.5:\n",
    "                    y = WinCHSH(Q)\n",
    "                    plt.plot(x, y, 'o', markersize=4, mfc='none', color='black')\n",
    "\n",
    "        # Check if Orbit intersects the BBLMTU area:\n",
    "        Orbits = Compute_Orbits(P, W, max_depth)\n",
    "        for k in range(len(Orbits)):\n",
    "            color = hsv_to_rgb([k/(7*(len(Orbits)-1)), 1, 1])\n",
    "            for Q in Orbits[k]:  # Q is a tensor\n",
    "                # Compute the abscissa and the ordinate:\n",
    "                x = WinCHSHprime(Q)\n",
    "                if x>=0.5:\n",
    "                    y = WinCHSH(Q)\n",
    "                    plt.plot(x, y, 'o', markersize=4, color=color)\n",
    "        \n",
    "        x+= precision_coll_area\n",
    "        if x+y>3/2:\n",
    "            x=0.5\n",
    "            y-=precision_coll_area\n",
    "                     \n",
    "    \n",
    "    \n",
    "    \n",
    "    plt.text(x1+0.001, y1, P1name, horizontalalignment='center',weight=\"bold\")\n",
    "    plt.text(x2, y2+0.007, P2name, verticalalignment='center',weight=\"bold\")\n",
    "    plt.text(x3, y3-0.007, P3name, verticalalignment='center',weight=\"bold\")\n",
    "    plt.title(\"Collapsing boxes, for computations until depth $k=$\"+str(max_depth)+\" with the wiring $\\mathsf{W}=$\"+Wname+\" \")\n",
    "    plt.xlabel(\"$\\mathbb{P}($win at CHSH'$)$\")\n",
    "    plt.ylabel(\"$\\mathbb{P}($win at CHSH$)$\")\n",
    "    handles = []\n",
    "    handles.append( mpatches.Patch(color=hsv_to_rgb([0.475, 1, 0.5]), label='Collapsing $\\mathcal{N\\!S}$-boxes from [BBLMTU06].') )\n",
    "    handles.append( mpatches.Patch(color=hsv_to_rgb([0.475, 1, 0.8]), label='Other $\\mathcal{N\\!S}$-boxes.') )\n",
    "    handles.append( mpatches.Patch(color=Quantum_color, label='Quantum boxes.') )\n",
    "    handles.append( mlines.Line2D([], [],color=hsv_to_rgb([0.0, 1, 1]), marker='o',ls='', label='Collapsing boxes found in [BS09].') )\n",
    "    handles.append( mlines.Line2D([], [],color=hsv_to_rgb([1/14, 1, 1]), marker='o',ls='', label='Collapsing boxes found in [BBP23].') )\n",
    "    handles.append(  mlines.Line2D([], [],color=hsv_to_rgb([1/7, 1, 1]), marker='o',ls='', label='Our new collapsing boxes.') )\n",
    "    plt.legend(handles=handles, loc='upper right', fontsize = 9)\n",
    "    plt.show()\n"
   ]
  },
  {
   "attachments": {},
   "cell_type": "markdown",
   "metadata": {},
   "source": [
    "# Compute the Orbit"
   ]
  },
  {
   "cell_type": "code",
   "execution_count": null,
   "metadata": {},
   "outputs": [],
   "source": [
    "# alpha = 0.47\n",
    "# beta = 0.51\n",
    "alpha, beta, gamma = Compute_Coeff(PR, SR, I, CHSHprime_value=0.627, CHSH_value=0.862)\n",
    "P = alpha*PR + beta*SR + (1-alpha-beta)*I\n",
    "\n",
    "Orbits = Draw_Orbit(\n",
    "    P = P,\n",
    "    P1 = PR,\n",
    "    P1name = \"PR\",\n",
    "    P2 = SR,\n",
    "    P2name = \"SR\",\n",
    "    P3 = (I+PR)/2,\n",
    "    P3name = \"(I+PR)/2\",\n",
    "    W = W_BS09,\n",
    "    Wname = \"$\\mathsf{W}_{bs}$\",\n",
    "    max_depth = 5, \n",
    "    details_BS09=True,\n",
    "    precision_Q=0.001\n",
    ")"
   ]
  },
  {
   "cell_type": "code",
   "execution_count": null,
   "metadata": {},
   "outputs": [],
   "source": [
    "alpha = 0.47\n",
    "beta = 0.51\n",
    "P = alpha*PR + beta*SR + (1-alpha-beta)*I\n",
    "\n",
    "Orbits = Draw_Orbit(\n",
    "    P = P,\n",
    "    P1 = PR,\n",
    "    P1name = \"PR\",\n",
    "    P2 = SR,\n",
    "    P2name = \"SR\",\n",
    "    P3 = (I+PR)/2,\n",
    "    P3name = \"(I+PR)/2\",\n",
    "    W = non_local_boxes.utils.W_FWW09(n),\n",
    "    Wname = \"$W_{\\oplus}$\",\n",
    "    max_depth = 12,\n",
    "    precision_Q=0.0001\n",
    ")"
   ]
  },
  {
   "attachments": {},
   "cell_type": "markdown",
   "metadata": {},
   "source": [
    "# Other Stuff"
   ]
  },
  {
   "cell_type": "code",
   "execution_count": null,
   "metadata": {},
   "outputs": [],
   "source": [
    "W = W_BS09\n",
    "max_depth = 6\n",
    "\n",
    "print(\"BBLMTU value: \", (3+math.sqrt(6))/6)\n",
    "print(\"------\")\n",
    "\n",
    "Orbits = Compute_Orbits(P, W, max_depth)\n",
    "for k in range(len(Orbits)):\n",
    "    y = 0\n",
    "    for Q in Orbits[k]:\n",
    "        y = max(WinCHSH(Q), y)\n",
    "    print(\"For k=\",k+1,\", CHSH value = \",y)\n",
    "\n",
    "print(\"------\")\n",
    "print(\"ORBIT BS09\")\n",
    "OrbitBS09 = Compute_Orbit_BS09(P, W, 2**max_depth)\n",
    "for Q in OrbitBS09:\n",
    "    y = WinCHSH(Q)\n",
    "    print(y)"
   ]
  },
  {
   "cell_type": "code",
   "execution_count": null,
   "metadata": {},
   "outputs": [],
   "source": [
    "x = WinCHSHprime(P)\n",
    "y = WinCHSH(P)\n",
    "print(x,y)\n",
    "print(BBP23_value(P))"
   ]
  },
  {
   "cell_type": "code",
   "execution_count": null,
   "metadata": {},
   "outputs": [],
   "source": [
    "OrbitBS09 = Compute_Orbit_BS09(P, W, 2**max_depth)\n",
    "for Q in OrbitBS09:\n",
    "    print(\"---\")\n",
    "    OrbitBS09_Q = Compute_Orbit_BS09(Q, W, 2**max_depth)\n",
    "    for R in OrbitBS09_Q:\n",
    "        y = WinCHSH(R)\n",
    "        print(y)"
   ]
  },
  {
   "cell_type": "code",
   "execution_count": null,
   "metadata": {},
   "outputs": [],
   "source": []
  }
 ],
 "metadata": {
  "kernelspec": {
   "display_name": ".venv_boxes",
   "language": "python",
   "name": "python3"
  },
  "language_info": {
   "codemirror_mode": {
    "name": "ipython",
    "version": 3
   },
   "file_extension": ".py",
   "mimetype": "text/x-python",
   "name": "python",
   "nbconvert_exporter": "python",
   "pygments_lexer": "ipython3",
   "version": "3.9.12"
  },
  "orig_nbformat": 4
 },
 "nbformat": 4,
 "nbformat_minor": 2
}
