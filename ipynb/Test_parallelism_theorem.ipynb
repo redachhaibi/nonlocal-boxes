{
 "cells": [
  {
   "cell_type": "code",
   "execution_count": 1,
   "metadata": {},
   "outputs": [],
   "source": [
    "import torch\n",
    "import numpy as np\n",
    "import non_local_boxes\n",
    "import matplotlib.pyplot as plt\n",
    "import random\n",
    "\n",
    "# Sugar coating for reloading\n",
    "%matplotlib inline\n",
    "%load_ext autoreload\n",
    "%autoreload 2"
   ]
  },
  {
   "cell_type": "code",
   "execution_count": 2,
   "metadata": {},
   "outputs": [],
   "source": [
    "matrix_to_tensor = non_local_boxes.utils.matrix_to_tensor\n",
    "tensor_to_matrix = non_local_boxes.utils.tensor_to_matrix\n",
    "\n",
    "PR = matrix_to_tensor(non_local_boxes.utils.PR)\n",
    "SR = matrix_to_tensor(non_local_boxes.utils.SR)\n",
    "I = matrix_to_tensor(non_local_boxes.utils.I)\n",
    "\n",
    "n = non_local_boxes.evaluate.nb_columns\n",
    "W_BS09 = non_local_boxes.utils.W_BS09(n)\n",
    "\n",
    "def WinCHSH(P): return float(non_local_boxes.evaluate.h_flat(P))                    # P is a 2x2x2x2 tensor\n",
    "def WinCHSHprime(P): return float(non_local_boxes.evaluate.h_prime_flat(P))         # P is a 2x2x2x2 tensor\n",
    "def BoxProduct(W,P,Q): return non_local_boxes.evaluate.R_tensor(W,P,Q)[:,:,:,:,0]   # P,Q are is a 2x2x2x2 tensor"
   ]
  },
  {
   "cell_type": "code",
   "execution_count": 3,
   "metadata": {},
   "outputs": [
    {
     "name": "stdout",
     "output_type": "stream",
     "text": [
      "0.33474429368449343 0.6652557063155066\n",
      "1.0\n",
      "0.666313886642456 0.8336860537528992\n",
      "0.6663139265788767 0.8336860734211233\n"
     ]
    }
   ],
   "source": [
    "p = random.random()\n",
    "q = random.random()\n",
    "if p+q>1:\n",
    "    a = -(p+q-1)/2\n",
    "    p += a\n",
    "    q += a\n",
    "\n",
    "print(p,q)\n",
    "print(p+q)\n",
    "P = p*PR + q*SR + (1-p-q)*I\n",
    "print(WinCHSHprime(P), WinCHSH(P))\n",
    "print(p/2 + (3/4)*q + (1-p-q)/2, p+(3/4)*q+(1-p-q)/2)"
   ]
  },
  {
   "cell_type": "code",
   "execution_count": 4,
   "metadata": {},
   "outputs": [],
   "source": [
    "def generate_p_q():\n",
    "    p = random.random()\n",
    "    q = random.random()\n",
    "    if p+q>1:\n",
    "        a = -(p+q-1)/2\n",
    "        p += a\n",
    "        q += a\n",
    "    return p,q"
   ]
  },
  {
   "cell_type": "code",
   "execution_count": 5,
   "metadata": {},
   "outputs": [],
   "source": [
    "def expression_A_B(P):\n",
    "    p1, p2 = WinCHSHprime(P), WinCHSH(P)\n",
    "    print(\"P=(\",p1,p2,\")\")\n",
    "    a1 = (1 + 10*p1**3 + 3*p2 - 4*p2**2 + (p1**2)*(-13+21*p2) + 2*p1*(3-8*p2+6*p2**2))*(1/4)\n",
    "    a2 = (-1 + 6*p1**3 + 9*p2 - 20*p2**2 + 16*p2**3 + (p1**2)*(-11+27*p2) + p1*(6-32*p2+36*p2**2))/4\n",
    "    b1 = (1 + 4*p1**3 + 2*p2 - 3*p2**2 + (4*p1**2)*(-1+3*p2) + p1*(3-8*p2+9*p2**2))/4\n",
    "    b2 = (-1 + 12*p1**3 + 10*p2 - 21*p2**2 + 16*p2**3 + (4*p1**2)*(-5+9*p2) + p1*(9-40*p2+39*p2**2))/4\n",
    "    return [a1, a2, b1, b2]"
   ]
  },
  {
   "cell_type": "code",
   "execution_count": 6,
   "metadata": {},
   "outputs": [
    {
     "name": "stdout",
     "output_type": "stream",
     "text": [
      "P=( 0.6824483871459961 0.8175516128540039 )\n",
      "[1.6350911771968082, 2.864908822803192, 1.5741593256945756, 2.9258406743054244]\n",
      "0.6488045454025269 0.8511954545974731\n",
      "0.6364798545837402 0.8635201454162598\n"
     ]
    }
   ],
   "source": [
    "nb_iter = 1\n",
    "\n",
    "for _ in range(nb_iter):\n",
    "    p,q = generate_p_q()\n",
    "    P = p*PR + q*SR + (1-p-q)*I\n",
    "    A = BoxProduct(W_BS09, P, BoxProduct(W_BS09, P, P))\n",
    "    B = BoxProduct(W_BS09, BoxProduct(W_BS09, P, P), P)\n",
    "    L = expression_A_B(P)\n",
    "    # print(abs(WinCHSHprime(A) - L[0]))\n",
    "    # if abs(WinCHSHprime(A) - L[0])<1e-5:\n",
    "    #     print(True)\n",
    "    print(L)\n",
    "    print(WinCHSHprime(A), WinCHSH(A))\n",
    "    print(WinCHSHprime(B), WinCHSH(B))"
   ]
  },
  {
   "attachments": {},
   "cell_type": "markdown",
   "metadata": {},
   "source": [
    "CALCULER À LA MAIN !!"
   ]
  },
  {
   "attachments": {},
   "cell_type": "markdown",
   "metadata": {},
   "source": [
    "# $P \\boxtimes (P\\boxtimes P)$"
   ]
  },
  {
   "cell_type": "code",
   "execution_count": 7,
   "metadata": {},
   "outputs": [],
   "source": [
    "def coeff_PR(p,q):\n",
    "    return p*(1+2*p + 13*p**2 + 6*q + 30*p*q + 21*q**2)/16\n",
    "\n",
    "def coeff_SR(p,q):\n",
    "    return (-p-2*p**2 + 3*p**3 -6*p*q + 18*p**2*q + 27*p*q**2 + 16*q**3)/16\n",
    "\n",
    "def coeff_I(p,q):\n",
    "    return (1-p-q)*(1+p+q+2*p*q + p**2 + q**2)"
   ]
  },
  {
   "cell_type": "code",
   "execution_count": 126,
   "metadata": {},
   "outputs": [
    {
     "name": "stdout",
     "output_type": "stream",
     "text": [
      "1.0\n",
      "[[[[2.9802322387695312e-08, 2.9802322387695312e-08], [2.9802322387695312e-08, 2.9802322387695312e-08]], [[1.4901161193847656e-08, 1.4901161193847656e-08], [1.4901161193847656e-08, 0.0]]], [[[1.4901161193847656e-08, 1.4901161193847656e-08], [1.4901161193847656e-08, 2.9802322387695312e-08]], [[2.9802322387695312e-08, 2.9802322387695312e-08], [2.9802322387695312e-08, 4.470348358154297e-08]]]]\n",
      "[2.9802322387695312e-08, 2.9802322387695312e-08, 2.9802322387695312e-08, 2.9802322387695312e-08, 1.4901161193847656e-08, 1.4901161193847656e-08, 1.4901161193847656e-08, 0.0, 1.4901161193847656e-08, 1.4901161193847656e-08, 1.4901161193847656e-08, 2.9802322387695312e-08, 2.9802322387695312e-08, 2.9802322387695312e-08, 2.9802322387695312e-08, 4.470348358154297e-08]\n"
     ]
    },
    {
     "data": {
      "image/png": "[encoded data removed]",
      "text/plain": [
       "<Figure size 640x480 with 1 Axes>"
      ]
     },
     "metadata": {},
     "output_type": "display_data"
    }
   ],
   "source": [
    "p,q = generate_p_q()\n",
    "P = p*PR + q*SR + (1-p-q)*I\n",
    "A = BoxProduct(W_BS09, P, BoxProduct(W_BS09, P, P))\n",
    "print(coeff_PR(p,q) + coeff_SR(p,q) + coeff_I(p,q))\n",
    "L = (A - (coeff_PR(p,q)*PR + coeff_SR(p,q)*SR + coeff_I(p,q)*I)).tolist()\n",
    "print(L)\n",
    "L = sum(L, [])\n",
    "L = sum(L, [])\n",
    "L = sum(L, [])\n",
    "print(L)\n",
    "\n",
    "plt.hist(L)\n",
    "plt.show()"
   ]
  },
  {
   "attachments": {},
   "cell_type": "markdown",
   "metadata": {},
   "source": [
    "# $(P\\boxtimes P)\\boxtimes P$"
   ]
  },
  {
   "cell_type": "code",
   "execution_count": 8,
   "metadata": {},
   "outputs": [],
   "source": [
    "def coeff_PR_2(p,q):\n",
    "    return p*(2 + p + 5*p**2 + 2*q + 15*p*q + 12*q**2)/8\n",
    "\n",
    "def coeff_SR_2(p,q):\n",
    "    return (-2*p - p**2 + 3*p**3 - 2*p*q + 9*p**2*q + 12*p*q**2 + 8*q**3)/8\n",
    "\n",
    "def coeff_I_2(p,q):\n",
    "    return (1-p-q)*(1+p+q+2*p*q + p**2 + q**2)"
   ]
  },
  {
   "cell_type": "code",
   "execution_count": 9,
   "metadata": {},
   "outputs": [
    {
     "name": "stdout",
     "output_type": "stream",
     "text": [
      "1.0\n",
      "[[[[0.0, 0.0], [0.0, -1.4901161193847656e-08]], [[0.0, 0.0], [0.0, 0.0]]], [[[0.0, 0.0], [0.0, 0.0]], [[0.0, 0.0], [0.0, 0.0]]]]\n",
      "[0.0, 0.0, 0.0, -1.4901161193847656e-08, 0.0, 0.0, 0.0, 0.0, 0.0, 0.0, 0.0, 0.0, 0.0, 0.0, 0.0, 0.0]\n"
     ]
    },
    {
     "data": {
      "image/png": "[encoded data removed]",
      "text/plain": [
       "<Figure size 640x480 with 1 Axes>"
      ]
     },
     "metadata": {},
     "output_type": "display_data"
    }
   ],
   "source": [
    "p,q = generate_p_q()\n",
    "P = p*PR + q*SR + (1-p-q)*I\n",
    "A = BoxProduct(W_BS09, BoxProduct(W_BS09, P, P), P)\n",
    "print(coeff_PR_2(p,q) + coeff_SR_2(p,q) + coeff_I_2(p,q))\n",
    "L = (A - (coeff_PR_2(p,q)*PR + coeff_SR_2(p,q)*SR + coeff_I_2(p,q)*I)).tolist()\n",
    "print(L)\n",
    "L = sum(L, [])\n",
    "L = sum(L, [])\n",
    "L = sum(L, [])\n",
    "print(L)\n",
    "\n",
    "plt.hist(L)\n",
    "plt.show()"
   ]
  },
  {
   "cell_type": "code",
   "execution_count": null,
   "metadata": {},
   "outputs": [],
   "source": []
  }
 ],
 "metadata": {
  "kernelspec": {
   "display_name": ".venv_boxes",
   "language": "python",
   "name": "python3"
  },
  "language_info": {
   "codemirror_mode": {
    "name": "ipython",
    "version": 3
   },
   "file_extension": ".py",
   "mimetype": "text/x-python",
   "name": "python",
   "nbconvert_exporter": "python",
   "pygments_lexer": "ipython3",
   "version": "3.9.12"
  },
  "orig_nbformat": 4
 },
 "nbformat": 4,
 "nbformat_minor": 2
}
