{
 "cells": [
  {
   "cell_type": "code",
   "execution_count": 1,
   "id": "67f8a8b8",
   "metadata": {},
   "outputs": [],
   "source": [
    "import numpy as np\n",
    "import random  # for the random wirings\n",
    "import time # to compare the algorithm timings"
   ]
  },
  {
   "cell_type": "markdown",
   "id": "015ae089",
   "metadata": {},
   "source": [
    "> See the attached PDF for the meaning of the notations."
   ]
  },
  {
   "cell_type": "markdown",
   "id": "d0692f0e",
   "metadata": {},
   "source": [
    "# I. Vectorialization"
   ]
  },
  {
   "cell_type": "markdown",
   "id": "b7c06be5",
   "metadata": {},
   "source": [
    "## 1.1. Definition of h"
   ]
  },
  {
   "cell_type": "code",
   "execution_count": 2,
   "id": "4d75fc8a",
   "metadata": {},
   "outputs": [
    {
     "name": "stdout",
     "output_type": "stream",
     "text": [
      "[[0.25 0.   0.   0.25]\n",
      " [0.25 0.   0.   0.25]\n",
      " [0.25 0.   0.   0.25]\n",
      " [0.   0.25 0.25 0.  ]]\n"
     ]
    }
   ],
   "source": [
    "\"\"\"CHSH = np.array([\n",
    "    [0.25, 0, 0, 0.25],\n",
    "    [0.25, 0, 0, 0.25],\n",
    "    [0.25, 0, 0, 0.25],\n",
    "    [0, 0.25, 0.25, 0]\n",
    "])\"\"\"\n",
    "\n",
    "CHSH = np.zeros((4,4))\n",
    "\n",
    "for a in range(2):\n",
    "    for b in range(2):\n",
    "        for x in range(2):\n",
    "            for y in range(2):\n",
    "                if (a+b)%2 == x*y:\n",
    "                    CHSH[2*x+y, 2*a+b]=0.25\n",
    "                    \n",
    "print(CHSH)"
   ]
  },
  {
   "cell_type": "code",
   "execution_count": 4,
   "id": "6de2471a",
   "metadata": {},
   "outputs": [],
   "source": [
    "def h(Q):\n",
    "    return np.dot( CHSH.flatten(), Q.flatten() )  # scalar product of Q and CHSH"
   ]
  },
  {
   "cell_type": "markdown",
   "id": "2aea6740",
   "metadata": {},
   "source": [
    "## 1.2. Computation of A(W)"
   ]
  },
  {
   "cell_type": "code",
   "execution_count": 23,
   "id": "c1cf2993",
   "metadata": {},
   "outputs": [],
   "source": [
    "# A1 is a 2x4x4x32-tensor\n",
    "A1 = np.zeros( (2, 4, 4, 32) )\n",
    "\n",
    "for x in range(2):\n",
    "    for j in range(4):\n",
    "        \n",
    "        sign = 1\n",
    "        if j >= 2:\n",
    "            sign=-1\n",
    "            \n",
    "        A1[x, 0, j, 0] = sign*(x-1)\n",
    "        A1[x, 1, j, 0] = sign*(x-1)\n",
    "        A1[x, 2, j, 1] = sign*(x-1)\n",
    "        A1[x, 3, j, 1] = sign*(x-1)\n",
    "        \n",
    "        A1[x, 0, j, 2] = sign*(-x)\n",
    "        A1[x, 1, j, 2] = sign*(-x)\n",
    "        A1[x, 2, j, 3] = sign*(-x)\n",
    "        A1[x, 3, j, 3] = sign*(-x)\n",
    "\n",
    "#print(A1)"
   ]
  },
  {
   "cell_type": "code",
   "execution_count": 24,
   "id": "374ea324",
   "metadata": {},
   "outputs": [],
   "source": [
    "# A2 is a 2x4x4-tensor\n",
    "A2 = np.zeros( (2, 4, 4) )\n",
    "\n",
    "for x in range(2):\n",
    "    for i in range(4):\n",
    "        for k in range(4):\n",
    "            if k<=1:\n",
    "                A2[x, i, k]=1\n",
    "\n",
    "#print(A2)"
   ]
  },
  {
   "cell_type": "code",
   "execution_count": 22,
   "id": "0dd136f2",
   "metadata": {},
   "outputs": [
    {
     "data": {
      "text/plain": [
       "array([[[1., 1., 0., 0.],\n",
       "        [1., 1., 0., 0.],\n",
       "        [1., 1., 0., 0.],\n",
       "        [1., 1., 0., 0.]],\n",
       "\n",
       "       [[0., 0., 1., 1.],\n",
       "        [0., 0., 1., 1.],\n",
       "        [0., 0., 1., 1.],\n",
       "        [0., 0., 1., 1.]]])"
      ]
     },
     "execution_count": 22,
     "metadata": {},
     "output_type": "execute_result"
    }
   ],
   "source": [
    "W_BS09 = [0, 0, 1, 1,              # f_1(x, a_2) = x\n",
    "          0, 0, 1, 1,              # g_1(y, b_2) = y\n",
    "          0, 0, 0, 1,              # f_2(x, a_1) = a_1*x\n",
    "          0, 0, 0, 1,              # g_2(y, b_1) = b_1*y\n",
    "          0, 1, 1, 0, 0, 1, 1, 0,  # f_3(x, a_1, a_2) = a_1 + a_2 mod 2\n",
    "          0, 1, 1, 0, 0, 1, 1, 0   # g_3(y, b_1, b_2) = b_1 + b_2 mod 2\n",
    "         ]\n",
    "\n",
    "np.tensordot(A1, W_BS09, axes=([3, 0])) + A2"
   ]
  },
  {
   "cell_type": "markdown",
   "id": "439a3eb9",
   "metadata": {},
   "source": [
    "-> This is well the wanted result"
   ]
  },
  {
   "cell_type": "code",
   "execution_count": 26,
   "id": "4dffc04a",
   "metadata": {},
   "outputs": [],
   "source": [
    "# A3 is a 2x4x4x32-tensor\n",
    "A3 = np.zeros( (2, 4, 4, 32) )\n",
    "\n",
    "for y in range(2):\n",
    "    for j in range(4):\n",
    "        \n",
    "        sign = 1\n",
    "        if j==1 or j==3:\n",
    "            sign=-1\n",
    "            \n",
    "        A3[y, 0, j, 0 +4] = sign*(y-1)\n",
    "        A3[y, 2, j, 0 +4] = sign*(y-1)\n",
    "        A3[y, 1, j, 1 +4] = sign*(y-1)\n",
    "        A3[y, 3, j, 1 +4] = sign*(y-1)\n",
    "        \n",
    "        A3[y, 0, j, 2 +4] = sign*(-y)\n",
    "        A3[y, 2, j, 2 +4] = sign*(-y)\n",
    "        A3[y, 1, j, 3 +4] = sign*(-y)\n",
    "        A3[y, 3, j, 3 +4] = sign*(-y)\n",
    "        \n",
    "#print(A3)"
   ]
  },
  {
   "cell_type": "code",
   "execution_count": 28,
   "id": "766752a1",
   "metadata": {},
   "outputs": [],
   "source": [
    "# A4 is a 2x4x4-tensor\n",
    "A4 = np.zeros( (2, 4, 4) )\n",
    "\n",
    "for y in range(2):\n",
    "    for i in range(4):\n",
    "        for k in range(4):\n",
    "            if k==0 or k==2:\n",
    "                A4[y, i, k]=1\n",
    "                \n",
    "#print(A4)"
   ]
  },
  {
   "cell_type": "code",
   "execution_count": 29,
   "id": "f9d041ad",
   "metadata": {},
   "outputs": [
    {
     "data": {
      "text/plain": [
       "array([[[1., 0., 1., 0.],\n",
       "        [1., 0., 1., 0.],\n",
       "        [1., 0., 1., 0.],\n",
       "        [1., 0., 1., 0.]],\n",
       "\n",
       "       [[0., 1., 0., 1.],\n",
       "        [0., 1., 0., 1.],\n",
       "        [0., 1., 0., 1.],\n",
       "        [0., 1., 0., 1.]]])"
      ]
     },
     "execution_count": 29,
     "metadata": {},
     "output_type": "execute_result"
    }
   ],
   "source": [
    "np.tensordot(A3, W_BS09, axes=([3, 0])) + A4"
   ]
  },
  {
   "cell_type": "markdown",
   "id": "b68f5ab4",
   "metadata": {},
   "source": [
    "-> We well obtain the wanted result.\n",
    "\n",
    "We obtain $A(W)$:"
   ]
  },
  {
   "cell_type": "code",
   "execution_count": 87,
   "id": "4a7cc45b",
   "metadata": {},
   "outputs": [
    {
     "data": {
      "text/plain": [
       "array([[[1., 0., 0., 0.],\n",
       "        [1., 0., 0., 0.],\n",
       "        [1., 0., 0., 0.],\n",
       "        [1., 0., 0., 0.]],\n",
       "\n",
       "       [[0., 0., 0., 1.],\n",
       "        [0., 0., 0., 1.],\n",
       "        [0., 0., 0., 1.],\n",
       "        [0., 0., 0., 1.]]])"
      ]
     },
     "execution_count": 87,
     "metadata": {},
     "output_type": "execute_result"
    }
   ],
   "source": [
    "def A(W):  # W is a vector with 32 entries\n",
    "    T1 = np.tensordot(A1, W, axes=([3, 0])) + A2\n",
    "    T2 = np.tensordot(A3, W, axes=([3, 0])) + A4\n",
    "    return T1 * T2\n",
    "\n",
    "A(W_BS09)\n",
    "    "
   ]
  },
  {
   "cell_type": "markdown",
   "id": "4965555a",
   "metadata": {},
   "source": [
    "-> This is the wanted result."
   ]
  },
  {
   "cell_type": "markdown",
   "id": "231ee3df",
   "metadata": {},
   "source": [
    "## 1.3. Definition of B(W)"
   ]
  },
  {
   "cell_type": "code",
   "execution_count": 34,
   "id": "cd95cfe9",
   "metadata": {},
   "outputs": [],
   "source": [
    "# B1 is a 2x4x4x32-tensor\n",
    "B1 = np.zeros( (2, 4, 4, 32) )\n",
    "\n",
    "for x in range(2):\n",
    "    for l in range(4):\n",
    "        \n",
    "        sign = 1\n",
    "        if l>=2:\n",
    "            sign=-1\n",
    "            \n",
    "        B1[x, 0, l, 0 +8] = sign * (x-1)\n",
    "        B1[x, 1, l, 0 +8] = sign * (x-1)\n",
    "        B1[x, 2, l, 1 +8] = sign * (x-1)\n",
    "        B1[x, 3, l, 1 +8] = sign * (x-1)\n",
    "        \n",
    "        B1[x, 0, l, 2 +8] = sign * (-x)\n",
    "        B1[x, 1, l, 2 +8] = sign * (-x)\n",
    "        B1[x, 2, l, 3 +8] = sign * (-x)\n",
    "        B1[x, 3, l, 3 +8] = sign * (-x)\n",
    "\n",
    "#print(B1)"
   ]
  },
  {
   "cell_type": "code",
   "execution_count": 36,
   "id": "ec29607d",
   "metadata": {},
   "outputs": [],
   "source": [
    "# B2 is equal to A2\n",
    "B2 = A2\n",
    "\n",
    "#print(B2)"
   ]
  },
  {
   "cell_type": "code",
   "execution_count": 38,
   "id": "81d6b2d0",
   "metadata": {},
   "outputs": [],
   "source": [
    "# B3 is a 2x4x4x32-tensor\n",
    "B3 = np.zeros( (2, 4, 4, 32) )\n",
    "\n",
    "for y in range(2):\n",
    "    for l in range(4):\n",
    "        \n",
    "        sign=1\n",
    "        if l==1 or l==3:\n",
    "            sign=-1\n",
    "        \n",
    "        B3[y, 0, l, 0 +12] = sign * (y-1)\n",
    "        B3[y, 2, l, 0 +12] = sign * (y-1)\n",
    "        B3[y, 1, l, 1 +12] = sign * (y-1)\n",
    "        B3[y, 3, l, 1 +12] = sign * (y-1)\n",
    "        \n",
    "        B3[y, 0, l, 2 +12] = sign * (-y)\n",
    "        B3[y, 2, l, 2 +12] = sign * (-y)\n",
    "        B3[y, 1, l, 3 +12] = sign * (-y)\n",
    "        B3[y, 3, l, 3 +12] = sign * (-y)\n",
    "\n",
    "#print(B3)"
   ]
  },
  {
   "cell_type": "code",
   "execution_count": 40,
   "id": "6dcc91ed",
   "metadata": {},
   "outputs": [],
   "source": [
    "# B4 is equal to A4\n",
    "B4 = A4\n",
    "\n",
    "#print(B4)"
   ]
  },
  {
   "cell_type": "code",
   "execution_count": 86,
   "id": "1c1e1f77",
   "metadata": {},
   "outputs": [
    {
     "data": {
      "text/plain": [
       "array([[[1., 0., 0., 0.],\n",
       "        [1., 0., 0., 0.],\n",
       "        [1., 0., 0., 0.],\n",
       "        [1., 0., 0., 0.]],\n",
       "\n",
       "       [[1., 0., 0., 0.],\n",
       "        [0., 1., 0., 0.],\n",
       "        [0., 0., 1., 0.],\n",
       "        [0., 0., 0., 1.]]])"
      ]
     },
     "execution_count": 86,
     "metadata": {},
     "output_type": "execute_result"
    }
   ],
   "source": [
    "def B(W):   # W is a vector with 32 entries\n",
    "    T1 = np.tensordot(B1, W, axes=([3, 0])) + B2\n",
    "    T2 = np.tensordot(B3, W, axes=([3, 0])) + B4\n",
    "    return T1 * T2\n",
    "\n",
    "B(W_BS09)\n"
   ]
  },
  {
   "cell_type": "markdown",
   "id": "ba9d6cce",
   "metadata": {},
   "source": [
    "-> This is the wanted result."
   ]
  },
  {
   "cell_type": "markdown",
   "id": "23e5d210",
   "metadata": {},
   "source": [
    "## 1.4. Definition of C(W)"
   ]
  },
  {
   "cell_type": "code",
   "execution_count": 94,
   "id": "3ccae564",
   "metadata": {},
   "outputs": [],
   "source": [
    "# C1 is a 2x2x4x4x32-tensor\n",
    "C1 = np.zeros( (2, 2, 4, 4, 32) )\n",
    "\n",
    "for a in range(2):\n",
    "    for x in range(2):\n",
    "        for j in range(4):\n",
    "            if j<=1:\n",
    "                C1[a, x, 0, j, 0 +16] = -(1-x) * (-1)**a\n",
    "                C1[a, x, 1, j, 0 +16] = -(1-x) * (-1)**a\n",
    "                C1[a, x, 2, j, 1 +16] = -(1-x) * (-1)**a\n",
    "                C1[a, x, 3, j, 1 +16] = -(1-x) * (-1)**a\n",
    "                \n",
    "                C1[a, x, 0, j, 4 +16] = -(x) * (-1)**a\n",
    "                C1[a, x, 1, j, 4 +16] = -(x) * (-1)**a\n",
    "                C1[a, x, 2, j, 5 +16] = -(x) * (-1)**a\n",
    "                C1[a, x, 3, j, 5 +16] = -(x) * (-1)**a\n",
    "            \n",
    "            if j>=2:\n",
    "                C1[a, x, 0, j, 0 +18] = -(1-x) * (-1)**a\n",
    "                C1[a, x, 1, j, 0 +18] = -(1-x) * (-1)**a\n",
    "                C1[a, x, 2, j, 1 +18] = -(1-x) * (-1)**a\n",
    "                C1[a, x, 3, j, 1 +18] = -(1-x) * (-1)**a\n",
    "                \n",
    "                C1[a, x, 0, j, 4 +18] = -(x) * (-1)**a\n",
    "                C1[a, x, 1, j, 4 +18] = -(x) * (-1)**a\n",
    "                C1[a, x, 2, j, 5 +18] = -(x) * (-1)**a\n",
    "                C1[a, x, 3, j, 5 +18] = -(x) * (-1)**a\n",
    "                \n",
    "\n",
    "#print(C1)"
   ]
  },
  {
   "cell_type": "code",
   "execution_count": 95,
   "id": "69470f7d",
   "metadata": {},
   "outputs": [
    {
     "data": {
      "text/plain": [
       "array([[[[ 0.,  0., -1., -1.],\n",
       "         [ 0.,  0., -1., -1.],\n",
       "         [-1., -1.,  0.,  0.],\n",
       "         [-1., -1.,  0.,  0.]],\n",
       "\n",
       "        [[ 0.,  0., -1., -1.],\n",
       "         [ 0.,  0., -1., -1.],\n",
       "         [-1., -1.,  0.,  0.],\n",
       "         [-1., -1.,  0.,  0.]]],\n",
       "\n",
       "\n",
       "       [[[ 0.,  0.,  1.,  1.],\n",
       "         [ 0.,  0.,  1.,  1.],\n",
       "         [ 1.,  1.,  0.,  0.],\n",
       "         [ 1.,  1.,  0.,  0.]],\n",
       "\n",
       "        [[ 0.,  0.,  1.,  1.],\n",
       "         [ 0.,  0.,  1.,  1.],\n",
       "         [ 1.,  1.,  0.,  0.],\n",
       "         [ 1.,  1.,  0.,  0.]]]])"
      ]
     },
     "execution_count": 95,
     "metadata": {},
     "output_type": "execute_result"
    }
   ],
   "source": [
    "np.tensordot(C1, W_BS09, axes=([4, 0]))"
   ]
  },
  {
   "cell_type": "markdown",
   "id": "1636d91e",
   "metadata": {},
   "source": [
    "-> This is well the expected result."
   ]
  },
  {
   "cell_type": "code",
   "execution_count": 97,
   "id": "0ea26a17",
   "metadata": {},
   "outputs": [],
   "source": [
    "# C2 is a 2x2x4x4-tensor\n",
    "C2 = np.zeros( (2, 2, 4, 4) )\n",
    "\n",
    "for x in range(2):\n",
    "    for i in range(4):\n",
    "        for j in range(4):\n",
    "            C2[0, x, i, j]=1\n",
    "            \n",
    "#print(C2)"
   ]
  },
  {
   "cell_type": "markdown",
   "id": "efe6bcc1",
   "metadata": {},
   "source": [
    "---\n",
    "#### Kronecker product:"
   ]
  },
  {
   "cell_type": "code",
   "execution_count": 82,
   "id": "515c2640",
   "metadata": {},
   "outputs": [
    {
     "data": {
      "text/plain": [
       "'v = np.arange(4).reshape(2,2)\\nw = np.ones((3, 3))\\n\\nprint(np.tensordot(w, v, axes=0))'"
      ]
     },
     "execution_count": 82,
     "metadata": {},
     "output_type": "execute_result"
    }
   ],
   "source": [
    "v = np.arange(4).reshape(2,2)\n",
    "w = np.ones((3, 3))\n",
    "\n",
    "print(np.tensordot(w, v, axes=0))"
   ]
  },
  {
   "cell_type": "markdown",
   "id": "7a9617ec",
   "metadata": {},
   "source": [
    "#### Permute some entries of a tensor:"
   ]
  },
  {
   "cell_type": "code",
   "execution_count": 89,
   "id": "ad37d648",
   "metadata": {},
   "outputs": [
    {
     "data": {
      "text/plain": [
       "(640, 42, 3, 480)"
      ]
     },
     "execution_count": 89,
     "metadata": {},
     "output_type": "execute_result"
    }
   ],
   "source": [
    "x = np.ones((480, 640, 3, 42))\n",
    "np.transpose(x, (1, 3, 2, 0)).shape  # the new 0 is the old 1\n",
    "                                     # the new 1 is the old 3\n",
    "                                     # 2 stays 2\n",
    "                                     # the new 3 is the old 0"
   ]
  },
  {
   "cell_type": "markdown",
   "id": "320fcc46",
   "metadata": {},
   "source": [
    "---"
   ]
  },
  {
   "cell_type": "code",
   "execution_count": 104,
   "id": "0d32dd26",
   "metadata": {},
   "outputs": [
    {
     "data": {
      "text/plain": [
       "array([[[[[[1., 1., 0., 0.],\n",
       "           [1., 1., 0., 0.],\n",
       "           [0., 0., 1., 1.],\n",
       "           [0., 0., 1., 1.]],\n",
       "\n",
       "          [[1., 1., 0., 0.],\n",
       "           [1., 1., 0., 0.],\n",
       "           [0., 0., 1., 1.],\n",
       "           [0., 0., 1., 1.]]],\n",
       "\n",
       "\n",
       "         [[[1., 1., 0., 0.],\n",
       "           [1., 1., 0., 0.],\n",
       "           [0., 0., 1., 1.],\n",
       "           [0., 0., 1., 1.]],\n",
       "\n",
       "          [[1., 1., 0., 0.],\n",
       "           [1., 1., 0., 0.],\n",
       "           [0., 0., 1., 1.],\n",
       "           [0., 0., 1., 1.]]]],\n",
       "\n",
       "\n",
       "\n",
       "        [[[[1., 1., 0., 0.],\n",
       "           [1., 1., 0., 0.],\n",
       "           [0., 0., 1., 1.],\n",
       "           [0., 0., 1., 1.]],\n",
       "\n",
       "          [[1., 1., 0., 0.],\n",
       "           [1., 1., 0., 0.],\n",
       "           [0., 0., 1., 1.],\n",
       "           [0., 0., 1., 1.]]],\n",
       "\n",
       "\n",
       "         [[[1., 1., 0., 0.],\n",
       "           [1., 1., 0., 0.],\n",
       "           [0., 0., 1., 1.],\n",
       "           [0., 0., 1., 1.]],\n",
       "\n",
       "          [[1., 1., 0., 0.],\n",
       "           [1., 1., 0., 0.],\n",
       "           [0., 0., 1., 1.],\n",
       "           [0., 0., 1., 1.]]]]],\n",
       "\n",
       "\n",
       "\n",
       "\n",
       "       [[[[[0., 0., 1., 1.],\n",
       "           [0., 0., 1., 1.],\n",
       "           [1., 1., 0., 0.],\n",
       "           [1., 1., 0., 0.]],\n",
       "\n",
       "          [[0., 0., 1., 1.],\n",
       "           [0., 0., 1., 1.],\n",
       "           [1., 1., 0., 0.],\n",
       "           [1., 1., 0., 0.]]],\n",
       "\n",
       "\n",
       "         [[[0., 0., 1., 1.],\n",
       "           [0., 0., 1., 1.],\n",
       "           [1., 1., 0., 0.],\n",
       "           [1., 1., 0., 0.]],\n",
       "\n",
       "          [[0., 0., 1., 1.],\n",
       "           [0., 0., 1., 1.],\n",
       "           [1., 1., 0., 0.],\n",
       "           [1., 1., 0., 0.]]]],\n",
       "\n",
       "\n",
       "\n",
       "        [[[[0., 0., 1., 1.],\n",
       "           [0., 0., 1., 1.],\n",
       "           [1., 1., 0., 0.],\n",
       "           [1., 1., 0., 0.]],\n",
       "\n",
       "          [[0., 0., 1., 1.],\n",
       "           [0., 0., 1., 1.],\n",
       "           [1., 1., 0., 0.],\n",
       "           [1., 1., 0., 0.]]],\n",
       "\n",
       "\n",
       "         [[[0., 0., 1., 1.],\n",
       "           [0., 0., 1., 1.],\n",
       "           [1., 1., 0., 0.],\n",
       "           [1., 1., 0., 0.]],\n",
       "\n",
       "          [[0., 0., 1., 1.],\n",
       "           [0., 0., 1., 1.],\n",
       "           [1., 1., 0., 0.],\n",
       "           [1., 1., 0., 0.]]]]]])"
      ]
     },
     "execution_count": 104,
     "metadata": {},
     "output_type": "execute_result"
    }
   ],
   "source": [
    "def C(W):    # W is a vector with 32 entries\n",
    "    T1 = np.tensordot(C1, W, axes=([4, 0])) + C2\n",
    "    T2 = np.tensordot( np.ones((2,2)), T1, axes=0)  # Kronecker product\n",
    "    return np.transpose(T2, (2, 0, 3, 1, 4, 5))\n",
    "\n",
    "C(W_BS09)"
   ]
  },
  {
   "cell_type": "markdown",
   "id": "68b0c95c",
   "metadata": {},
   "source": [
    "-> It seems good"
   ]
  },
  {
   "cell_type": "markdown",
   "id": "4313bdeb",
   "metadata": {},
   "source": [
    "## 1.5. Definition of D(W)"
   ]
  },
  {
   "cell_type": "code",
   "execution_count": 100,
   "id": "9c5b2c7c",
   "metadata": {},
   "outputs": [],
   "source": [
    "# D1 is a 2x2x4x4x32-tensor\n",
    "D1 = np.zeros( (2, 2, 4, 4, 32) )\n",
    "\n",
    "for b in range(2):\n",
    "    for y in range(2):\n",
    "        for j in range(4):\n",
    "            if j==0 or j==2:\n",
    "                D1[b, y, 0, j, 0 + 24] = -(1-y) * (-1)**b\n",
    "                D1[b, y, 2, j, 0 + 24] = -(1-y) * (-1)**b\n",
    "                D1[b, y, 1, j, 1 + 24] = -(1-y) * (-1)**b\n",
    "                D1[b, y, 3, j, 1 + 24] = -(1-y) * (-1)**b\n",
    "                \n",
    "                D1[b, y, 0, j, 4 + 24] = -(y) * (-1)**b\n",
    "                D1[b, y, 2, j, 4 + 24] = -(y) * (-1)**b\n",
    "                D1[b, y, 1, j, 5 + 24] = -(y) * (-1)**b\n",
    "                D1[b, y, 3, j, 5 + 24] = -(y) * (-1)**b\n",
    "            \n",
    "            if j==1 or j==3:\n",
    "                D1[b, y, 0, j, 0 + 26] = -(1-y) * (-1)**b\n",
    "                D1[b, y, 2, j, 0 + 26] = -(1-y) * (-1)**b\n",
    "                D1[b, y, 1, j, 1 + 26] = -(1-y) * (-1)**b\n",
    "                D1[b, y, 3, j, 1 + 26] = -(1-y) * (-1)**b\n",
    "                \n",
    "                D1[b, y, 0, j, 4 + 26] = -(y) * (-1)**b\n",
    "                D1[b, y, 2, j, 4 + 26] = -(y) * (-1)**b\n",
    "                D1[b, y, 1, j, 5 + 26] = -(y) * (-1)**b\n",
    "                D1[b, y, 3, j, 5 + 26] = -(y) * (-1)**b\n",
    "\n",
    "#print(D1)"
   ]
  },
  {
   "cell_type": "code",
   "execution_count": 101,
   "id": "fe2a31e9",
   "metadata": {},
   "outputs": [
    {
     "data": {
      "text/plain": [
       "array([[[[ 0., -1.,  0., -1.],\n",
       "         [-1.,  0., -1.,  0.],\n",
       "         [ 0., -1.,  0., -1.],\n",
       "         [-1.,  0., -1.,  0.]],\n",
       "\n",
       "        [[ 0., -1.,  0., -1.],\n",
       "         [-1.,  0., -1.,  0.],\n",
       "         [ 0., -1.,  0., -1.],\n",
       "         [-1.,  0., -1.,  0.]]],\n",
       "\n",
       "\n",
       "       [[[ 0.,  1.,  0.,  1.],\n",
       "         [ 1.,  0.,  1.,  0.],\n",
       "         [ 0.,  1.,  0.,  1.],\n",
       "         [ 1.,  0.,  1.,  0.]],\n",
       "\n",
       "        [[ 0.,  1.,  0.,  1.],\n",
       "         [ 1.,  0.,  1.,  0.],\n",
       "         [ 0.,  1.,  0.,  1.],\n",
       "         [ 1.,  0.,  1.,  0.]]]])"
      ]
     },
     "execution_count": 101,
     "metadata": {},
     "output_type": "execute_result"
    }
   ],
   "source": [
    "np.tensordot(D1, W_BS09, axes=([4, 0]))"
   ]
  },
  {
   "cell_type": "markdown",
   "id": "25f63ade",
   "metadata": {},
   "source": [
    "-> This is well the wanted result."
   ]
  },
  {
   "cell_type": "code",
   "execution_count": 103,
   "id": "b7b59682",
   "metadata": {},
   "outputs": [],
   "source": [
    "# D2 is a 2x2x4x4-tensor\n",
    "D2 = np.zeros( (2, 2, 4, 4) )\n",
    "\n",
    "for y in range(2):\n",
    "    for i in range(4):\n",
    "        for j in range(4):\n",
    "            D2[0, y, i, j] = 1\n",
    "\n",
    "#print(D2)"
   ]
  },
  {
   "cell_type": "code",
   "execution_count": 105,
   "id": "3face28a",
   "metadata": {},
   "outputs": [
    {
     "data": {
      "text/plain": [
       "array([[[[[[1., 0., 1., 0.],\n",
       "           [0., 1., 0., 1.],\n",
       "           [1., 0., 1., 0.],\n",
       "           [0., 1., 0., 1.]],\n",
       "\n",
       "          [[1., 0., 1., 0.],\n",
       "           [0., 1., 0., 1.],\n",
       "           [1., 0., 1., 0.],\n",
       "           [0., 1., 0., 1.]]],\n",
       "\n",
       "\n",
       "         [[[1., 0., 1., 0.],\n",
       "           [0., 1., 0., 1.],\n",
       "           [1., 0., 1., 0.],\n",
       "           [0., 1., 0., 1.]],\n",
       "\n",
       "          [[1., 0., 1., 0.],\n",
       "           [0., 1., 0., 1.],\n",
       "           [1., 0., 1., 0.],\n",
       "           [0., 1., 0., 1.]]]],\n",
       "\n",
       "\n",
       "\n",
       "        [[[[0., 1., 0., 1.],\n",
       "           [1., 0., 1., 0.],\n",
       "           [0., 1., 0., 1.],\n",
       "           [1., 0., 1., 0.]],\n",
       "\n",
       "          [[0., 1., 0., 1.],\n",
       "           [1., 0., 1., 0.],\n",
       "           [0., 1., 0., 1.],\n",
       "           [1., 0., 1., 0.]]],\n",
       "\n",
       "\n",
       "         [[[0., 1., 0., 1.],\n",
       "           [1., 0., 1., 0.],\n",
       "           [0., 1., 0., 1.],\n",
       "           [1., 0., 1., 0.]],\n",
       "\n",
       "          [[0., 1., 0., 1.],\n",
       "           [1., 0., 1., 0.],\n",
       "           [0., 1., 0., 1.],\n",
       "           [1., 0., 1., 0.]]]]],\n",
       "\n",
       "\n",
       "\n",
       "\n",
       "       [[[[[1., 0., 1., 0.],\n",
       "           [0., 1., 0., 1.],\n",
       "           [1., 0., 1., 0.],\n",
       "           [0., 1., 0., 1.]],\n",
       "\n",
       "          [[1., 0., 1., 0.],\n",
       "           [0., 1., 0., 1.],\n",
       "           [1., 0., 1., 0.],\n",
       "           [0., 1., 0., 1.]]],\n",
       "\n",
       "\n",
       "         [[[1., 0., 1., 0.],\n",
       "           [0., 1., 0., 1.],\n",
       "           [1., 0., 1., 0.],\n",
       "           [0., 1., 0., 1.]],\n",
       "\n",
       "          [[1., 0., 1., 0.],\n",
       "           [0., 1., 0., 1.],\n",
       "           [1., 0., 1., 0.],\n",
       "           [0., 1., 0., 1.]]]],\n",
       "\n",
       "\n",
       "\n",
       "        [[[[0., 1., 0., 1.],\n",
       "           [1., 0., 1., 0.],\n",
       "           [0., 1., 0., 1.],\n",
       "           [1., 0., 1., 0.]],\n",
       "\n",
       "          [[0., 1., 0., 1.],\n",
       "           [1., 0., 1., 0.],\n",
       "           [0., 1., 0., 1.],\n",
       "           [1., 0., 1., 0.]]],\n",
       "\n",
       "\n",
       "         [[[0., 1., 0., 1.],\n",
       "           [1., 0., 1., 0.],\n",
       "           [0., 1., 0., 1.],\n",
       "           [1., 0., 1., 0.]],\n",
       "\n",
       "          [[0., 1., 0., 1.],\n",
       "           [1., 0., 1., 0.],\n",
       "           [0., 1., 0., 1.],\n",
       "           [1., 0., 1., 0.]]]]]])"
      ]
     },
     "execution_count": 105,
     "metadata": {},
     "output_type": "execute_result"
    }
   ],
   "source": [
    "def D(W):    # W is a vector with 32 entries\n",
    "    T1 = np.tensordot(D1, W, axes=([4, 0])) + D2\n",
    "    T2 = np.tensordot( np.ones((2,2)), T1, axes=0)  # Kronecker product\n",
    "    return np.transpose(T2, (0, 2, 1, 3, 4, 5))\n",
    "\n",
    "D(W_BS09)"
   ]
  },
  {
   "cell_type": "markdown",
   "id": "38b520e0",
   "metadata": {},
   "source": [
    "-> It seems good!"
   ]
  },
  {
   "cell_type": "markdown",
   "id": "5016e6be",
   "metadata": {},
   "source": [
    "## 1.6. Product of Boxes $R(W, P, Q) = P \\boxtimes_W Q$"
   ]
  },
  {
   "cell_type": "code",
   "execution_count": null,
   "id": "6347852e",
   "metadata": {},
   "outputs": [],
   "source": [
    "def R(W, P, Q):\n",
    "    T1 = np.tensordot(A(W), P, axes=([3, 0]))\n",
    "    T2 = "
   ]
  },
  {
   "cell_type": "code",
   "execution_count": null,
   "id": "cb49d36c",
   "metadata": {},
   "outputs": [],
   "source": []
  },
  {
   "cell_type": "code",
   "execution_count": null,
   "id": "0b20e2dd",
   "metadata": {},
   "outputs": [],
   "source": []
  },
  {
   "cell_type": "code",
   "execution_count": null,
   "id": "675485df",
   "metadata": {},
   "outputs": [],
   "source": []
  },
  {
   "cell_type": "code",
   "execution_count": null,
   "id": "5b04380e",
   "metadata": {},
   "outputs": [],
   "source": []
  },
  {
   "cell_type": "code",
   "execution_count": null,
   "id": "f661dcd2",
   "metadata": {},
   "outputs": [],
   "source": []
  },
  {
   "cell_type": "code",
   "execution_count": null,
   "id": "ad6ebb10",
   "metadata": {},
   "outputs": [],
   "source": []
  },
  {
   "cell_type": "code",
   "execution_count": null,
   "id": "5011e82b",
   "metadata": {},
   "outputs": [],
   "source": []
  },
  {
   "cell_type": "code",
   "execution_count": null,
   "id": "bf4dd7cf",
   "metadata": {},
   "outputs": [],
   "source": []
  },
  {
   "cell_type": "code",
   "execution_count": null,
   "id": "d8ddb3c9",
   "metadata": {},
   "outputs": [],
   "source": [
    "MatrixF = np.array([\n",
    "    [-1, 0, 1, 0],\n",
    "    [-1, 0, 1, 0],\n",
    "    [0, -1, 0, 1],\n",
    "    [0, -1, 0, 1],\n",
    "    #\n",
    "    [-1, 0, 1, 0],\n",
    "    [-1, 0, 1, 0],\n",
    "    [0, -1, 0, 1],\n",
    "    [0, -1, 0, 1],\n",
    "    #\n",
    "    [1, 0, 0, 0],\n",
    "    [1, 0, 0, 0],\n",
    "    [0, 1, 0, 0],\n",
    "    [0, 1, 0, 0],\n",
    "    #\n",
    "    [1, 0, 0, 0],\n",
    "    [1, 0, 0, 0],\n",
    "    [0, 1, 0, 0],\n",
    "    [0, 1, 0, 0]\n",
    "])\n",
    "\n",
    "MatrixG = np.array([\n",
    "    [-1, 0, 1, 0],\n",
    "    [0, -1, 0, 1],\n",
    "    [-1, 0, 1, 0],\n",
    "    [0, -1, 0, 1],\n",
    "    #\n",
    "    [1, 0, 0, 0],\n",
    "    [0, 1, 0, 0],\n",
    "    [1, 0, 0, 0],\n",
    "    [0, 1, 0, 0],\n",
    "    #\n",
    "    [-1, 0, 1, 0],\n",
    "    [0, -1, 0, 1],\n",
    "    [-1, 0, 1, 0],\n",
    "    [0, -1, 0, 1],\n",
    "    #\n",
    "    [1, 0, 0, 0],\n",
    "    [0, 1, 0, 0],\n",
    "    [1, 0, 0, 0],\n",
    "    [0, 1, 0, 0]\n",
    "])\n",
    "\n",
    "MatrixFtilda = np.array([\n",
    "    [1, 0, 0, 0], \n",
    "    [1, 0, 0, 0], \n",
    "    [0, 1, 0, 0], \n",
    "    [0, 1, 0, 0],\n",
    "    #\n",
    "    [1, 0, 0, 0], \n",
    "    [1, 0, 0, 0], \n",
    "    [0, 1, 0, 0], \n",
    "    [0, 1, 0, 0],\n",
    "    #\n",
    "    [0, 0, 1, 0],\n",
    "    [0, 0, 1, 0],\n",
    "    [0, 0, 0, 1],\n",
    "    [0, 0, 0, 1],\n",
    "    #\n",
    "    [0, 0, 1, 0],\n",
    "    [0, 0, 1, 0],\n",
    "    [0, 0, 0, 1],\n",
    "    [0, 0, 0, 1]\n",
    "])\n",
    "\n",
    "MatrixGtilda = np.array([\n",
    "    [1, 0, 0, 0],\n",
    "    [0, 1, 0, 0], \n",
    "    [1, 0, 0, 0],\n",
    "    [0, 1, 0, 0],\n",
    "    #\n",
    "    [0, 0, 1, 0],\n",
    "    [0, 0, 0, 1],\n",
    "    [0, 0, 1, 0],\n",
    "    [0, 0, 0, 1],\n",
    "    #\n",
    "    [1, 0, 0, 0],\n",
    "    [0, 1, 0, 0], \n",
    "    [1, 0, 0, 0],\n",
    "    [0, 1, 0, 0],\n",
    "    #\n",
    "    [0, 0, 1, 0],\n",
    "    [0, 0, 0, 1],\n",
    "    [0, 0, 1, 0],\n",
    "    [0, 0, 0, 1]\n",
    "])"
   ]
  },
  {
   "cell_type": "code",
   "execution_count": null,
   "id": "6921b25c",
   "metadata": {},
   "outputs": [],
   "source": [
    "def vector_to_matrix(vector):   # turns a vector of length 16 into a 4x4 matrix, columnwise\n",
    "    return np.column_stack((vector[0:4], vector[4:8], vector[8:12], vector[12:16]))\n",
    "\n",
    "\n",
    "def BoxProduct(W, P, Q):\n",
    "    new_box = np.zeros((4,4))   # null 4x4 matrix\n",
    "    \n",
    "    for k in range(16):\n",
    "        y = k%2\n",
    "        x = ((k-y)//2)%2\n",
    "        b = ((k-2*x-y)//4)%2\n",
    "        a = ((k-4*b-2*x-y)//8)%2\n",
    "        \n",
    "        # f1(x, 0) = W[2*x]\n",
    "        # f1(x, 1) = W[2*x+1]\n",
    "        # g1(y, 0) = W[2*y+4]\n",
    "        # g1(y, 1) = W[2*y+5]\n",
    "        term1 = vector_to_matrix( np.dot(MatrixF, np.array([W[2*x], W[2*x+1], 1, 1])) *  np.dot(MatrixG, np.array([W[2*y+4], W[2*y+5], 1, 1])) )\n",
    "        \n",
    "        # f2(x, 0) = W[2*x+8]\n",
    "        # f2(x, 1) = W[2*x+9]\n",
    "        # g2(y, 0) = W[2*y+12]\n",
    "        # g2(y, 1) = W[2*y+13]\n",
    "        term2 = vector_to_matrix( np.dot(MatrixF, np.array([W[2*x+8], W[2*x+9], 1, 1])) * np.dot(MatrixG, np.array([W[2*y+12], W[2*y+13], 1, 1]))  )\n",
    "        \n",
    "        # The vector with the f3's is W[16:20] or W[20:24] depending on x\n",
    "        term3 = (1-a)*np.ones((4,4)) - (-1)**a * vector_to_matrix( np.dot(MatrixFtilda, np.array(W[16+4*x: 20+4*x]))  )\n",
    "        \n",
    "        # The vector with the g3's is W[24:28] or W[28:32] depending on y\n",
    "        term4 = (1-b)*np.ones((4,4)) - (-1)**b * vector_to_matrix( np.dot(MatrixGtilda, np.array(W[24+4*y: 28+4*y]))  )\n",
    "\n",
    "        \n",
    "        new_box[2*x+y, 2*a+b] = np.sum( np.dot(term1, P) * np.dot(term2, Q).T * term3 * term4 )\n",
    "        \n",
    "    return new_box\n",
    "\n"
   ]
  },
  {
   "cell_type": "code",
   "execution_count": null,
   "id": "ef133c02",
   "metadata": {},
   "outputs": [],
   "source": [
    "# Fixer des boites P et Q\n",
    "\n",
    "def phi(W):\n",
    "    return - h(BoxProduct(W, P, Q)) "
   ]
  },
  {
   "cell_type": "markdown",
   "id": "4511d842",
   "metadata": {},
   "source": [
    "# II. Boxes"
   ]
  },
  {
   "cell_type": "code",
   "execution_count": null,
   "id": "23576174",
   "metadata": {},
   "outputs": [],
   "source": [
    "\"\"\"PR = np.array([                     \n",
    "    [0.5, 0, 0, 0.5],\n",
    "    [0.5, 0, 0, 0.5],\n",
    "    [0.5, 0, 0, 0.5],\n",
    "    [0, 0.5, 0.5, 0]\n",
    "])\n",
    "    \n",
    "          \n",
    "SR = np.array([\n",
    "    [0.5, 0, 0, 0.5],\n",
    "    [0.5, 0, 0, 0.5],\n",
    "    [0.5, 0, 0, 0.5],\n",
    "    [0.5, 0, 0, 0.5]\n",
    "])\"\"\"\n",
    "\n",
    "PR = np.zeros((4,4))\n",
    "\n",
    "for a in range(2):\n",
    "    for b in range(2):\n",
    "        for x in range(2):\n",
    "            for y in range(2):\n",
    "                if (a+b)%2 == x*y:\n",
    "                    PR[2*x+y, 2*a+b]=0.5\n",
    "                    \n",
    "print(\"PR=\\n\",PR)\n",
    "\n",
    "SR = np.zeros((4,4))\n",
    "\n",
    "for a in range(2):\n",
    "    for b in range(2):\n",
    "        for x in range(2):\n",
    "            for y in range(2):\n",
    "                if a==b:\n",
    "                    SR[2*x+y, 2*a+b]=0.5\n",
    "                    \n",
    "print(\"\\nSR=\\n\",SR)"
   ]
  },
  {
   "cell_type": "code",
   "execution_count": null,
   "id": "788ccbe5",
   "metadata": {},
   "outputs": [],
   "source": [
    "import timeit"
   ]
  },
  {
   "cell_type": "code",
   "execution_count": null,
   "id": "d7a906b6",
   "metadata": {},
   "outputs": [],
   "source": [
    "start_time = time.time()\n",
    "print(h(PR))\n",
    "\n",
    "print(\"\")\n",
    "print(\"Single evaluation\")\n",
    "print(\"Duration: --- %s seconds ---\" % (time.time() - start_time))\n",
    "\n",
    "count=int(1e4)\n",
    "print(\"\")\n",
    "print(\"Multiple evaluations\")\n",
    "counter = timeit.timeit(lambda: h(PR), number=count)\n",
    "print( counter/count )\n",
    "\n",
    "print(\"\")\n",
    "start_time = time.time()\n",
    "print(h(PR))\n",
    "print(\"Single evaluation\")\n",
    "print(\"Duration: --- %s seconds ---\" % (time.time() - start_time))\n"
   ]
  },
  {
   "cell_type": "code",
   "execution_count": null,
   "id": "a643ead7",
   "metadata": {},
   "outputs": [],
   "source": [
    "def P_L(mu, nu, sigma, tau):\n",
    "    new_box = np.zeros((4,4))\n",
    "    \n",
    "    for a in range(2):\n",
    "        for b in range(2):\n",
    "            for x in range(2):\n",
    "                for y in range(2):\n",
    "                    if a==(mu*x+nu)%2 and b==(sigma*y+tau)%2:\n",
    "                        new_box[2*x+y, 2*a+b] = 1\n",
    "                        \n",
    "    return new_box\n",
    "                        "
   ]
  },
  {
   "cell_type": "code",
   "execution_count": null,
   "id": "017e68a0",
   "metadata": {},
   "outputs": [],
   "source": [
    "P_0 = P_L(0,0,0,0)\n",
    "P_1 = P_L(0,1,0,1)"
   ]
  },
  {
   "cell_type": "code",
   "execution_count": null,
   "id": "7804e8b8",
   "metadata": {},
   "outputs": [],
   "source": [
    "def P_NL(mu, nu, sigma):\n",
    "    new_box = np.zeros((4,4))\n",
    "    \n",
    "    for a in range(2):\n",
    "        for b in range(2):\n",
    "            for x in range(2):\n",
    "                for y in range(2):\n",
    "                    if (a+b)%2==(x*y + mu*x + nu*y + sigma)%2:\n",
    "                        new_box[2*x+y, 2*a+b] = 0.5\n",
    "                        \n",
    "    return new_box"
   ]
  },
  {
   "cell_type": "code",
   "execution_count": null,
   "id": "2d6ebdcd",
   "metadata": {},
   "outputs": [],
   "source": [
    "P_NL(0,0,0) == PR"
   ]
  },
  {
   "cell_type": "code",
   "execution_count": null,
   "id": "e4af9844",
   "metadata": {},
   "outputs": [],
   "source": [
    "PRbar = P_NL(0,0,1)\n",
    "print(PRbar/2 + PR/2)"
   ]
  },
  {
   "cell_type": "markdown",
   "id": "24912616",
   "metadata": {},
   "source": [
    "# III. Wirings"
   ]
  },
  {
   "cell_type": "code",
   "execution_count": null,
   "id": "a69605c0",
   "metadata": {},
   "outputs": [],
   "source": [
    "central_wiring = [0.5 for _ in range(32)]\n",
    "\n",
    "def random_wiring():\n",
    "    return [random.random() for _ in range(32)]"
   ]
  },
  {
   "cell_type": "code",
   "execution_count": null,
   "id": "5a76b254",
   "metadata": {},
   "outputs": [],
   "source": [
    "W_BS09 = [0, 0, 1, 1,              # f_1(x, a_2) = x\n",
    "          0, 0, 1, 1,              # g_1(y, b_2) = y\n",
    "          0, 0, 0, 1,              # f_2(x, a_1) = a_1*x\n",
    "          0, 0, 0, 1,              # g_2(y, b_1) = b_1*y\n",
    "          0, 1, 1, 0, 0, 1, 1, 0,  # f_3(x, a_1, a_2) = a_1 + a_2 mod 2\n",
    "          0, 1, 1, 0, 0, 1, 1, 0   # g_3(y, b_1, b_2) = b_1 + b_2 mod 2\n",
    "         ]\n",
    "\n",
    "W_ABLPSV09 = [\n",
    "          0, 0, 1, 1,              # f_1(x, a_2) = x\n",
    "          0, 0, 1, 1,              # g_1(y, b_2) = y\n",
    "          1, 0, 0, 1,              # f_2(x, a_1) = x ⊕ a_1 ⊕ 1\n",
    "          0, 0, 0, 1,              # g_2(y, b_1) = y*b_1\n",
    "          1, 0, 0, 1, 1, 0, 0, 1,  # f_3(x, a_1, a_2) = a_1 ⊕ a_2 ⊕ 1\n",
    "          1, 0, 0, 1, 1, 0, 0, 1,  # g_3(y, b_1, b_2) = b_1 ⊕ b_2 ⊕ 1\n",
    "]\n",
    "\n",
    "\n",
    "def wiring_to_functions(W):\n",
    "    print(\"f_1(x,a2) = \", (W[2]-W[0])%2, \"x ⊕ \", (W[1]-W[0])%2 ,\"a2 ⊕ \", (W[3]-W[2]-W[1]+W[0])%2 ,\"x*a2 ⊕ \", (W[0])%2)\n",
    "    print(\"g_1(y,b2) = \", (W[6]-W[4])%2, \"y ⊕ \", (W[5]-W[4])%2 ,\"b2 ⊕ \", (W[7]-W[6]-W[5]+W[4])%2 ,\"y*b2 ⊕ \", (W[4])%2)\n",
    "    print(\"f_2(x,a1) = \", (W[10]-W[8])%2, \"x ⊕ \", (W[9]-W[8])%2 ,\"a1 ⊕ \", (W[11]-W[10]-W[9]+W[8])%2 ,\"x*a1 ⊕ \", (W[8])%2)\n",
    "    print(\"g_2(y,b1) = \", (W[14]-W[12])%2, \"y ⊕ \", (W[13]-W[12])%2 ,\"b1 ⊕ \", (W[15]-W[14]-W[13]+W[12])%2 ,\"y*b1 ⊕ \", (W[12])%2)\n",
    "    print(\"f_3(x,a1,a2) = \", (W[20]-W[16])%2, \"x ⊕ \", (W[18]-W[16])%2 ,\"a1 ⊕ \", (W[17]-W[16])%2 ,\"a2 ⊕ \", \n",
    "          (W[21]-W[20]-W[18]+W[16])%2 ,\"x*a1 ⊕ \", (W[22]-W[20]-W[17]+W[16])%2 ,\"x*a2 ⊕ \", \n",
    "          (W[19]-W[18]-W[17]+W[16])%2 ,\"a1*a2 ⊕ \", \n",
    "          (W[23] - W[21] - W[22]+W[20] - W[19]+W[18]+W[17] - W[16])%2,\"x*a1*a2 ⊕ \", (W[16])%2)\n",
    "    print(\"g_3(y,b1,b2) = \", (W[28]-W[24])%2, \"y ⊕ \", (W[26]-W[24])%2 ,\"b1 ⊕ \", (W[25]-W[24])%2 ,\"b2 ⊕ \", \n",
    "          (W[29]-W[28]-W[26]+W[24])%2 ,\"y*b1 ⊕ \", (W[30]-W[28]-W[25]+W[24])%2 ,\"y*b2 ⊕ \", \n",
    "          (W[27]-W[26]-W[25]+W[24])%2 ,\"b1*b2 ⊕ \", \n",
    "          (W[31] - W[29] - W[30]+W[28] - W[27]+W[26]+W[25] - W[24])%2,\"y*b1*b2 ⊕ \", (W[16])%2)"
   ]
  },
  {
   "cell_type": "markdown",
   "id": "89ed813a",
   "metadata": {},
   "source": [
    "### Power of a box"
   ]
  },
  {
   "cell_type": "code",
   "execution_count": null,
   "id": "57a2fda6",
   "metadata": {},
   "outputs": [],
   "source": [
    "def power_box(P, n, W):\n",
    "    # Initialization\n",
    "    term1 = np.zeros((4,4, 4,4))\n",
    "    constant_term = np.zeros((4,4, 4,4))\n",
    "    for k in range(16):\n",
    "        y = k%2\n",
    "        x = ((k-y)//2)%2\n",
    "        b = ((k-2*x-y)//4)%2\n",
    "        a = ((k-4*b-2*x-y)//8)%2\n",
    "        \n",
    "        term1[2*x+y, 2*a+b] = vector_to_matrix( np.dot(MatrixF, np.array([W[2*x], W[2*x+1], 1, 1])) *  np.dot(MatrixG, np.array([W[2*y+4], W[2*y+5], 1, 1])) )\n",
    "        \n",
    "        term2 = vector_to_matrix( np.dot(MatrixF, np.array([W[2*x+8], W[2*x+9], 1, 1])) * np.dot(MatrixG, np.array([W[2*y+12], W[2*y+13], 1, 1]))  )\n",
    "        term3 = (1-a)*np.ones((4,4)) - (-1)**a * vector_to_matrix( np.dot(MatrixFtilda, np.array(W[16+4*x: 20+4*x])) )\n",
    "        term4 = (1-b)*np.ones((4,4)) - (-1)**b * vector_to_matrix( np.dot(MatrixGtilda, np.array(W[24+4*y: 28+4*y])) )\n",
    "        \n",
    "        constant_term[2*x+y, 2*a+b] = np.dot(term2, P).T * term3 * term4                                                       \n",
    "                                                                  \n",
    "    # Induction: we compute the n-th power\n",
    "    new_box = P.copy()\n",
    "    for i in range(n-1):\n",
    "        aux = new_box.copy()\n",
    "        for k in range(16):\n",
    "            y = k%2\n",
    "            x = ((k-y)//2)%2\n",
    "            b = ((k-2*x-y)//4)%2\n",
    "            a = ((k-4*b-2*x-y)//8)%2                                                         \n",
    "                                                                  \n",
    "            #new_box[2*x+y, 2*a+b] = np.sum( np.dot(term1[2*x+y, 2*a+b], new_box) * (constant_term[2*x+y, 2*a+b]) )\n",
    "            new_box[2*x+y, 2*a+b] = np.sum( np.dot(term1[2*x+y, 2*a+b], aux) * (constant_term[2*x+y, 2*a+b]) )\n",
    "        \n",
    "        \n",
    "    return new_box\n",
    "\n",
    "def power_box_left(P, n, W):\n",
    "    # Initialization\n",
    "    term2 = np.zeros((4,4, 4,4))\n",
    "    constant_term = np.zeros((4,4, 4,4))\n",
    "    for k in range(16):\n",
    "        y = k%2\n",
    "        x = ((k-y)//2)%2\n",
    "        b = ((k-2*x-y)//4)%2\n",
    "        a = ((k-4*b-2*x-y)//8)%2\n",
    "        \n",
    "        term2[2*x+y, 2*a+b] = vector_to_matrix( np.dot(MatrixF, np.array([W[2*x+8], W[2*x+9], 1, 1])) *  np.dot(MatrixG, np.array([W[2*y+12], W[2*y+13], 1, 1])) )\n",
    "        \n",
    "        term1 = vector_to_matrix( np.dot(MatrixF, np.array([W[2*x], W[2*x+1], 1, 1])) * np.dot(MatrixG, np.array([W[2*y+4], W[2*y+5], 1, 1]))  )\n",
    "        term3 = (1-a)*np.ones((4,4)) - (-1)**a * vector_to_matrix( np.dot(MatrixFtilda, np.array(W[16+4*x: 20+4*x])) )\n",
    "        term4 = (1-b)*np.ones((4,4)) - (-1)**b * vector_to_matrix( np.dot(MatrixGtilda, np.array(W[24+4*y: 28+4*y])) )\n",
    "        \n",
    "        constant_term[2*x+y, 2*a+b] = np.dot(term1, P) * term3 * term4                                                       \n",
    "                                                                  \n",
    "    # Induction: we compute the n-th power\n",
    "    new_box = P.copy()\n",
    "    for i in range(n-1):\n",
    "        aux = new_box.copy()\n",
    "        for k in range(16):\n",
    "            y = k%2\n",
    "            x = ((k-y)//2)%2\n",
    "            b = ((k-2*x-y)//4)%2\n",
    "            a = ((k-4*b-2*x-y)//8)%2                                                         \n",
    "                                                                  \n",
    "            new_box[2*x+y, 2*a+b] = np.sum( np.dot(term2[2*x+y, 2*a+b], aux).T * (constant_term[2*x+y, 2*a+b]) )\n",
    "        \n",
    "        \n",
    "    return new_box\n",
    "\n",
    "def power_box_BS09(P, n, W):\n",
    "    new_box = P.copy()\n",
    "    for i in range(n-1):\n",
    "        new_box = BoxProduct(W, new_box, new_box)\n",
    "    return new_box\n",
    "\n",
    "n=10\n",
    "\n",
    "def phi_n(W):\n",
    "    return - h(power_box(corNLB(0.5), n, W))"
   ]
  },
  {
   "cell_type": "code",
   "execution_count": null,
   "id": "70c1dd1f",
   "metadata": {},
   "outputs": [],
   "source": []
  },
  {
   "cell_type": "code",
   "execution_count": null,
   "id": "28dc7b27",
   "metadata": {},
   "outputs": [],
   "source": []
  },
  {
   "cell_type": "code",
   "execution_count": null,
   "id": "575df4a7",
   "metadata": {},
   "outputs": [],
   "source": []
  },
  {
   "cell_type": "code",
   "execution_count": null,
   "id": "4eb0a12e",
   "metadata": {},
   "outputs": [],
   "source": []
  },
  {
   "cell_type": "code",
   "execution_count": null,
   "id": "667b2333",
   "metadata": {},
   "outputs": [],
   "source": []
  }
 ],
 "metadata": {
  "kernelspec": {
   "display_name": "Python 3 (ipykernel)",
   "language": "python",
   "name": "python3"
  },
  "language_info": {
   "codemirror_mode": {
    "name": "ipython",
    "version": 3
   },
   "file_extension": ".py",
   "mimetype": "text/x-python",
   "name": "python",
   "nbconvert_exporter": "python",
   "pygments_lexer": "ipython3",
   "version": "3.9.12"
  },
  "vscode": {
   "interpreter": {
    "hash": "33dde334450efa20b1504410201f9e8e06d56dc1da1db9f70404bfbe47720224"
   }
  }
 },
 "nbformat": 4,
 "nbformat_minor": 5
}
