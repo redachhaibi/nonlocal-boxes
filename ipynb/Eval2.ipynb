{
 "cells": [
  {
   "cell_type": "code",
   "execution_count": 1,
   "id": "67f8a8b8",
   "metadata": {},
   "outputs": [],
   "source": [
    "import numpy as np\n",
    "import random  # for the random wirings\n",
    "import time # to compare the algorithm timings"
   ]
  },
  {
   "cell_type": "markdown",
   "id": "6a3d4ded",
   "metadata": {},
   "source": [
    "> See the attached PDF for the meaning of the notations."
   ]
  },
  {
   "cell_type": "markdown",
   "id": "d0692f0e",
   "metadata": {},
   "source": [
    "# I. Vectorialization"
   ]
  },
  {
   "cell_type": "markdown",
   "id": "7387b062",
   "metadata": {},
   "source": [
    "## 1.1. Definition of h"
   ]
  },
  {
   "cell_type": "code",
   "execution_count": 2,
   "id": "4d75fc8a",
   "metadata": {},
   "outputs": [
    {
     "name": "stdout",
     "output_type": "stream",
     "text": [
      "[[0.25 0.   0.   0.25]\n",
      " [0.25 0.   0.   0.25]\n",
      " [0.25 0.   0.   0.25]\n",
      " [0.   0.25 0.25 0.  ]]\n"
     ]
    }
   ],
   "source": [
    "\"\"\"CHSH = np.array([\n",
    "    [0.25, 0, 0, 0.25],\n",
    "    [0.25, 0, 0, 0.25],\n",
    "    [0.25, 0, 0, 0.25],\n",
    "    [0, 0.25, 0.25, 0]\n",
    "])\"\"\"\n",
    "\n",
    "CHSH = np.zeros((4,4))\n",
    "\n",
    "for a in range(2):\n",
    "    for b in range(2):\n",
    "        for x in range(2):\n",
    "            for y in range(2):\n",
    "                if (a+b)%2 == x*y:\n",
    "                    CHSH[2*x+y, 2*a+b]=0.25\n",
    "                    \n",
    "print(CHSH)"
   ]
  },
  {
   "cell_type": "code",
   "execution_count": 4,
   "id": "6de2471a",
   "metadata": {},
   "outputs": [],
   "source": [
    "def h(Q):\n",
    "    return np.dot( CHSH.flatten(), Q.flatten() )  # scalar product of Q and CHSH"
   ]
  },
  {
   "cell_type": "markdown",
   "id": "5822def6",
   "metadata": {},
   "source": [
    "## 1.2. Computation of A(W)"
   ]
  },
  {
   "cell_type": "code",
   "execution_count": 23,
   "id": "2ae7696d",
   "metadata": {},
   "outputs": [],
   "source": [
    "# A1 is a 2x4x4x32-tensor\n",
    "A1 = np.zeros( (2, 4, 4, 32) )\n",
    "\n",
    "for x in range(2):\n",
    "    for j in range(4):\n",
    "        \n",
    "        sign = 1\n",
    "        if j >= 2:\n",
    "            sign=-1\n",
    "            \n",
    "        A1[x, 0, j, 0] = sign*(x-1)\n",
    "        A1[x, 1, j, 0] = sign*(x-1)\n",
    "        A1[x, 2, j, 1] = sign*(x-1)\n",
    "        A1[x, 3, j, 1] = sign*(x-1)\n",
    "        \n",
    "        A1[x, 0, j, 2] = sign*(-x)\n",
    "        A1[x, 1, j, 2] = sign*(-x)\n",
    "        A1[x, 2, j, 3] = sign*(-x)\n",
    "        A1[x, 3, j, 3] = sign*(-x)\n",
    "\n",
    "#print(A1)"
   ]
  },
  {
   "cell_type": "code",
   "execution_count": 24,
   "id": "06f5099d",
   "metadata": {},
   "outputs": [],
   "source": [
    "# A2 is a 2x4x4-tensor\n",
    "A2 = np.zeros( (2, 4, 4) )\n",
    "\n",
    "for x in range(2):\n",
    "    for i in range(4):\n",
    "        for k in range(4):\n",
    "            if k<=1:\n",
    "                A2[x, i, k]=1\n",
    "\n",
    "#print(A2)"
   ]
  },
  {
   "cell_type": "code",
   "execution_count": 22,
   "id": "4b1b1378",
   "metadata": {},
   "outputs": [
    {
     "data": {
      "text/plain": [
       "array([[[1., 1., 0., 0.],\n",
       "        [1., 1., 0., 0.],\n",
       "        [1., 1., 0., 0.],\n",
       "        [1., 1., 0., 0.]],\n",
       "\n",
       "       [[0., 0., 1., 1.],\n",
       "        [0., 0., 1., 1.],\n",
       "        [0., 0., 1., 1.],\n",
       "        [0., 0., 1., 1.]]])"
      ]
     },
     "execution_count": 22,
     "metadata": {},
     "output_type": "execute_result"
    }
   ],
   "source": [
    "W_BS09 = [0, 0, 1, 1,              # f_1(x, a_2) = x\n",
    "          0, 0, 1, 1,              # g_1(y, b_2) = y\n",
    "          0, 0, 0, 1,              # f_2(x, a_1) = a_1*x\n",
    "          0, 0, 0, 1,              # g_2(y, b_1) = b_1*y\n",
    "          0, 1, 1, 0, 0, 1, 1, 0,  # f_3(x, a_1, a_2) = a_1 + a_2 mod 2\n",
    "          0, 1, 1, 0, 0, 1, 1, 0   # g_3(y, b_1, b_2) = b_1 + b_2 mod 2\n",
    "         ]\n",
    "\n",
    "np.tensordot(A1, W_BS09, axes=([3, 0])) + A2"
   ]
  },
  {
   "cell_type": "markdown",
   "id": "5c2c50f5",
   "metadata": {},
   "source": [
    "-> This is well the wanted result"
   ]
  },
  {
   "cell_type": "code",
   "execution_count": 26,
   "id": "684a70ec",
   "metadata": {},
   "outputs": [],
   "source": [
    "# A3 is a 2x4x4x32-tensor\n",
    "A3 = np.zeros( (2, 4, 4, 32) )\n",
    "\n",
    "for y in range(2):\n",
    "    for j in range(4):\n",
    "        \n",
    "        sign = 1\n",
    "        if j==1 or j==3:\n",
    "            sign=-1\n",
    "            \n",
    "        A3[y, 0, j, 0 +4] = sign*(y-1)\n",
    "        A3[y, 2, j, 0 +4] = sign*(y-1)\n",
    "        A3[y, 1, j, 1 +4] = sign*(y-1)\n",
    "        A3[y, 3, j, 1 +4] = sign*(y-1)\n",
    "        \n",
    "        A3[y, 0, j, 2 +4] = sign*(-y)\n",
    "        A3[y, 2, j, 2 +4] = sign*(-y)\n",
    "        A3[y, 1, j, 3 +4] = sign*(-y)\n",
    "        A3[y, 3, j, 3 +4] = sign*(-y)\n",
    "        \n",
    "#print(A3)"
   ]
  },
  {
   "cell_type": "code",
   "execution_count": 28,
   "id": "80a5d8da",
   "metadata": {},
   "outputs": [],
   "source": [
    "# A4 is a 2x4x4-tensor\n",
    "A4 = np.zeros( (2, 4, 4) )\n",
    "\n",
    "for y in range(2):\n",
    "    for i in range(4):\n",
    "        for k in range(4):\n",
    "            if k==0 or k==2:\n",
    "                A4[y, i, k]=1\n",
    "                \n",
    "#print(A4)"
   ]
  },
  {
   "cell_type": "code",
   "execution_count": 29,
   "id": "2af07be8",
   "metadata": {},
   "outputs": [
    {
     "data": {
      "text/plain": [
       "array([[[1., 0., 1., 0.],\n",
       "        [1., 0., 1., 0.],\n",
       "        [1., 0., 1., 0.],\n",
       "        [1., 0., 1., 0.]],\n",
       "\n",
       "       [[0., 1., 0., 1.],\n",
       "        [0., 1., 0., 1.],\n",
       "        [0., 1., 0., 1.],\n",
       "        [0., 1., 0., 1.]]])"
      ]
     },
     "execution_count": 29,
     "metadata": {},
     "output_type": "execute_result"
    }
   ],
   "source": [
    "np.tensordot(A3, W_BS09, axes=([3, 0])) + A4"
   ]
  },
  {
   "cell_type": "markdown",
   "id": "2418cf6a",
   "metadata": {},
   "source": [
    "-> We well obtain the wanted result.\n",
    "\n",
    "We obtain $A(W)$:"
   ]
  },
  {
   "cell_type": "code",
   "execution_count": 113,
   "id": "d124c303",
   "metadata": {},
   "outputs": [
    {
     "data": {
      "text/plain": [
       "(2, 2, 4, 4)"
      ]
     },
     "execution_count": 113,
     "metadata": {},
     "output_type": "execute_result"
    }
   ],
   "source": [
    "def A(W):  # W is a vector with 32 entries\n",
    "    T1 = np.tensordot(A1, W, axes=([3, 0])) + A2\n",
    "    T2 = np.tensordot(np.ones((2)), T1, axes=0)\n",
    "    T3 = np.transpose(T2, (1,0,2,3))\n",
    "    S1 = np.tensordot(A3, W, axes=([3, 0])) + A4\n",
    "    S2 = np.tensordot(np.ones((2)), S1, axes=0)\n",
    "    return T3 * S2\n",
    "\n",
    "A(W_BS09).shape\n",
    "    "
   ]
  },
  {
   "cell_type": "markdown",
   "id": "338a8fbb",
   "metadata": {},
   "source": [
    "-> This is the wanted result."
   ]
  },
  {
   "cell_type": "markdown",
   "id": "3a477384",
   "metadata": {},
   "source": [
    "## 1.3. Definition of B(W)"
   ]
  },
  {
   "cell_type": "code",
   "execution_count": 34,
   "id": "2fbc2a91",
   "metadata": {},
   "outputs": [],
   "source": [
    "# B1 is a 2x4x4x32-tensor\n",
    "B1 = np.zeros( (2, 4, 4, 32) )\n",
    "\n",
    "for x in range(2):\n",
    "    for l in range(4):\n",
    "        \n",
    "        sign = 1\n",
    "        if l>=2:\n",
    "            sign=-1\n",
    "            \n",
    "        B1[x, 0, l, 0 +8] = sign * (x-1)\n",
    "        B1[x, 1, l, 0 +8] = sign * (x-1)\n",
    "        B1[x, 2, l, 1 +8] = sign * (x-1)\n",
    "        B1[x, 3, l, 1 +8] = sign * (x-1)\n",
    "        \n",
    "        B1[x, 0, l, 2 +8] = sign * (-x)\n",
    "        B1[x, 1, l, 2 +8] = sign * (-x)\n",
    "        B1[x, 2, l, 3 +8] = sign * (-x)\n",
    "        B1[x, 3, l, 3 +8] = sign * (-x)\n",
    "\n",
    "#print(B1)"
   ]
  },
  {
   "cell_type": "code",
   "execution_count": 36,
   "id": "2ab5af6f",
   "metadata": {},
   "outputs": [],
   "source": [
    "# B2 is equal to A2\n",
    "B2 = A2\n",
    "\n",
    "#print(B2)"
   ]
  },
  {
   "cell_type": "code",
   "execution_count": 38,
   "id": "9a4f63d3",
   "metadata": {},
   "outputs": [],
   "source": [
    "# B3 is a 2x4x4x32-tensor\n",
    "B3 = np.zeros( (2, 4, 4, 32) )\n",
    "\n",
    "for y in range(2):\n",
    "    for l in range(4):\n",
    "        \n",
    "        sign=1\n",
    "        if l==1 or l==3:\n",
    "            sign=-1\n",
    "        \n",
    "        B3[y, 0, l, 0 +12] = sign * (y-1)\n",
    "        B3[y, 2, l, 0 +12] = sign * (y-1)\n",
    "        B3[y, 1, l, 1 +12] = sign * (y-1)\n",
    "        B3[y, 3, l, 1 +12] = sign * (y-1)\n",
    "        \n",
    "        B3[y, 0, l, 2 +12] = sign * (-y)\n",
    "        B3[y, 2, l, 2 +12] = sign * (-y)\n",
    "        B3[y, 1, l, 3 +12] = sign * (-y)\n",
    "        B3[y, 3, l, 3 +12] = sign * (-y)\n",
    "\n",
    "#print(B3)"
   ]
  },
  {
   "cell_type": "code",
   "execution_count": 40,
   "id": "74c0ce40",
   "metadata": {},
   "outputs": [],
   "source": [
    "# B4 is equal to A4\n",
    "B4 = A4\n",
    "\n",
    "#print(B4)"
   ]
  },
  {
   "cell_type": "code",
   "execution_count": 115,
   "id": "f7c31b3b",
   "metadata": {},
   "outputs": [
    {
     "data": {
      "text/plain": [
       "(2, 2, 4, 4)"
      ]
     },
     "execution_count": 115,
     "metadata": {},
     "output_type": "execute_result"
    }
   ],
   "source": [
    "def B(W):   # W is a vector with 32 entries\n",
    "    T1 = np.tensordot(B1, W, axes=([3, 0])) + B2\n",
    "    T2 = np.tensordot(np.ones((2)), T1, axes=0)\n",
    "    T3 = np.transpose(T2, (1,0,2,3))\n",
    "    S1 = np.tensordot(B3, W, axes=([3, 0])) + B4\n",
    "    S2 = np.tensordot(np.ones((2)), S1, axes=0)\n",
    "    return T3 * S2\n",
    "\n",
    "B(W_BS09).shape\n"
   ]
  },
  {
   "cell_type": "markdown",
   "id": "533d47a4",
   "metadata": {},
   "source": [
    "-> This is the wanted result."
   ]
  },
  {
   "cell_type": "markdown",
   "id": "ae4ce51e",
   "metadata": {},
   "source": [
    "## 1.4. Definition of C(W)"
   ]
  },
  {
   "cell_type": "code",
   "execution_count": 94,
   "id": "d7ca4fdc",
   "metadata": {},
   "outputs": [],
   "source": [
    "# C1 is a 2x2x4x4x32-tensor\n",
    "C1 = np.zeros( (2, 2, 4, 4, 32) )\n",
    "\n",
    "for a in range(2):\n",
    "    for x in range(2):\n",
    "        for j in range(4):\n",
    "            if j<=1:\n",
    "                C1[a, x, 0, j, 0 +16] = -(1-x) * (-1)**a\n",
    "                C1[a, x, 1, j, 0 +16] = -(1-x) * (-1)**a\n",
    "                C1[a, x, 2, j, 1 +16] = -(1-x) * (-1)**a\n",
    "                C1[a, x, 3, j, 1 +16] = -(1-x) * (-1)**a\n",
    "                \n",
    "                C1[a, x, 0, j, 4 +16] = -(x) * (-1)**a\n",
    "                C1[a, x, 1, j, 4 +16] = -(x) * (-1)**a\n",
    "                C1[a, x, 2, j, 5 +16] = -(x) * (-1)**a\n",
    "                C1[a, x, 3, j, 5 +16] = -(x) * (-1)**a\n",
    "            \n",
    "            if j>=2:\n",
    "                C1[a, x, 0, j, 0 +18] = -(1-x) * (-1)**a\n",
    "                C1[a, x, 1, j, 0 +18] = -(1-x) * (-1)**a\n",
    "                C1[a, x, 2, j, 1 +18] = -(1-x) * (-1)**a\n",
    "                C1[a, x, 3, j, 1 +18] = -(1-x) * (-1)**a\n",
    "                \n",
    "                C1[a, x, 0, j, 4 +18] = -(x) * (-1)**a\n",
    "                C1[a, x, 1, j, 4 +18] = -(x) * (-1)**a\n",
    "                C1[a, x, 2, j, 5 +18] = -(x) * (-1)**a\n",
    "                C1[a, x, 3, j, 5 +18] = -(x) * (-1)**a\n",
    "                \n",
    "\n",
    "#print(C1)"
   ]
  },
  {
   "cell_type": "code",
   "execution_count": 95,
   "id": "69603803",
   "metadata": {},
   "outputs": [
    {
     "data": {
      "text/plain": [
       "array([[[[ 0.,  0., -1., -1.],\n",
       "         [ 0.,  0., -1., -1.],\n",
       "         [-1., -1.,  0.,  0.],\n",
       "         [-1., -1.,  0.,  0.]],\n",
       "\n",
       "        [[ 0.,  0., -1., -1.],\n",
       "         [ 0.,  0., -1., -1.],\n",
       "         [-1., -1.,  0.,  0.],\n",
       "         [-1., -1.,  0.,  0.]]],\n",
       "\n",
       "\n",
       "       [[[ 0.,  0.,  1.,  1.],\n",
       "         [ 0.,  0.,  1.,  1.],\n",
       "         [ 1.,  1.,  0.,  0.],\n",
       "         [ 1.,  1.,  0.,  0.]],\n",
       "\n",
       "        [[ 0.,  0.,  1.,  1.],\n",
       "         [ 0.,  0.,  1.,  1.],\n",
       "         [ 1.,  1.,  0.,  0.],\n",
       "         [ 1.,  1.,  0.,  0.]]]])"
      ]
     },
     "execution_count": 95,
     "metadata": {},
     "output_type": "execute_result"
    }
   ],
   "source": [
    "np.tensordot(C1, W_BS09, axes=([4, 0]))"
   ]
  },
  {
   "cell_type": "markdown",
   "id": "05692d29",
   "metadata": {},
   "source": [
    "-> This is well the expected result."
   ]
  },
  {
   "cell_type": "code",
   "execution_count": 97,
   "id": "8dffa911",
   "metadata": {},
   "outputs": [],
   "source": [
    "# C2 is a 2x2x4x4-tensor\n",
    "C2 = np.zeros( (2, 2, 4, 4) )\n",
    "\n",
    "for x in range(2):\n",
    "    for i in range(4):\n",
    "        for j in range(4):\n",
    "            C2[0, x, i, j]=1\n",
    "            \n",
    "#print(C2)"
   ]
  },
  {
   "cell_type": "markdown",
   "id": "d277b808",
   "metadata": {},
   "source": [
    "---\n",
    "#### Kronecker product:"
   ]
  },
  {
   "cell_type": "code",
   "execution_count": 136,
   "id": "5274498c",
   "metadata": {},
   "outputs": [
    {
     "name": "stdout",
     "output_type": "stream",
     "text": [
      "[[[[0. 1.]\n",
      "   [2. 3.]]\n",
      "\n",
      "  [[0. 1.]\n",
      "   [2. 3.]]\n",
      "\n",
      "  [[0. 1.]\n",
      "   [2. 3.]]]\n",
      "\n",
      "\n",
      " [[[0. 1.]\n",
      "   [2. 3.]]\n",
      "\n",
      "  [[0. 1.]\n",
      "   [2. 3.]]\n",
      "\n",
      "  [[0. 1.]\n",
      "   [2. 3.]]]\n",
      "\n",
      "\n",
      " [[[0. 1.]\n",
      "   [2. 3.]]\n",
      "\n",
      "  [[0. 1.]\n",
      "   [2. 3.]]\n",
      "\n",
      "  [[0. 1.]\n",
      "   [2. 3.]]]]\n"
     ]
    }
   ],
   "source": [
    "v = np.arange(4).reshape(2,2)\n",
    "w = np.ones((3, 3))\n",
    "\n",
    "print(np.tensordot(w, v, axes=0))"
   ]
  },
  {
   "cell_type": "markdown",
   "id": "2a8f69a2",
   "metadata": {},
   "source": [
    "#### Permute some entries of a tensor:"
   ]
  },
  {
   "cell_type": "code",
   "execution_count": 89,
   "id": "dd9b14b8",
   "metadata": {},
   "outputs": [
    {
     "data": {
      "text/plain": [
       "(640, 42, 3, 480)"
      ]
     },
     "execution_count": 89,
     "metadata": {},
     "output_type": "execute_result"
    }
   ],
   "source": [
    "x = np.ones((480, 640, 3, 42))\n",
    "np.transpose(x, (1, 3, 2, 0)).shape  # the new 0 is the old 1\n",
    "                                     # the new 1 is the old 3\n",
    "                                     # 2 stays 2\n",
    "                                     # the new 3 is the old 0"
   ]
  },
  {
   "cell_type": "markdown",
   "id": "c59d4f29",
   "metadata": {},
   "source": [
    "---"
   ]
  },
  {
   "cell_type": "code",
   "execution_count": 104,
   "id": "04c730df",
   "metadata": {},
   "outputs": [
    {
     "data": {
      "text/plain": [
       "array([[[[[[1., 1., 0., 0.],\n",
       "           [1., 1., 0., 0.],\n",
       "           [0., 0., 1., 1.],\n",
       "           [0., 0., 1., 1.]],\n",
       "\n",
       "          [[1., 1., 0., 0.],\n",
       "           [1., 1., 0., 0.],\n",
       "           [0., 0., 1., 1.],\n",
       "           [0., 0., 1., 1.]]],\n",
       "\n",
       "\n",
       "         [[[1., 1., 0., 0.],\n",
       "           [1., 1., 0., 0.],\n",
       "           [0., 0., 1., 1.],\n",
       "           [0., 0., 1., 1.]],\n",
       "\n",
       "          [[1., 1., 0., 0.],\n",
       "           [1., 1., 0., 0.],\n",
       "           [0., 0., 1., 1.],\n",
       "           [0., 0., 1., 1.]]]],\n",
       "\n",
       "\n",
       "\n",
       "        [[[[1., 1., 0., 0.],\n",
       "           [1., 1., 0., 0.],\n",
       "           [0., 0., 1., 1.],\n",
       "           [0., 0., 1., 1.]],\n",
       "\n",
       "          [[1., 1., 0., 0.],\n",
       "           [1., 1., 0., 0.],\n",
       "           [0., 0., 1., 1.],\n",
       "           [0., 0., 1., 1.]]],\n",
       "\n",
       "\n",
       "         [[[1., 1., 0., 0.],\n",
       "           [1., 1., 0., 0.],\n",
       "           [0., 0., 1., 1.],\n",
       "           [0., 0., 1., 1.]],\n",
       "\n",
       "          [[1., 1., 0., 0.],\n",
       "           [1., 1., 0., 0.],\n",
       "           [0., 0., 1., 1.],\n",
       "           [0., 0., 1., 1.]]]]],\n",
       "\n",
       "\n",
       "\n",
       "\n",
       "       [[[[[0., 0., 1., 1.],\n",
       "           [0., 0., 1., 1.],\n",
       "           [1., 1., 0., 0.],\n",
       "           [1., 1., 0., 0.]],\n",
       "\n",
       "          [[0., 0., 1., 1.],\n",
       "           [0., 0., 1., 1.],\n",
       "           [1., 1., 0., 0.],\n",
       "           [1., 1., 0., 0.]]],\n",
       "\n",
       "\n",
       "         [[[0., 0., 1., 1.],\n",
       "           [0., 0., 1., 1.],\n",
       "           [1., 1., 0., 0.],\n",
       "           [1., 1., 0., 0.]],\n",
       "\n",
       "          [[0., 0., 1., 1.],\n",
       "           [0., 0., 1., 1.],\n",
       "           [1., 1., 0., 0.],\n",
       "           [1., 1., 0., 0.]]]],\n",
       "\n",
       "\n",
       "\n",
       "        [[[[0., 0., 1., 1.],\n",
       "           [0., 0., 1., 1.],\n",
       "           [1., 1., 0., 0.],\n",
       "           [1., 1., 0., 0.]],\n",
       "\n",
       "          [[0., 0., 1., 1.],\n",
       "           [0., 0., 1., 1.],\n",
       "           [1., 1., 0., 0.],\n",
       "           [1., 1., 0., 0.]]],\n",
       "\n",
       "\n",
       "         [[[0., 0., 1., 1.],\n",
       "           [0., 0., 1., 1.],\n",
       "           [1., 1., 0., 0.],\n",
       "           [1., 1., 0., 0.]],\n",
       "\n",
       "          [[0., 0., 1., 1.],\n",
       "           [0., 0., 1., 1.],\n",
       "           [1., 1., 0., 0.],\n",
       "           [1., 1., 0., 0.]]]]]])"
      ]
     },
     "execution_count": 104,
     "metadata": {},
     "output_type": "execute_result"
    }
   ],
   "source": [
    "def C(W):    # W is a vector with 32 entries\n",
    "    T1 = np.tensordot(C1, W, axes=([4, 0])) + C2\n",
    "    T2 = np.tensordot( np.ones((2,2)), T1, axes=0)  # Kronecker product\n",
    "    return np.transpose(T2, (2, 0, 3, 1, 4, 5))\n",
    "\n",
    "C(W_BS09)"
   ]
  },
  {
   "cell_type": "markdown",
   "id": "04f2e4d0",
   "metadata": {},
   "source": [
    "-> It seems good"
   ]
  },
  {
   "cell_type": "markdown",
   "id": "26f3c6bd",
   "metadata": {},
   "source": [
    "## 1.5. Definition of D(W)"
   ]
  },
  {
   "cell_type": "code",
   "execution_count": 100,
   "id": "ddc02539",
   "metadata": {},
   "outputs": [],
   "source": [
    "# D1 is a 2x2x4x4x32-tensor\n",
    "D1 = np.zeros( (2, 2, 4, 4, 32) )\n",
    "\n",
    "for b in range(2):\n",
    "    for y in range(2):\n",
    "        for j in range(4):\n",
    "            if j==0 or j==2:\n",
    "                D1[b, y, 0, j, 0 + 24] = -(1-y) * (-1)**b\n",
    "                D1[b, y, 2, j, 0 + 24] = -(1-y) * (-1)**b\n",
    "                D1[b, y, 1, j, 1 + 24] = -(1-y) * (-1)**b\n",
    "                D1[b, y, 3, j, 1 + 24] = -(1-y) * (-1)**b\n",
    "                \n",
    "                D1[b, y, 0, j, 4 + 24] = -(y) * (-1)**b\n",
    "                D1[b, y, 2, j, 4 + 24] = -(y) * (-1)**b\n",
    "                D1[b, y, 1, j, 5 + 24] = -(y) * (-1)**b\n",
    "                D1[b, y, 3, j, 5 + 24] = -(y) * (-1)**b\n",
    "            \n",
    "            if j==1 or j==3:\n",
    "                D1[b, y, 0, j, 0 + 26] = -(1-y) * (-1)**b\n",
    "                D1[b, y, 2, j, 0 + 26] = -(1-y) * (-1)**b\n",
    "                D1[b, y, 1, j, 1 + 26] = -(1-y) * (-1)**b\n",
    "                D1[b, y, 3, j, 1 + 26] = -(1-y) * (-1)**b\n",
    "                \n",
    "                D1[b, y, 0, j, 4 + 26] = -(y) * (-1)**b\n",
    "                D1[b, y, 2, j, 4 + 26] = -(y) * (-1)**b\n",
    "                D1[b, y, 1, j, 5 + 26] = -(y) * (-1)**b\n",
    "                D1[b, y, 3, j, 5 + 26] = -(y) * (-1)**b\n",
    "\n",
    "#print(D1)"
   ]
  },
  {
   "cell_type": "code",
   "execution_count": 101,
   "id": "4055dfd0",
   "metadata": {},
   "outputs": [
    {
     "data": {
      "text/plain": [
       "array([[[[ 0., -1.,  0., -1.],\n",
       "         [-1.,  0., -1.,  0.],\n",
       "         [ 0., -1.,  0., -1.],\n",
       "         [-1.,  0., -1.,  0.]],\n",
       "\n",
       "        [[ 0., -1.,  0., -1.],\n",
       "         [-1.,  0., -1.,  0.],\n",
       "         [ 0., -1.,  0., -1.],\n",
       "         [-1.,  0., -1.,  0.]]],\n",
       "\n",
       "\n",
       "       [[[ 0.,  1.,  0.,  1.],\n",
       "         [ 1.,  0.,  1.,  0.],\n",
       "         [ 0.,  1.,  0.,  1.],\n",
       "         [ 1.,  0.,  1.,  0.]],\n",
       "\n",
       "        [[ 0.,  1.,  0.,  1.],\n",
       "         [ 1.,  0.,  1.,  0.],\n",
       "         [ 0.,  1.,  0.,  1.],\n",
       "         [ 1.,  0.,  1.,  0.]]]])"
      ]
     },
     "execution_count": 101,
     "metadata": {},
     "output_type": "execute_result"
    }
   ],
   "source": [
    "np.tensordot(D1, W_BS09, axes=([4, 0]))"
   ]
  },
  {
   "cell_type": "markdown",
   "id": "18d77ef1",
   "metadata": {},
   "source": [
    "-> This is well the wanted result."
   ]
  },
  {
   "cell_type": "code",
   "execution_count": 103,
   "id": "da99cabf",
   "metadata": {},
   "outputs": [],
   "source": [
    "# D2 is a 2x2x4x4-tensor\n",
    "D2 = np.zeros( (2, 2, 4, 4) )\n",
    "\n",
    "for y in range(2):\n",
    "    for i in range(4):\n",
    "        for j in range(4):\n",
    "            D2[0, y, i, j] = 1\n",
    "\n",
    "#print(D2)"
   ]
  },
  {
   "cell_type": "code",
   "execution_count": 105,
   "id": "672b6e11",
   "metadata": {},
   "outputs": [
    {
     "data": {
      "text/plain": [
       "array([[[[[[1., 0., 1., 0.],\n",
       "           [0., 1., 0., 1.],\n",
       "           [1., 0., 1., 0.],\n",
       "           [0., 1., 0., 1.]],\n",
       "\n",
       "          [[1., 0., 1., 0.],\n",
       "           [0., 1., 0., 1.],\n",
       "           [1., 0., 1., 0.],\n",
       "           [0., 1., 0., 1.]]],\n",
       "\n",
       "\n",
       "         [[[1., 0., 1., 0.],\n",
       "           [0., 1., 0., 1.],\n",
       "           [1., 0., 1., 0.],\n",
       "           [0., 1., 0., 1.]],\n",
       "\n",
       "          [[1., 0., 1., 0.],\n",
       "           [0., 1., 0., 1.],\n",
       "           [1., 0., 1., 0.],\n",
       "           [0., 1., 0., 1.]]]],\n",
       "\n",
       "\n",
       "\n",
       "        [[[[0., 1., 0., 1.],\n",
       "           [1., 0., 1., 0.],\n",
       "           [0., 1., 0., 1.],\n",
       "           [1., 0., 1., 0.]],\n",
       "\n",
       "          [[0., 1., 0., 1.],\n",
       "           [1., 0., 1., 0.],\n",
       "           [0., 1., 0., 1.],\n",
       "           [1., 0., 1., 0.]]],\n",
       "\n",
       "\n",
       "         [[[0., 1., 0., 1.],\n",
       "           [1., 0., 1., 0.],\n",
       "           [0., 1., 0., 1.],\n",
       "           [1., 0., 1., 0.]],\n",
       "\n",
       "          [[0., 1., 0., 1.],\n",
       "           [1., 0., 1., 0.],\n",
       "           [0., 1., 0., 1.],\n",
       "           [1., 0., 1., 0.]]]]],\n",
       "\n",
       "\n",
       "\n",
       "\n",
       "       [[[[[1., 0., 1., 0.],\n",
       "           [0., 1., 0., 1.],\n",
       "           [1., 0., 1., 0.],\n",
       "           [0., 1., 0., 1.]],\n",
       "\n",
       "          [[1., 0., 1., 0.],\n",
       "           [0., 1., 0., 1.],\n",
       "           [1., 0., 1., 0.],\n",
       "           [0., 1., 0., 1.]]],\n",
       "\n",
       "\n",
       "         [[[1., 0., 1., 0.],\n",
       "           [0., 1., 0., 1.],\n",
       "           [1., 0., 1., 0.],\n",
       "           [0., 1., 0., 1.]],\n",
       "\n",
       "          [[1., 0., 1., 0.],\n",
       "           [0., 1., 0., 1.],\n",
       "           [1., 0., 1., 0.],\n",
       "           [0., 1., 0., 1.]]]],\n",
       "\n",
       "\n",
       "\n",
       "        [[[[0., 1., 0., 1.],\n",
       "           [1., 0., 1., 0.],\n",
       "           [0., 1., 0., 1.],\n",
       "           [1., 0., 1., 0.]],\n",
       "\n",
       "          [[0., 1., 0., 1.],\n",
       "           [1., 0., 1., 0.],\n",
       "           [0., 1., 0., 1.],\n",
       "           [1., 0., 1., 0.]]],\n",
       "\n",
       "\n",
       "         [[[0., 1., 0., 1.],\n",
       "           [1., 0., 1., 0.],\n",
       "           [0., 1., 0., 1.],\n",
       "           [1., 0., 1., 0.]],\n",
       "\n",
       "          [[0., 1., 0., 1.],\n",
       "           [1., 0., 1., 0.],\n",
       "           [0., 1., 0., 1.],\n",
       "           [1., 0., 1., 0.]]]]]])"
      ]
     },
     "execution_count": 105,
     "metadata": {},
     "output_type": "execute_result"
    }
   ],
   "source": [
    "def D(W):    # W is a vector with 32 entries\n",
    "    T1 = np.tensordot(D1, W, axes=([4, 0])) + D2\n",
    "    T2 = np.tensordot( np.ones((2,2)), T1, axes=0)  # Kronecker product\n",
    "    return np.transpose(T2, (0, 2, 1, 3, 4, 5))\n",
    "\n",
    "D(W_BS09)"
   ]
  },
  {
   "cell_type": "markdown",
   "id": "35fcd77a",
   "metadata": {},
   "source": [
    "-> It seems good!"
   ]
  },
  {
   "cell_type": "markdown",
   "id": "a3eefaa0",
   "metadata": {},
   "source": [
    "## 1.6. Product of Boxes $R(W, P, Q) = P \\boxtimes_W Q$"
   ]
  },
  {
   "cell_type": "code",
   "execution_count": 144,
   "id": "498459d4",
   "metadata": {},
   "outputs": [],
   "source": [
    "def R(W, P, Q):\n",
    "    T1 = np.tensordot(A(W), P, axes=([3, 0]))  # green term\n",
    "    T2 = np.transpose(np.tensordot(B(W), Q, axes=([3, 0])), (0,1,3,2))  # blue term\n",
    "    T3 = np.tensordot(np.ones((2,2)), T1*T2, axes = 0)   # Kronecker product\n",
    "    T4 = T3 * C(W) * D(W)  # the big bracket\n",
    "    print(T3.shape)\n",
    "    print(C(W).shape)\n",
    "    print(D(W).shape)\n",
    "    return np.tensordot(np.tensordot(T4, np.ones((4)), axes=([5, 0])), np.ones((4)), axes = ([4,0]))\n",
    "    \n",
    "    "
   ]
  },
  {
   "cell_type": "code",
   "execution_count": 145,
   "id": "700c8442",
   "metadata": {},
   "outputs": [],
   "source": [
    "PR = np.zeros((4,4))\n",
    "for a in range(2):\n",
    "    for b in range(2):\n",
    "        for x in range(2):\n",
    "            for y in range(2):\n",
    "                if (a+b)%2 == x*y:\n",
    "                    PR[2*x+y, 2*a+b]=0.5\n",
    "                \n",
    "\n",
    "SR = np.zeros((4,4))\n",
    "for a in range(2):\n",
    "    for b in range(2):\n",
    "        for x in range(2):\n",
    "            for y in range(2):\n",
    "                if a==b:\n",
    "                    SR[2*x+y, 2*a+b]=0.5"
   ]
  },
  {
   "cell_type": "code",
   "execution_count": 146,
   "id": "28604999",
   "metadata": {},
   "outputs": [
    {
     "name": "stdout",
     "output_type": "stream",
     "text": [
      "(2, 2, 2, 2, 4, 4)\n",
      "(2, 2, 2, 2, 4, 4)\n",
      "(2, 2, 2, 2, 4, 4)\n"
     ]
    },
    {
     "data": {
      "text/plain": [
       "array([[[[0.5, 0.5],\n",
       "         [0.5, 0. ]],\n",
       "\n",
       "        [[0. , 0. ],\n",
       "         [0. , 0.5]]],\n",
       "\n",
       "\n",
       "       [[[0. , 0. ],\n",
       "         [0. , 0.5]],\n",
       "\n",
       "        [[0.5, 0.5],\n",
       "         [0.5, 0. ]]]])"
      ]
     },
     "execution_count": 146,
     "metadata": {},
     "output_type": "execute_result"
    }
   ],
   "source": [
    "R(W_BS09, PR, SR)"
   ]
  },
  {
   "cell_type": "code",
   "execution_count": null,
   "id": "94d08105",
   "metadata": {},
   "outputs": [],
   "source": []
  },
  {
   "cell_type": "code",
   "execution_count": null,
   "id": "61916925",
   "metadata": {},
   "outputs": [],
   "source": []
  },
  {
   "cell_type": "code",
   "execution_count": null,
   "id": "34d270db",
   "metadata": {},
   "outputs": [],
   "source": []
  },
  {
   "cell_type": "code",
   "execution_count": null,
   "id": "1cd14876",
   "metadata": {},
   "outputs": [],
   "source": []
  },
  {
   "cell_type": "code",
   "execution_count": null,
   "id": "868982bb",
   "metadata": {},
   "outputs": [],
   "source": []
  },
  {
   "cell_type": "code",
   "execution_count": null,
   "id": "cd258dce",
   "metadata": {},
   "outputs": [],
   "source": []
  },
  {
   "cell_type": "code",
   "execution_count": null,
   "id": "8731a2e1",
   "metadata": {},
   "outputs": [],
   "source": [
    "MatrixF = np.array([\n",
    "    [-1, 0, 1, 0],\n",
    "    [-1, 0, 1, 0],\n",
    "    [0, -1, 0, 1],\n",
    "    [0, -1, 0, 1],\n",
    "    #\n",
    "    [-1, 0, 1, 0],\n",
    "    [-1, 0, 1, 0],\n",
    "    [0, -1, 0, 1],\n",
    "    [0, -1, 0, 1],\n",
    "    #\n",
    "    [1, 0, 0, 0],\n",
    "    [1, 0, 0, 0],\n",
    "    [0, 1, 0, 0],\n",
    "    [0, 1, 0, 0],\n",
    "    #\n",
    "    [1, 0, 0, 0],\n",
    "    [1, 0, 0, 0],\n",
    "    [0, 1, 0, 0],\n",
    "    [0, 1, 0, 0]\n",
    "])\n",
    "\n",
    "MatrixG = np.array([\n",
    "    [-1, 0, 1, 0],\n",
    "    [0, -1, 0, 1],\n",
    "    [-1, 0, 1, 0],\n",
    "    [0, -1, 0, 1],\n",
    "    #\n",
    "    [1, 0, 0, 0],\n",
    "    [0, 1, 0, 0],\n",
    "    [1, 0, 0, 0],\n",
    "    [0, 1, 0, 0],\n",
    "    #\n",
    "    [-1, 0, 1, 0],\n",
    "    [0, -1, 0, 1],\n",
    "    [-1, 0, 1, 0],\n",
    "    [0, -1, 0, 1],\n",
    "    #\n",
    "    [1, 0, 0, 0],\n",
    "    [0, 1, 0, 0],\n",
    "    [1, 0, 0, 0],\n",
    "    [0, 1, 0, 0]\n",
    "])\n",
    "\n",
    "MatrixFtilda = np.array([\n",
    "    [1, 0, 0, 0], \n",
    "    [1, 0, 0, 0], \n",
    "    [0, 1, 0, 0], \n",
    "    [0, 1, 0, 0],\n",
    "    #\n",
    "    [1, 0, 0, 0], \n",
    "    [1, 0, 0, 0], \n",
    "    [0, 1, 0, 0], \n",
    "    [0, 1, 0, 0],\n",
    "    #\n",
    "    [0, 0, 1, 0],\n",
    "    [0, 0, 1, 0],\n",
    "    [0, 0, 0, 1],\n",
    "    [0, 0, 0, 1],\n",
    "    #\n",
    "    [0, 0, 1, 0],\n",
    "    [0, 0, 1, 0],\n",
    "    [0, 0, 0, 1],\n",
    "    [0, 0, 0, 1]\n",
    "])\n",
    "\n",
    "MatrixGtilda = np.array([\n",
    "    [1, 0, 0, 0],\n",
    "    [0, 1, 0, 0], \n",
    "    [1, 0, 0, 0],\n",
    "    [0, 1, 0, 0],\n",
    "    #\n",
    "    [0, 0, 1, 0],\n",
    "    [0, 0, 0, 1],\n",
    "    [0, 0, 1, 0],\n",
    "    [0, 0, 0, 1],\n",
    "    #\n",
    "    [1, 0, 0, 0],\n",
    "    [0, 1, 0, 0], \n",
    "    [1, 0, 0, 0],\n",
    "    [0, 1, 0, 0],\n",
    "    #\n",
    "    [0, 0, 1, 0],\n",
    "    [0, 0, 0, 1],\n",
    "    [0, 0, 1, 0],\n",
    "    [0, 0, 0, 1]\n",
    "])"
   ]
  },
  {
   "cell_type": "code",
   "execution_count": null,
   "id": "6921b25c",
   "metadata": {},
   "outputs": [],
   "source": [
    "def vector_to_matrix(vector):   # turns a vector of length 16 into a 4x4 matrix, columnwise\n",
    "    return np.column_stack((vector[0:4], vector[4:8], vector[8:12], vector[12:16]))\n",
    "\n",
    "\n",
    "def BoxProduct(W, P, Q):\n",
    "    new_box = np.zeros((4,4))   # null 4x4 matrix\n",
    "    \n",
    "    for k in range(16):\n",
    "        y = k%2\n",
    "        x = ((k-y)//2)%2\n",
    "        b = ((k-2*x-y)//4)%2\n",
    "        a = ((k-4*b-2*x-y)//8)%2\n",
    "        \n",
    "        # f1(x, 0) = W[2*x]\n",
    "        # f1(x, 1) = W[2*x+1]\n",
    "        # g1(y, 0) = W[2*y+4]\n",
    "        # g1(y, 1) = W[2*y+5]\n",
    "        term1 = vector_to_matrix( np.dot(MatrixF, np.array([W[2*x], W[2*x+1], 1, 1])) *  np.dot(MatrixG, np.array([W[2*y+4], W[2*y+5], 1, 1])) )\n",
    "        \n",
    "        # f2(x, 0) = W[2*x+8]\n",
    "        # f2(x, 1) = W[2*x+9]\n",
    "        # g2(y, 0) = W[2*y+12]\n",
    "        # g2(y, 1) = W[2*y+13]\n",
    "        term2 = vector_to_matrix( np.dot(MatrixF, np.array([W[2*x+8], W[2*x+9], 1, 1])) * np.dot(MatrixG, np.array([W[2*y+12], W[2*y+13], 1, 1]))  )\n",
    "        \n",
    "        # The vector with the f3's is W[16:20] or W[20:24] depending on x\n",
    "        term3 = (1-a)*np.ones((4,4)) - (-1)**a * vector_to_matrix( np.dot(MatrixFtilda, np.array(W[16+4*x: 20+4*x]))  )\n",
    "        \n",
    "        # The vector with the g3's is W[24:28] or W[28:32] depending on y\n",
    "        term4 = (1-b)*np.ones((4,4)) - (-1)**b * vector_to_matrix( np.dot(MatrixGtilda, np.array(W[24+4*y: 28+4*y]))  )\n",
    "\n",
    "        \n",
    "        new_box[2*x+y, 2*a+b] = np.sum( np.dot(term1, P) * np.dot(term2, Q).T * term3 * term4 )\n",
    "        \n",
    "    return new_box\n",
    "\n"
   ]
  },
  {
   "cell_type": "code",
   "execution_count": null,
   "id": "ef133c02",
   "metadata": {},
   "outputs": [],
   "source": [
    "# Fixer des boites P et Q\n",
    "\n",
    "def phi(W):\n",
    "    return - h(BoxProduct(W, P, Q)) "
   ]
  },
  {
   "cell_type": "markdown",
   "id": "4511d842",
   "metadata": {},
   "source": [
    "# II. Boxes"
   ]
  },
  {
   "cell_type": "code",
   "execution_count": null,
   "id": "23576174",
   "metadata": {},
   "outputs": [],
   "source": [
    "\"\"\"PR = np.array([                     \n",
    "    [0.5, 0, 0, 0.5],\n",
    "    [0.5, 0, 0, 0.5],\n",
    "    [0.5, 0, 0, 0.5],\n",
    "    [0, 0.5, 0.5, 0]\n",
    "])\n",
    "    \n",
    "          \n",
    "SR = np.array([\n",
    "    [0.5, 0, 0, 0.5],\n",
    "    [0.5, 0, 0, 0.5],\n",
    "    [0.5, 0, 0, 0.5],\n",
    "    [0.5, 0, 0, 0.5]\n",
    "])\"\"\"\n",
    "\n",
    "PR = np.zeros((4,4))\n",
    "\n",
    "for a in range(2):\n",
    "    for b in range(2):\n",
    "        for x in range(2):\n",
    "            for y in range(2):\n",
    "                if (a+b)%2 == x*y:\n",
    "                    PR[2*x+y, 2*a+b]=0.5\n",
    "                    \n",
    "print(\"PR=\\n\",PR)\n",
    "\n",
    "SR = np.zeros((4,4))\n",
    "\n",
    "for a in range(2):\n",
    "    for b in range(2):\n",
    "        for x in range(2):\n",
    "            for y in range(2):\n",
    "                if a==b:\n",
    "                    SR[2*x+y, 2*a+b]=0.5\n",
    "                    \n",
    "print(\"\\nSR=\\n\",SR)"
   ]
  },
  {
   "cell_type": "code",
   "execution_count": null,
   "id": "788ccbe5",
   "metadata": {},
   "outputs": [],
   "source": [
    "import timeit"
   ]
  },
  {
   "cell_type": "code",
   "execution_count": null,
   "id": "d7a906b6",
   "metadata": {},
   "outputs": [],
   "source": [
    "start_time = time.time()\n",
    "print(h(PR))\n",
    "\n",
    "print(\"\")\n",
    "print(\"Single evaluation\")\n",
    "print(\"Duration: --- %s seconds ---\" % (time.time() - start_time))\n",
    "\n",
    "count=int(1e4)\n",
    "print(\"\")\n",
    "print(\"Multiple evaluations\")\n",
    "counter = timeit.timeit(lambda: h(PR), number=count)\n",
    "print( counter/count )\n",
    "\n",
    "print(\"\")\n",
    "start_time = time.time()\n",
    "print(h(PR))\n",
    "print(\"Single evaluation\")\n",
    "print(\"Duration: --- %s seconds ---\" % (time.time() - start_time))\n"
   ]
  },
  {
   "cell_type": "code",
   "execution_count": null,
   "id": "a643ead7",
   "metadata": {},
   "outputs": [],
   "source": [
    "def P_L(mu, nu, sigma, tau):\n",
    "    new_box = np.zeros((4,4))\n",
    "    \n",
    "    for a in range(2):\n",
    "        for b in range(2):\n",
    "            for x in range(2):\n",
    "                for y in range(2):\n",
    "                    if a==(mu*x+nu)%2 and b==(sigma*y+tau)%2:\n",
    "                        new_box[2*x+y, 2*a+b] = 1\n",
    "                        \n",
    "    return new_box\n",
    "                        "
   ]
  },
  {
   "cell_type": "code",
   "execution_count": null,
   "id": "017e68a0",
   "metadata": {},
   "outputs": [],
   "source": [
    "P_0 = P_L(0,0,0,0)\n",
    "P_1 = P_L(0,1,0,1)"
   ]
  },
  {
   "cell_type": "code",
   "execution_count": null,
   "id": "7804e8b8",
   "metadata": {},
   "outputs": [],
   "source": [
    "def P_NL(mu, nu, sigma):\n",
    "    new_box = np.zeros((4,4))\n",
    "    \n",
    "    for a in range(2):\n",
    "        for b in range(2):\n",
    "            for x in range(2):\n",
    "                for y in range(2):\n",
    "                    if (a+b)%2==(x*y + mu*x + nu*y + sigma)%2:\n",
    "                        new_box[2*x+y, 2*a+b] = 0.5\n",
    "                        \n",
    "    return new_box"
   ]
  },
  {
   "cell_type": "code",
   "execution_count": null,
   "id": "2d6ebdcd",
   "metadata": {},
   "outputs": [],
   "source": [
    "P_NL(0,0,0) == PR"
   ]
  },
  {
   "cell_type": "code",
   "execution_count": null,
   "id": "e4af9844",
   "metadata": {},
   "outputs": [],
   "source": [
    "PRbar = P_NL(0,0,1)\n",
    "print(PRbar/2 + PR/2)"
   ]
  },
  {
   "cell_type": "markdown",
   "id": "24912616",
   "metadata": {},
   "source": [
    "# III. Wirings"
   ]
  },
  {
   "cell_type": "code",
   "execution_count": null,
   "id": "a69605c0",
   "metadata": {},
   "outputs": [],
   "source": [
    "central_wiring = [0.5 for _ in range(32)]\n",
    "\n",
    "def random_wiring():\n",
    "    return [random.random() for _ in range(32)]"
   ]
  },
  {
   "cell_type": "code",
   "execution_count": null,
   "id": "5a76b254",
   "metadata": {},
   "outputs": [],
   "source": [
    "W_BS09 = [0, 0, 1, 1,              # f_1(x, a_2) = x\n",
    "          0, 0, 1, 1,              # g_1(y, b_2) = y\n",
    "          0, 0, 0, 1,              # f_2(x, a_1) = a_1*x\n",
    "          0, 0, 0, 1,              # g_2(y, b_1) = b_1*y\n",
    "          0, 1, 1, 0, 0, 1, 1, 0,  # f_3(x, a_1, a_2) = a_1 + a_2 mod 2\n",
    "          0, 1, 1, 0, 0, 1, 1, 0   # g_3(y, b_1, b_2) = b_1 + b_2 mod 2\n",
    "         ]\n",
    "\n",
    "W_ABLPSV09 = [\n",
    "          0, 0, 1, 1,              # f_1(x, a_2) = x\n",
    "          0, 0, 1, 1,              # g_1(y, b_2) = y\n",
    "          1, 0, 0, 1,              # f_2(x, a_1) = x ⊕ a_1 ⊕ 1\n",
    "          0, 0, 0, 1,              # g_2(y, b_1) = y*b_1\n",
    "          1, 0, 0, 1, 1, 0, 0, 1,  # f_3(x, a_1, a_2) = a_1 ⊕ a_2 ⊕ 1\n",
    "          1, 0, 0, 1, 1, 0, 0, 1,  # g_3(y, b_1, b_2) = b_1 ⊕ b_2 ⊕ 1\n",
    "]\n",
    "\n",
    "\n",
    "def wiring_to_functions(W):\n",
    "    print(\"f_1(x,a2) = \", (W[2]-W[0])%2, \"x ⊕ \", (W[1]-W[0])%2 ,\"a2 ⊕ \", (W[3]-W[2]-W[1]+W[0])%2 ,\"x*a2 ⊕ \", (W[0])%2)\n",
    "    print(\"g_1(y,b2) = \", (W[6]-W[4])%2, \"y ⊕ \", (W[5]-W[4])%2 ,\"b2 ⊕ \", (W[7]-W[6]-W[5]+W[4])%2 ,\"y*b2 ⊕ \", (W[4])%2)\n",
    "    print(\"f_2(x,a1) = \", (W[10]-W[8])%2, \"x ⊕ \", (W[9]-W[8])%2 ,\"a1 ⊕ \", (W[11]-W[10]-W[9]+W[8])%2 ,\"x*a1 ⊕ \", (W[8])%2)\n",
    "    print(\"g_2(y,b1) = \", (W[14]-W[12])%2, \"y ⊕ \", (W[13]-W[12])%2 ,\"b1 ⊕ \", (W[15]-W[14]-W[13]+W[12])%2 ,\"y*b1 ⊕ \", (W[12])%2)\n",
    "    print(\"f_3(x,a1,a2) = \", (W[20]-W[16])%2, \"x ⊕ \", (W[18]-W[16])%2 ,\"a1 ⊕ \", (W[17]-W[16])%2 ,\"a2 ⊕ \", \n",
    "          (W[21]-W[20]-W[18]+W[16])%2 ,\"x*a1 ⊕ \", (W[22]-W[20]-W[17]+W[16])%2 ,\"x*a2 ⊕ \", \n",
    "          (W[19]-W[18]-W[17]+W[16])%2 ,\"a1*a2 ⊕ \", \n",
    "          (W[23] - W[21] - W[22]+W[20] - W[19]+W[18]+W[17] - W[16])%2,\"x*a1*a2 ⊕ \", (W[16])%2)\n",
    "    print(\"g_3(y,b1,b2) = \", (W[28]-W[24])%2, \"y ⊕ \", (W[26]-W[24])%2 ,\"b1 ⊕ \", (W[25]-W[24])%2 ,\"b2 ⊕ \", \n",
    "          (W[29]-W[28]-W[26]+W[24])%2 ,\"y*b1 ⊕ \", (W[30]-W[28]-W[25]+W[24])%2 ,\"y*b2 ⊕ \", \n",
    "          (W[27]-W[26]-W[25]+W[24])%2 ,\"b1*b2 ⊕ \", \n",
    "          (W[31] - W[29] - W[30]+W[28] - W[27]+W[26]+W[25] - W[24])%2,\"y*b1*b2 ⊕ \", (W[16])%2)"
   ]
  },
  {
   "cell_type": "markdown",
   "id": "89ed813a",
   "metadata": {},
   "source": [
    "### Power of a box"
   ]
  },
  {
   "cell_type": "code",
   "execution_count": null,
   "id": "57a2fda6",
   "metadata": {},
   "outputs": [],
   "source": [
    "def power_box(P, n, W):\n",
    "    # Initialization\n",
    "    term1 = np.zeros((4,4, 4,4))\n",
    "    constant_term = np.zeros((4,4, 4,4))\n",
    "    for k in range(16):\n",
    "        y = k%2\n",
    "        x = ((k-y)//2)%2\n",
    "        b = ((k-2*x-y)//4)%2\n",
    "        a = ((k-4*b-2*x-y)//8)%2\n",
    "        \n",
    "        term1[2*x+y, 2*a+b] = vector_to_matrix( np.dot(MatrixF, np.array([W[2*x], W[2*x+1], 1, 1])) *  np.dot(MatrixG, np.array([W[2*y+4], W[2*y+5], 1, 1])) )\n",
    "        \n",
    "        term2 = vector_to_matrix( np.dot(MatrixF, np.array([W[2*x+8], W[2*x+9], 1, 1])) * np.dot(MatrixG, np.array([W[2*y+12], W[2*y+13], 1, 1]))  )\n",
    "        term3 = (1-a)*np.ones((4,4)) - (-1)**a * vector_to_matrix( np.dot(MatrixFtilda, np.array(W[16+4*x: 20+4*x])) )\n",
    "        term4 = (1-b)*np.ones((4,4)) - (-1)**b * vector_to_matrix( np.dot(MatrixGtilda, np.array(W[24+4*y: 28+4*y])) )\n",
    "        \n",
    "        constant_term[2*x+y, 2*a+b] = np.dot(term2, P).T * term3 * term4                                                       \n",
    "                                                                  \n",
    "    # Induction: we compute the n-th power\n",
    "    new_box = P.copy()\n",
    "    for i in range(n-1):\n",
    "        aux = new_box.copy()\n",
    "        for k in range(16):\n",
    "            y = k%2\n",
    "            x = ((k-y)//2)%2\n",
    "            b = ((k-2*x-y)//4)%2\n",
    "            a = ((k-4*b-2*x-y)//8)%2                                                         \n",
    "                                                                  \n",
    "            #new_box[2*x+y, 2*a+b] = np.sum( np.dot(term1[2*x+y, 2*a+b], new_box) * (constant_term[2*x+y, 2*a+b]) )\n",
    "            new_box[2*x+y, 2*a+b] = np.sum( np.dot(term1[2*x+y, 2*a+b], aux) * (constant_term[2*x+y, 2*a+b]) )\n",
    "        \n",
    "        \n",
    "    return new_box\n",
    "\n",
    "def power_box_left(P, n, W):\n",
    "    # Initialization\n",
    "    term2 = np.zeros((4,4, 4,4))\n",
    "    constant_term = np.zeros((4,4, 4,4))\n",
    "    for k in range(16):\n",
    "        y = k%2\n",
    "        x = ((k-y)//2)%2\n",
    "        b = ((k-2*x-y)//4)%2\n",
    "        a = ((k-4*b-2*x-y)//8)%2\n",
    "        \n",
    "        term2[2*x+y, 2*a+b] = vector_to_matrix( np.dot(MatrixF, np.array([W[2*x+8], W[2*x+9], 1, 1])) *  np.dot(MatrixG, np.array([W[2*y+12], W[2*y+13], 1, 1])) )\n",
    "        \n",
    "        term1 = vector_to_matrix( np.dot(MatrixF, np.array([W[2*x], W[2*x+1], 1, 1])) * np.dot(MatrixG, np.array([W[2*y+4], W[2*y+5], 1, 1]))  )\n",
    "        term3 = (1-a)*np.ones((4,4)) - (-1)**a * vector_to_matrix( np.dot(MatrixFtilda, np.array(W[16+4*x: 20+4*x])) )\n",
    "        term4 = (1-b)*np.ones((4,4)) - (-1)**b * vector_to_matrix( np.dot(MatrixGtilda, np.array(W[24+4*y: 28+4*y])) )\n",
    "        \n",
    "        constant_term[2*x+y, 2*a+b] = np.dot(term1, P) * term3 * term4                                                       \n",
    "                                                                  \n",
    "    # Induction: we compute the n-th power\n",
    "    new_box = P.copy()\n",
    "    for i in range(n-1):\n",
    "        aux = new_box.copy()\n",
    "        for k in range(16):\n",
    "            y = k%2\n",
    "            x = ((k-y)//2)%2\n",
    "            b = ((k-2*x-y)//4)%2\n",
    "            a = ((k-4*b-2*x-y)//8)%2                                                         \n",
    "                                                                  \n",
    "            new_box[2*x+y, 2*a+b] = np.sum( np.dot(term2[2*x+y, 2*a+b], aux).T * (constant_term[2*x+y, 2*a+b]) )\n",
    "        \n",
    "        \n",
    "    return new_box\n",
    "\n",
    "def power_box_BS09(P, n, W):\n",
    "    new_box = P.copy()\n",
    "    for i in range(n-1):\n",
    "        new_box = BoxProduct(W, new_box, new_box)\n",
    "    return new_box\n",
    "\n",
    "n=10\n",
    "\n",
    "def phi_n(W):\n",
    "    return - h(power_box(corNLB(0.5), n, W))"
   ]
  },
  {
   "cell_type": "code",
   "execution_count": null,
   "id": "70c1dd1f",
   "metadata": {},
   "outputs": [],
   "source": []
  },
  {
   "cell_type": "code",
   "execution_count": null,
   "id": "28dc7b27",
   "metadata": {},
   "outputs": [],
   "source": []
  },
  {
   "cell_type": "code",
   "execution_count": null,
   "id": "575df4a7",
   "metadata": {},
   "outputs": [],
   "source": []
  },
  {
   "cell_type": "code",
   "execution_count": null,
   "id": "4eb0a12e",
   "metadata": {},
   "outputs": [],
   "source": []
  },
  {
   "cell_type": "code",
   "execution_count": null,
   "id": "667b2333",
   "metadata": {},
   "outputs": [],
   "source": []
  }
 ],
 "metadata": {
  "kernelspec": {
   "display_name": "Python 3 (ipykernel)",
   "language": "python",
   "name": "python3"
  },
  "language_info": {
   "codemirror_mode": {
    "name": "ipython",
    "version": 3
   },
   "file_extension": ".py",
   "mimetype": "text/x-python",
   "name": "python",
   "nbconvert_exporter": "python",
   "pygments_lexer": "ipython3",
   "version": "3.9.12"
  },
  "vscode": {
   "interpreter": {
    "hash": "33dde334450efa20b1504410201f9e8e06d56dc1da1db9f70404bfbe47720224"
   }
  }
 },
 "nbformat": 4,
 "nbformat_minor": 5
}
