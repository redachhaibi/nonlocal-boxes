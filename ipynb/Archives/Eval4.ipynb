{
 "cells": [
  {
   "cell_type": "code",
   "execution_count": null,
   "id": "67f8a8b8",
   "metadata": {},
   "outputs": [],
   "source": [
    "import numpy as np\n",
    "import random  # for the random wirings\n",
    "import time # to compare the algorithm timings\n",
    "import timeit"
   ]
  },
  {
   "cell_type": "code",
   "execution_count": null,
   "id": "a7524bf4",
   "metadata": {},
   "outputs": [],
   "source": [
    "import non_local_boxes\n",
    "\n",
    "# Sugar coating for reloading\n",
    "%matplotlib inline\n",
    "%load_ext autoreload\n",
    "%autoreload 2"
   ]
  },
  {
   "cell_type": "code",
   "execution_count": null,
   "id": "b01949a4",
   "metadata": {},
   "outputs": [],
   "source": [
    "W = non_local_boxes.utils.W_BS09(non_local_boxes.evaluate.nb_columns)\n",
    "P = non_local_boxes.utils.PR\n",
    "Q = non_local_boxes.utils.SR\n",
    "\n",
    "\n",
    "#non_local_boxes.evaluate.R(W, P, Q)[:,:,:,:,0] == non_local_boxes.utils.matrix_to_tensor(P)\n",
    "non_local_boxes.evaluate.phi_flat(W, P, Q)"
   ]
  },
  {
   "cell_type": "code",
   "execution_count": null,
   "id": "448ff302",
   "metadata": {},
   "outputs": [],
   "source": [
    "coeff = random.random()\n",
    "P = non_local_boxes.utils.matrix_to_tensor(non_local_boxes.utils.corNLB(coeff))\n",
    "\n",
    "non_local_boxes.evaluate.h_flat(P) == (coeff+3)/4"
   ]
  },
  {
   "attachments": {},
   "cell_type": "markdown",
   "id": "0e5d4147",
   "metadata": {},
   "source": [
    "## Timing"
   ]
  },
  {
   "cell_type": "code",
   "execution_count": null,
   "id": "e91735c6",
   "metadata": {},
   "outputs": [],
   "source": [
    "W = non_local_boxes.utils.W_BS09(non_local_boxes.evaluate.nb_columns)\n",
    "P = non_local_boxes.utils.PR\n",
    "Q = non_local_boxes.utils.PR\n",
    "\n",
    "start_time = time.time()\n",
    "non_local_boxes.evaluate.phi_flat(W, P, Q)\n",
    "\n",
    "print(\"\")\n",
    "print(\"Single evaluation\")\n",
    "print(\"Duration: --- %s ms ---\" % (1e3*(time.time() - start_time)) )\n",
    "\n",
    "count=int(1e4)\n",
    "print(\"\")\n",
    "print(\"Multiple evaluations (flat): \", count)\n",
    "counter = timeit.timeit(lambda: non_local_boxes.evaluate.phi_flat(W, P, Q), number=count)\n",
    "print( \"Average per evaluation: %s ms\" % (1e3*counter/count) )"
   ]
  },
  {
   "attachments": {},
   "cell_type": "markdown",
   "id": "e29be0d1",
   "metadata": {},
   "source": [
    "# Random Extremal Point"
   ]
  },
  {
   "cell_type": "code",
   "execution_count": null,
   "id": "b6808012",
   "metadata": {},
   "outputs": [],
   "source": [
    "W = non_local_boxes.utils.random_extremal_wiring(non_local_boxes.evaluate.nb_columns)\n",
    "P = non_local_boxes.utils.corNLB(0.5)\n",
    "Q = P\n",
    "\n",
    "non_local_boxes.evaluate.phi_flat(W, P, Q)"
   ]
  },
  {
   "cell_type": "code",
   "execution_count": null,
   "id": "25d060af",
   "metadata": {},
   "outputs": [],
   "source": []
  }
 ],
 "metadata": {
  "kernelspec": {
   "display_name": ".venv_boxes",
   "language": "python",
   "name": "python3"
  },
  "language_info": {
   "codemirror_mode": {
    "name": "ipython",
    "version": 3
   },
   "file_extension": ".py",
   "mimetype": "text/x-python",
   "name": "python",
   "nbconvert_exporter": "python",
   "pygments_lexer": "ipython3",
   "version": "3.9.12"
  },
  "vscode": {
   "interpreter": {
    "hash": "fc316f9929218361e7d645a202e8c2b79a1175dfee9b41dd9aa3806e9995da6b"
   }
  }
 },
 "nbformat": 4,
 "nbformat_minor": 5
}
