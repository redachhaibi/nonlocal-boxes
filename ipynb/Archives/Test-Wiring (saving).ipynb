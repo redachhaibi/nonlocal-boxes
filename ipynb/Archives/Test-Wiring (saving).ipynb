{
 "cells": [
  {
   "cell_type": "code",
   "execution_count": 32,
   "metadata": {},
   "outputs": [
    {
     "name": "stdout",
     "output_type": "stream",
     "text": [
      "The autoreload extension is already loaded. To reload it, use:\n",
      "  %reload_ext autoreload\n"
     ]
    }
   ],
   "source": [
    "import torch\n",
    "import matplotlib.pyplot as plt\n",
    "import non_local_boxes\n",
    "import numpy as np\n",
    "from IPython.display import clear_output   # in order to clear the print output\n",
    "\n",
    "# Sugar coating for reloading\n",
    "%matplotlib inline\n",
    "%load_ext autoreload\n",
    "%autoreload 2"
   ]
  },
  {
   "cell_type": "code",
   "execution_count": 33,
   "metadata": {},
   "outputs": [
    {
     "name": "stdout",
     "output_type": "stream",
     "text": [
      "f_1(x,a2) = x\n",
      "g_1(y,b2) = y ⊕ 1.0 \n",
      "f_2(x,a1) = x ⊕ a1\n",
      "g_2(y,b1) = y ⊕ b1 ⊕ y·b1 ⊕ 1.0 \n",
      "f_3(x,a1,a2) = x ⊕ a1 ⊕ a2\n",
      "g_3(y,b1,b2) = b1 ⊕ b2\n"
     ]
    }
   ],
   "source": [
    "W = [0.,0.,1.,1.,1.,1.,0.,0.,0.,1.,1.,0.,1.,0.,0.,0.,0.,1.,1.,0.,1.,0.,0.,1.,0.,1.,1.,0.,0.,1.,1.,0.]\n",
    "non_local_boxes.utils.wiring_to_functions(W)"
   ]
  },
  {
   "cell_type": "code",
   "execution_count": 34,
   "metadata": {},
   "outputs": [
    {
     "name": "stdout",
     "output_type": "stream",
     "text": [
      "f_1(x,a2) = x\n",
      "g_1(y,b2) = y\n",
      "f_2(x,a1) = x·a1\n",
      "g_2(y,b1) = y·b1\n",
      "f_3(x,a1,a2) = a1 ⊕ a2 ⊕ 1.0 \n",
      "g_3(y,b1,b2) = y ⊕ b1 ⊕ b2\n"
     ]
    }
   ],
   "source": [
    "W = [0.,0.,1.,1.,0.,0.,1.,1.,0.,0.,0.,1.,0.,0.,0.,1.,1.,0.,0.,1.,1.,0.,0.,1.,0.,1.,1.,0.,1.,0.,0.,1.]\n",
    "non_local_boxes.utils.wiring_to_functions(W)"
   ]
  },
  {
   "attachments": {},
   "cell_type": "markdown",
   "metadata": {},
   "source": [
    "# Definitions"
   ]
  },
  {
   "attachments": {},
   "cell_type": "markdown",
   "metadata": {},
   "source": [
    "## Gradient Descent"
   ]
  },
  {
   "cell_type": "code",
   "execution_count": 35,
   "metadata": {},
   "outputs": [],
   "source": [
    "M1 = torch.zeros(32, 32)\n",
    "for i in range(32):\n",
    "    M1[i,i]=1\n",
    "M1[0,0]=0.5\n",
    "M1[0,1]=0.5\n",
    "M1[1,0]=0.5\n",
    "M1[1,1]=0.5\n",
    "\n",
    "M2 = torch.zeros(32, 32)\n",
    "for i in range(32):\n",
    "    M2[i,i]=1\n",
    "M2[8,8]=0.5\n",
    "M2[8,9]=0.5\n",
    "M2[9,8]=0.5\n",
    "M2[9,9]=0.5\n",
    "\n",
    "M3 = torch.zeros(32, 32)\n",
    "for i in range(32):\n",
    "    M3[i,i]=1\n",
    "M3[2,2]=0.5\n",
    "M3[2,3]=0.5\n",
    "M3[3,2]=0.5\n",
    "M3[3,3]=0.5\n",
    "\n",
    "M4 = torch.zeros(32, 32)\n",
    "for i in range(32):\n",
    "    M4[i,i]=1\n",
    "M4[10,10]=0.5\n",
    "M4[10,11]=0.5\n",
    "M4[11,10]=0.5\n",
    "M4[11,11]=0.5\n",
    "\n",
    "M5 = torch.zeros(32, 32)\n",
    "for i in range(32):\n",
    "    M5[i,i]=1\n",
    "M5[4,4]=0.5\n",
    "M5[4,5]=0.5\n",
    "M5[5,4]=0.5\n",
    "M5[5,5]=0.5\n",
    "\n",
    "M6 = torch.zeros(32, 32)\n",
    "for i in range(32):\n",
    "    M6[i,i]=1\n",
    "M6[12,12]=0.5\n",
    "M6[12,13]=0.5\n",
    "M6[13,12]=0.5\n",
    "M6[13,13]=0.5\n",
    "\n",
    "M7 = torch.zeros(32, 32)\n",
    "for i in range(32):\n",
    "    M7[i,i]=1\n",
    "M7[6,6]=0.5\n",
    "M7[6,7]=0.5\n",
    "M7[7,6]=0.5\n",
    "M7[7,7]=0.5\n",
    "\n",
    "M8 = torch.zeros(32, 32)\n",
    "for i in range(32):\n",
    "    M8[i,i]=1\n",
    "M8[14,14]=0.5\n",
    "M8[14,15]=0.5\n",
    "M8[15,14]=0.5\n",
    "M8[15,15]=0.5"
   ]
  },
  {
   "cell_type": "code",
   "execution_count": 36,
   "metadata": {},
   "outputs": [],
   "source": [
    "def projected_wiring(W):  # W is a 32xn tensor\n",
    "    W = torch.maximum(W, torch.zeros_like(W))  # it outputs the element-wise maximum\n",
    "    W = torch.minimum(W, torch.ones_like(W))   # similarly for minimum\n",
    "\n",
    "    T1 = (torch.abs(W[0,:]-W[1,:]) <= torch.abs(W[8, :] - W[9, :]))\n",
    "    W = T1*torch.tensordot(M1, W, dims=1) + torch.logical_not(T1)*torch.tensordot(M2, W, dims=1)\n",
    "    \n",
    "    T2 = (torch.abs(W[2,:]-W[3,:]) <= torch.abs(W[10, :] - W[11, :]))\n",
    "    W = T2*torch.tensordot(M3, W, dims=1) + torch.logical_not(T2)*torch.tensordot(M4, W, dims=1)\n",
    "\n",
    "    T3 = (torch.abs(W[4,:]-W[5,:]) <= torch.abs(W[12, :] - W[13, :]))\n",
    "    W = T3*torch.tensordot(M5, W, dims=1) + torch.logical_not(T3)*torch.tensordot(M6, W, dims=1)\n",
    "\n",
    "    T4 = (torch.abs(W[6,:]-W[7,:]) <= torch.abs(W[14, :] - W[15, :]))\n",
    "    W = T4*torch.tensordot(M7, W, dims=1) + torch.logical_not(T4)*torch.tensordot(M8, W, dims=1)\n",
    "\n",
    "    return W"
   ]
  },
  {
   "cell_type": "code",
   "execution_count": 37,
   "metadata": {},
   "outputs": [],
   "source": [
    "def gradient_descent(starting_W, P, Q, learning_rate = 2, nb_iterations = 20):\n",
    "    external_grad = torch.ones(non_local_boxes.evaluate.nb_columns)\n",
    "    W = starting_W\n",
    "    for i in range(nb_iterations):\n",
    "        non_local_boxes.evaluate.phi_flat(W, P, Q).backward(gradient=external_grad)\n",
    "        W = projected_wiring(W + learning_rate*W.grad).detach()  # create a brand new tensor, forgeting the previous gradient\n",
    "        W.requires_grad=True\n",
    "    return W"
   ]
  },
  {
   "attachments": {},
   "cell_type": "markdown",
   "metadata": {},
   "source": [
    "## Test in some triangle"
   ]
  },
  {
   "cell_type": "code",
   "execution_count": 38,
   "metadata": {},
   "outputs": [],
   "source": [
    "def new_color(value, threshold, k, max_box_power_GD):\n",
    "    if value > threshold:\n",
    "        return (0, 0.1*(1-k/max_box_power_GD)+1*(k/max_box_power_GD), 0.1*(1-k/max_box_power_GD)+1*(k/max_box_power_GD))\n",
    "    return \"orangered\""
   ]
  },
  {
   "cell_type": "code",
   "execution_count": 39,
   "metadata": {},
   "outputs": [],
   "source": [
    "def next_Q(Q, P, W0, color_point, k, max_box_power_GD, learning_rate, nb_iterations, threshold): # Q is a 2x2x2x2 tensor\n",
    "    if color_point == \"orangered\":\n",
    "        W = gradient_descent(W0, non_local_boxes.utils.tensor_to_matrix(Q), P, learning_rate, nb_iterations)\n",
    "        list = non_local_boxes.evaluate.phi_flat(W, non_local_boxes.utils.tensor_to_matrix(Q), P).detach().numpy()\n",
    "        index, value = max(enumerate(list), key=lambda x: x[1])  # find the best value in list\n",
    "        best_wiring = W[:,index].detach()\n",
    "        best_wiring = torch.t(best_wiring.repeat(non_local_boxes.evaluate.nb_columns, 1))\n",
    "        new_Q = non_local_boxes.evaluate.R(best_wiring, non_local_boxes.utils.tensor_to_matrix(Q), P)[:,:,:,:,0]\n",
    "        color_point = new_color(value, threshold, k, max_box_power_GD)\n",
    "        #print(value)\n",
    "        best_wiring.requires_grad = True\n",
    "    else:\n",
    "        new_Q = Q\n",
    "        best_wiring = W0\n",
    "    return new_Q, best_wiring, color_point"
   ]
  },
  {
   "cell_type": "code",
   "execution_count": 40,
   "metadata": {},
   "outputs": [],
   "source": [
    "def test_box_power(Q, P, W0, n, color_point, k, max_box_power_GD, max_box_power, learning_rate, nb_iterations, threshold): # Q is a 2x2x2x2 tensor\n",
    "    for l in range(max_box_power):\n",
    "        if color_point != \"orangered\":\n",
    "            break\n",
    "        Q=non_local_boxes.evaluate.R(W0, non_local_boxes.utils.tensor_to_matrix(Q), P)[:,:,:,:,0]\n",
    "        value = float(non_local_boxes.evaluate.h_flat(Q))\n",
    "        color_point = new_color(value, threshold, k, max_box_power_GD)\n",
    "\n",
    "    return color_point"
   ]
  },
  {
   "cell_type": "code",
   "execution_count": 41,
   "metadata": {},
   "outputs": [],
   "source": [
    "def draw_triangle(Box1, Box1_name, Box2, Box2_name, Box3, Box3_name, box_grid_size, max_box_power_GD, max_box_power, learning_rate, nb_iterations, threshold): # Box is a 4x4 tensor\n",
    "    X = torch.tensor([[1,3], [4,1], [4, 5]]).numpy()\n",
    "    triangle = plt.Polygon(X[:3,:], color=\"snow\")\n",
    "    plt.gca().add_patch(triangle)\n",
    "\n",
    "    n = non_local_boxes.evaluate.nb_columns\n",
    "\n",
    "    for i in range(box_grid_size+1):\n",
    "        for j in range(box_grid_size-i+1):\n",
    "            alpha, beta = i/box_grid_size, j/box_grid_size\n",
    "            P = alpha*Box1 + beta*Box2 + (1-alpha-beta)*Box3   # P is a 4x4 matrix\n",
    "            color_point = \"orangered\"\n",
    "\n",
    "            Q=non_local_boxes.utils.matrix_to_tensor(torch.clone(P))  # Q is a 2x2x2x2 tensor \n",
    "            value = float(non_local_boxes.evaluate.h_flat(Q))\n",
    "            color_point = new_color(value, threshold, 0, max_box_power_GD)\n",
    "            best_wiring = non_local_boxes.utils.random_wiring(n)\n",
    "\n",
    "            for k in range(max_box_power_GD-1):\n",
    "                Q, best_wiring, color_point = next_Q(Q, P, best_wiring, color_point, k+1, max_box_power_GD, learning_rate, nb_iterations, threshold)\n",
    "                color_point = test_box_power(Q, P, best_wiring, n, color_point, k+1, max_box_power_GD, max_box_power, learning_rate, nb_iterations, threshold)\n",
    "\n",
    "            plt.plot(X[0,0]*alpha + X[1,0]*beta + X[2,0]*(1-alpha-beta), X[0,1]*alpha + X[1,1]*beta + X[2,1]*(1-alpha-beta), 'o', markersize=3, color=color_point)\n",
    "                    \n",
    "    plt.text(X[0,0], X[0,1]+0.1, Box1_name, horizontalalignment='center')\n",
    "    plt.text(X[1,0]+0.1, X[1,1], Box2_name, verticalalignment='center')\n",
    "    plt.text(X[2,0]+0.1, X[2,1], Box3_name, verticalalignment='center')\n",
    "    plt.show()"
   ]
  },
  {
   "cell_type": "code",
   "execution_count": 42,
   "metadata": {},
   "outputs": [
    {
     "data": {
      "text/plain": [
       "'draw_triangle(\\n    Box1=non_local_boxes.utils.PR,\\n    Box1_name = \"PR\",\\n    Box2=non_local_boxes.utils.P_0,\\n    Box2_name = \"P0\",\\n    Box3 = non_local_boxes.utils.P_1,\\n    Box3_name = \"P1\",\\n    box_grid_size = 40,\\n    max_box_power_GD = 2,\\n    max_box_power = 50,\\n    learning_rate = 2,\\n    nb_iterations = 40,\\n    threshold = (3 + float(torch.sqrt(torch.tensor(6))))/6\\n)'"
      ]
     },
     "execution_count": 42,
     "metadata": {},
     "output_type": "execute_result"
    }
   ],
   "source": [
    "\"\"\"draw_triangle(\n",
    "    Box1=non_local_boxes.utils.PR,\n",
    "    Box1_name = \"PR\",\n",
    "    Box2=non_local_boxes.utils.P_0,\n",
    "    Box2_name = \"P0\",\n",
    "    Box3 = non_local_boxes.utils.P_1,\n",
    "    Box3_name = \"P1\",\n",
    "    box_grid_size = 40,\n",
    "    max_box_power_GD = 2,\n",
    "    max_box_power = 50,\n",
    "    learning_rate = 2,\n",
    "    nb_iterations = 40,\n",
    "    threshold = (3 + float(torch.sqrt(torch.tensor(6))))/6\n",
    ")\"\"\""
   ]
  },
  {
   "attachments": {},
   "cell_type": "markdown",
   "metadata": {},
   "source": [
    "## Naive test in some triangle"
   ]
  },
  {
   "cell_type": "code",
   "execution_count": 43,
   "metadata": {},
   "outputs": [],
   "source": [
    "def draw_triangle_naive(Box1, Box1_name, Box2, Box2_name, Box3, Box3_name, box_grid_size, max_box_power, threshold): # P is a 4x4 tensor\n",
    "    X = torch.tensor([[1,3], [4,1], [4, 5]]).numpy()\n",
    "    triangle = plt.Polygon(X[:3,:], color=\"snow\")\n",
    "    plt.gca().add_patch(triangle)\n",
    "\n",
    "    n = non_local_boxes.evaluate.nb_columns\n",
    "    W_random = non_local_boxes.utils.random_wiring(n)\n",
    "\n",
    "    for i in range(box_grid_size+1):\n",
    "        for j in range(box_grid_size-i+1):\n",
    "            alpha, beta = i/box_grid_size, j/box_grid_size\n",
    "            P = alpha*Box1 + beta*Box2 + (1-alpha-beta)*Box3   # P is a 4x4 matrix\n",
    "            color_point = \"orangered\"\n",
    "\n",
    "            Q=non_local_boxes.utils.matrix_to_tensor(torch.clone(P))  # Q is a 2x2x2x2 tensor \n",
    "            value = float(non_local_boxes.evaluate.h_flat(Q))\n",
    "\n",
    "            if value > threshold:\n",
    "                color_point = (0, 0.1, 0.1)\n",
    "                #print(value)\n",
    "            else:\n",
    "                # Given a box P, we look for the W maximizing P x_W P\n",
    "                W = gradient_descent(W_random, P, P, learning_rate=2, nb_iterations=20)\n",
    "                list = non_local_boxes.evaluate.phi_flat(W, P, P).detach().numpy()\n",
    "                index, value = max(enumerate(list), key=lambda x: x[1])\n",
    "                best_wiring = W[:,index].detach()\n",
    "                best_wiring = torch.t(best_wiring.repeat(non_local_boxes.evaluate.nb_columns, 1))\n",
    "                #print(value)\n",
    "                \n",
    "                for k in range(max_box_power+1):\n",
    "                    if non_local_boxes.evaluate.h_flat(Q)[0] > threshold:\n",
    "                        color_point = (0, 0.1*(1-k/max_box_power)+1*(k/max_box_power), 0.1*(1-k/max_box_power)+1*(k/max_box_power))\n",
    "                        break\n",
    "                    Q=non_local_boxes.evaluate.R(best_wiring, non_local_boxes.utils.tensor_to_matrix(Q), P)[:,:,:,:,0]\n",
    "\n",
    "            plt.plot(X[0,0]*alpha + X[1,0]*beta + X[2,0]*(1-alpha-beta), X[0,1]*alpha + X[1,1]*beta + X[2,1]*(1-alpha-beta), 'o', markersize=3, color=color_point)\n",
    "                    \n",
    "    plt.text(X[0,0], X[0,1]+0.1, Box1_name, horizontalalignment='center')\n",
    "    plt.text(X[1,0]+0.1, X[1,1], Box2_name, verticalalignment='center')\n",
    "    plt.text(X[2,0]+0.1, X[2,1], Box3_name, verticalalignment='center')\n",
    "    plt.show()"
   ]
  },
  {
   "cell_type": "code",
   "execution_count": 44,
   "metadata": {},
   "outputs": [
    {
     "data": {
      "text/plain": [
       "'draw_triangle_naive(\\n    Box1=non_local_boxes.utils.PR,\\n    Box1_name = \"PR\",\\n    Box2=non_local_boxes.utils.P_0,\\n    Box2_name = \"P0\",\\n    Box3 = non_local_boxes.utils.P_1,\\n    Box3_name = \"P1\",\\n    box_grid_size = 40,\\n    max_box_power = 50,\\n    threshold = (3 + float(torch.sqrt(torch.tensor(6))))/6\\n)'"
      ]
     },
     "execution_count": 44,
     "metadata": {},
     "output_type": "execute_result"
    }
   ],
   "source": [
    "\"\"\"draw_triangle_naive(\n",
    "    Box1=non_local_boxes.utils.PR,\n",
    "    Box1_name = \"PR\",\n",
    "    Box2=non_local_boxes.utils.P_0,\n",
    "    Box2_name = \"P0\",\n",
    "    Box3 = non_local_boxes.utils.P_1,\n",
    "    Box3_name = \"P1\",\n",
    "    box_grid_size = 40,\n",
    "    max_box_power = 50,\n",
    "    threshold = (3 + float(torch.sqrt(torch.tensor(6))))/6\n",
    ")\"\"\""
   ]
  },
  {
   "attachments": {},
   "cell_type": "markdown",
   "metadata": {},
   "source": [
    "## With blue cones: it's dangerous because the triangle is not stable under all wirings"
   ]
  },
  {
   "attachments": {},
   "cell_type": "markdown",
   "metadata": {},
   "source": [
    "We check if the starting box $P$ is a in the blue cone of another box, but we don't check the powers of $P$ because they could be outside of the triangle."
   ]
  },
  {
   "cell_type": "code",
   "execution_count": 45,
   "metadata": {},
   "outputs": [],
   "source": [
    "def is_in_a_blue_cone(xP, yP, blue_points, X): # It tests if Box located at (x, y) is in the cone of a blue box\n",
    "    # list is a list of coordinates (x0, y0) such that h(P)<0.91 but P is blue\n",
    "    for point in blue_points:\n",
    "        x0, y0 = point\n",
    "        f = lambda x : X[1,1]*(x-x0)/(X[1,0]-x0) + y0*(x-X[1,0])/(x0-X[1,0])  # Lagrange interpolation\n",
    "        g = lambda x : X[2,1]*(x-x0)/(X[2,0]-x0) + y0*(x-X[2,0])/(x0-X[2,0])  # Lagrange interpolation\n",
    "        if yP <= f(xP) and yP >= g(xP):\n",
    "            return True\n",
    "    return False"
   ]
  },
  {
   "cell_type": "code",
   "execution_count": 46,
   "metadata": {},
   "outputs": [],
   "source": [
    "def new_color_with_blue_cones(value, threshold, blue_points, X, k, xP, yP, max_box_power_GD):\n",
    "    if value > threshold:\n",
    "        blue_points.append((xP,yP))\n",
    "        return blue_points, (0, 0.1*(1-k/max_box_power_GD)+1*(k/max_box_power_GD), 0.1*(1-k/max_box_power_GD)+1*(k/max_box_power_GD))\n",
    "    return blue_points, \"orangered\""
   ]
  },
  {
   "cell_type": "code",
   "execution_count": 47,
   "metadata": {},
   "outputs": [],
   "source": [
    "def next_Q_with_blue_cones(Q, P, W0, color_point, k, max_box_power_GD, learning_rate, nb_iterations, threshold, blue_points, X, xP, yP): # Q is a 2x2x2x2 tensor\n",
    "    if color_point == \"orangered\":\n",
    "        W = gradient_descent(W0, non_local_boxes.utils.tensor_to_matrix(Q), P, learning_rate, nb_iterations)\n",
    "        list = non_local_boxes.evaluate.phi_flat(W, non_local_boxes.utils.tensor_to_matrix(Q), P).detach().numpy()\n",
    "        index, value = max(enumerate(list), key=lambda x: x[1])  # find the best value in list\n",
    "        best_wiring = W[:,index].detach()\n",
    "        best_wiring = torch.t(best_wiring.repeat(non_local_boxes.evaluate.nb_columns, 1))\n",
    "        new_Q = non_local_boxes.evaluate.R(best_wiring, non_local_boxes.utils.tensor_to_matrix(Q), P)[:,:,:,:,0]\n",
    "        blue_points, color_point = new_color_with_blue_cones(value, threshold, blue_points, X, k, xP, yP, max_box_power_GD)\n",
    "        #print(value)\n",
    "        best_wiring.requires_grad = True\n",
    "    else:\n",
    "        new_Q = Q\n",
    "        best_wiring = W0\n",
    "    return new_Q, best_wiring, blue_points, color_point"
   ]
  },
  {
   "cell_type": "code",
   "execution_count": 48,
   "metadata": {},
   "outputs": [],
   "source": [
    "def test_box_power_with_blue_cones(Q, P, W0, n, color_point, k, max_box_power_GD, max_box_power, learning_rate, nb_iterations, threshold, blue_points, X, xP, yP): # Q is a 2x2x2x2 tensor\n",
    "    Q = torch.clone(Q)\n",
    "    for l in range(max_box_power):\n",
    "        if color_point != \"orangered\":\n",
    "            break\n",
    "        Q=non_local_boxes.evaluate.R(W0, non_local_boxes.utils.tensor_to_matrix(Q), P)[:,:,:,:,0]\n",
    "        value = float(non_local_boxes.evaluate.h_flat(Q))\n",
    "        blue_points, color_point = new_color_with_blue_cones(value, threshold, blue_points, X, k, xP, yP, max_box_power_GD)\n",
    "\n",
    "    return blue_points, color_point"
   ]
  },
  {
   "cell_type": "code",
   "execution_count": 49,
   "metadata": {},
   "outputs": [],
   "source": [
    "def draw_triangle_with_blue_cones(Box1, Box1_name, Box2, Box2_name, Box3, Box3_name, box_grid_size, max_box_power_GD, max_box_power, learning_rate, nb_iterations, threshold): # P is a 4x4 tensor\n",
    "    X = torch.tensor([[1,3], [4,1], [4, 5]]).numpy()\n",
    "    triangle = plt.Polygon(X[:3,:], color=\"snow\")\n",
    "    plt.gca().add_patch(triangle)\n",
    "\n",
    "    n = non_local_boxes.evaluate.nb_columns\n",
    "    blue_points = []\n",
    "\n",
    "    for i in range(box_grid_size+1):\n",
    "        for j in range(box_grid_size-i+1):\n",
    "            alpha, beta = i/box_grid_size, j/box_grid_size\n",
    "            xP, yP = X[0,0]*alpha + X[1,0]*beta + X[2,0]*(1-alpha-beta), X[0,1]*alpha + X[1,1]*beta + X[2,1]*(1-alpha-beta)\n",
    "            P = alpha*Box1 + beta*Box2 + (1-alpha-beta)*Box3   # P is a 4x4 matrix\n",
    "            color_point = \"orangered\"\n",
    "\n",
    "            if is_in_a_blue_cone(xP, yP, blue_points, X):\n",
    "                color_point = (0, 0.1, 0.1)\n",
    "            else:\n",
    "                Q=non_local_boxes.utils.matrix_to_tensor(torch.clone(P))  # Q is a 2x2x2x2 tensor \n",
    "                value = float(non_local_boxes.evaluate.h_flat(Q))\n",
    "                blue_points, color_point = new_color_with_blue_cones(value, threshold, blue_points, X, 0, xP, yP, max_box_power_GD)\n",
    "                best_wiring = non_local_boxes.utils.random_wiring(n)\n",
    "\n",
    "                for k in range(max_box_power_GD-1):\n",
    "                    Q, best_wiring, blue_points, color_point = next_Q_with_blue_cones(Q, P, best_wiring, color_point, k+1, max_box_power_GD, learning_rate, nb_iterations, threshold, blue_points, X, xP, yP)\n",
    "                    blue_points, color_point = test_box_power_with_blue_cones(Q, P, best_wiring, n, color_point, k+1, max_box_power_GD, max_box_power, learning_rate, nb_iterations, threshold, blue_points, X, xP, yP)\n",
    "\n",
    "            plt.plot(xP, yP, 'o', markersize=3, color=color_point)\n",
    "                    \n",
    "    plt.text(X[0,0], X[0,1]+0.1, Box1_name, horizontalalignment='center')\n",
    "    plt.text(X[1,0]+0.1, X[1,1], Box2_name, verticalalignment='center')\n",
    "    plt.text(X[2,0]+0.1, X[2,1], Box3_name, verticalalignment='center')\n",
    "    plt.show()"
   ]
  },
  {
   "cell_type": "code",
   "execution_count": 50,
   "metadata": {},
   "outputs": [
    {
     "data": {
      "text/plain": [
       "'draw_triangle_with_blue_cones(\\n    Box1=non_local_boxes.utils.PR,\\n    Box1_name = \"PR\",\\n    Box2=non_local_boxes.utils.P_0,\\n    Box2_name = \"P0\",\\n    Box3 = non_local_boxes.utils.P_1,\\n    Box3_name = \"P1\",\\n    box_grid_size = 40,\\n    max_box_power_GD = 3,\\n    max_box_power = 10,\\n    learning_rate = 2,\\n    nb_iterations = 20,\\n    threshold = (3 + float(torch.sqrt(torch.tensor(6))))/6\\n)'"
      ]
     },
     "execution_count": 50,
     "metadata": {},
     "output_type": "execute_result"
    }
   ],
   "source": [
    "\"\"\"draw_triangle_with_blue_cones(\n",
    "    Box1=non_local_boxes.utils.PR,\n",
    "    Box1_name = \"PR\",\n",
    "    Box2=non_local_boxes.utils.P_0,\n",
    "    Box2_name = \"P0\",\n",
    "    Box3 = non_local_boxes.utils.P_1,\n",
    "    Box3_name = \"P1\",\n",
    "    box_grid_size = 40,\n",
    "    max_box_power_GD = 3,\n",
    "    max_box_power = 10,\n",
    "    learning_rate = 2,\n",
    "    nb_iterations = 20,\n",
    "    threshold = (3 + float(torch.sqrt(torch.tensor(6))))/6\n",
    ")\"\"\""
   ]
  },
  {
   "attachments": {},
   "cell_type": "markdown",
   "metadata": {},
   "source": [
    "## With the rerun option"
   ]
  },
  {
   "attachments": {},
   "cell_type": "markdown",
   "metadata": {},
   "source": [
    "We run again the gradient descent, but we keep the list `blue_points`."
   ]
  },
  {
   "cell_type": "code",
   "execution_count": 51,
   "metadata": {},
   "outputs": [],
   "source": [
    "def draw_triangle_with_rerun(Box1, Box1_name, Box2, Box2_name, Box3, Box3_name, box_grid_size, max_box_power_GD, max_box_power, learning_rate, nb_iterations, threshold, rerun_count): # P is a 4x4 tensor\n",
    "    X = torch.tensor([[1,3], [4,1], [4, 5]]).numpy()\n",
    "    triangle = plt.Polygon(X[:3,:], color=\"snow\")\n",
    "    plt.gca().add_patch(triangle)\n",
    "\n",
    "    n = non_local_boxes.evaluate.nb_columns\n",
    "    blue_points = []\n",
    "    \n",
    "    for run in range(rerun_count):\n",
    "        clear_output()\n",
    "        print(\" ----- Run number \", run)\n",
    "        for i in range(box_grid_size+1):\n",
    "            for j in range(box_grid_size-i+1):\n",
    "                alpha, beta = i/box_grid_size, j/box_grid_size\n",
    "                xP, yP = X[0,0]*alpha + X[1,0]*beta + X[2,0]*(1-alpha-beta), X[0,1]*alpha + X[1,1]*beta + X[2,1]*(1-alpha-beta)\n",
    "                P = alpha*Box1 + beta*Box2 + (1-alpha-beta)*Box3   # P is a 4x4 matrix\n",
    "                color_point = \"orangered\"\n",
    "\n",
    "                if is_in_a_blue_cone(xP, yP, blue_points, X):\n",
    "                    color_point = (0, 0.1, 0.1)\n",
    "                else:\n",
    "                    Q=non_local_boxes.utils.matrix_to_tensor(torch.clone(P))  # Q is a 2x2x2x2 tensor \n",
    "                    value = float(non_local_boxes.evaluate.h_flat(Q))\n",
    "                    blue_points, color_point = new_color_with_blue_cones(value, threshold, blue_points, X, 0, xP, yP, max_box_power_GD)\n",
    "                    best_wiring = non_local_boxes.utils.random_wiring(n)\n",
    "\n",
    "                    for k in range(max_box_power_GD-1):\n",
    "                        Q, best_wiring, blue_points, color_point = next_Q_with_blue_cones(Q, P, best_wiring, color_point, k+1, max_box_power_GD, learning_rate, nb_iterations, threshold, blue_points, X, xP, yP)\n",
    "                        blue_points, color_point = test_box_power_with_blue_cones(Q, P, best_wiring, n, color_point, k+1, max_box_power_GD, max_box_power, learning_rate, nb_iterations, threshold, blue_points, X, xP, yP)\n",
    "\n",
    "                plt.plot(xP, yP, 'o', markersize=3, color=color_point)\n",
    "                    \n",
    "    plt.text(X[0,0], X[0,1]+0.1, Box1_name, horizontalalignment='center')\n",
    "    plt.text(X[1,0]+0.1, X[1,1], Box2_name, verticalalignment='center')\n",
    "    plt.text(X[2,0]+0.1, X[2,1], Box3_name, verticalalignment='center')\n",
    "    plt.show()"
   ]
  },
  {
   "cell_type": "code",
   "execution_count": 52,
   "metadata": {},
   "outputs": [
    {
     "data": {
      "text/plain": [
       "'draw_triangle_with_rerun(\\n    Box1=non_local_boxes.utils.PR,\\n    Box1_name = \"PR\",\\n    Box2=non_local_boxes.utils.P_0,\\n    Box2_name = \"P0\",\\n    Box3 = non_local_boxes.utils.P_1,\\n    Box3_name = \"P1\",\\n    box_grid_size = 40,\\n    max_box_power_GD = 3,\\n    max_box_power = 35,\\n    learning_rate = 2,\\n    nb_iterations = 20,\\n    threshold = (3 + float(torch.sqrt(torch.tensor(6))))/6,\\n    rerun_count = 3\\n)'"
      ]
     },
     "execution_count": 52,
     "metadata": {},
     "output_type": "execute_result"
    }
   ],
   "source": [
    "\"\"\"draw_triangle_with_rerun(\n",
    "    Box1=non_local_boxes.utils.PR,\n",
    "    Box1_name = \"PR\",\n",
    "    Box2=non_local_boxes.utils.P_0,\n",
    "    Box2_name = \"P0\",\n",
    "    Box3 = non_local_boxes.utils.P_1,\n",
    "    Box3_name = \"P1\",\n",
    "    box_grid_size = 40,\n",
    "    max_box_power_GD = 3,\n",
    "    max_box_power = 35,\n",
    "    learning_rate = 2,\n",
    "    nb_iterations = 20,\n",
    "    threshold = (3 + float(torch.sqrt(torch.tensor(6))))/6,\n",
    "    rerun_count = 3\n",
    ")\"\"\""
   ]
  },
  {
   "attachments": {},
   "cell_type": "markdown",
   "metadata": {},
   "source": [
    "## Draw segment"
   ]
  },
  {
   "cell_type": "code",
   "execution_count": 53,
   "metadata": {},
   "outputs": [],
   "source": [
    "def is_in_a_blue_cone_1D(value, blue_points): # It tests if Box located at (x, y) is in the cone of a blue box\n",
    "    # list is a list of coordinates (x0, y0) such that h(P)<0.91 but P is blue\n",
    "    for point_value in blue_points:\n",
    "        if value>=point_value:\n",
    "            return True\n",
    "    return False"
   ]
  },
  {
   "cell_type": "code",
   "execution_count": 54,
   "metadata": {},
   "outputs": [],
   "source": [
    "def new_color_1D(value, valueP, threshold, blue_points, k, max_box_power_GD, W):\n",
    "    if value > threshold:\n",
    "        blue_points.append(valueP)\n",
    "        print(W)\n",
    "        return blue_points, (0, 0.1*(1-k/max_box_power_GD)+1*(k/max_box_power_GD), 0.1*(1-k/max_box_power_GD)+1*(k/max_box_power_GD))\n",
    "    return blue_points, \"orangered\""
   ]
  },
  {
   "cell_type": "code",
   "execution_count": 55,
   "metadata": {},
   "outputs": [],
   "source": [
    "def next_Q_1D(Q, P, W0, color_point, k, max_box_power_GD, learning_rate, nb_iterations, threshold, blue_points, valueP): # Q is a 2x2x2x2 tensor\n",
    "    if color_point == \"orangered\":\n",
    "        W = gradient_descent(W0, non_local_boxes.utils.tensor_to_matrix(Q), P, learning_rate, nb_iterations)\n",
    "        list = non_local_boxes.evaluate.phi_flat(W, non_local_boxes.utils.tensor_to_matrix(Q), P).detach().numpy()\n",
    "        index, value = max(enumerate(list), key=lambda x: x[1])  # find the best value in list\n",
    "        best_wiring = W[:,index].detach()\n",
    "        best_wiring = torch.t(best_wiring.repeat(non_local_boxes.evaluate.nb_columns, 1))\n",
    "        new_Q = non_local_boxes.evaluate.R(best_wiring, non_local_boxes.utils.tensor_to_matrix(Q), P)[:,:,:,:,0]\n",
    "        blue_points, color_point = new_color_1D(value, valueP, threshold, blue_points, k, max_box_power_GD, best_wiring[:,0])\n",
    "        #print(value)\n",
    "        best_wiring.requires_grad = True\n",
    "    else:\n",
    "        new_Q = Q\n",
    "        best_wiring = W0\n",
    "    return new_Q, best_wiring, blue_points, color_point"
   ]
  },
  {
   "cell_type": "code",
   "execution_count": 56,
   "metadata": {},
   "outputs": [],
   "source": [
    "def test_box_power_1D(Q, P, W0, n, color_point, k, max_box_power_GD, max_box_power, learning_rate, nb_iterations, threshold, blue_points, valueP): # Q is a 2x2x2x2 tensor\n",
    "    Q = torch.clone(Q)\n",
    "    for l in range(max_box_power):\n",
    "        if color_point != \"orangered\":\n",
    "            break\n",
    "        Q=non_local_boxes.evaluate.R(W0, non_local_boxes.utils.tensor_to_matrix(Q), P)[:,:,:,:,0]\n",
    "        value = float(non_local_boxes.evaluate.h_flat(Q))\n",
    "        blue_points, color_point = new_color_1D(value, valueP, threshold, blue_points, k, max_box_power_GD, W0[:,0])\n",
    "\n",
    "    return blue_points, color_point"
   ]
  },
  {
   "cell_type": "code",
   "execution_count": 57,
   "metadata": {},
   "outputs": [],
   "source": [
    "def draw_segment_with_rerun(Box1, Box1_name, Box2, Box2_name, box_grid_size, max_box_power_GD, max_box_power, learning_rate, nb_iterations, threshold, rerun_count): # P is a 4x4 tensor\n",
    "    X = torch.tensor([[1,3], [4,1], [4, 5]]).numpy()\n",
    "    triangle = plt.Polygon(X[:3,:], color=\"snow\")\n",
    "    plt.gca().add_patch(triangle)\n",
    "\n",
    "    n = non_local_boxes.evaluate.nb_columns\n",
    "    blue_points = []\n",
    "    \n",
    "    for run in range(rerun_count):\n",
    "        #clear_output()\n",
    "        print(\" ----- Run number \", run)\n",
    "        for i in range(box_grid_size+1):\n",
    "            alpha = i/box_grid_size\n",
    "            xP, yP = X[0,0]*alpha + X[1,0]*(1-alpha), X[0,1]*alpha + X[1,1]*(1-alpha)\n",
    "            P = alpha*Box1 + (1-alpha)*Box2   # P is a 4x4 matrix\n",
    "            color_point = \"orangered\"\n",
    "\n",
    "            Q=non_local_boxes.utils.matrix_to_tensor(torch.clone(P))  # Q is a 2x2x2x2 tensor \n",
    "            valueP = float(non_local_boxes.evaluate.h_flat(Q))\n",
    "            value = valueP\n",
    "            #print(value)\n",
    "            blue_points, color_point = new_color_1D(value, valueP, threshold, blue_points, 0, max_box_power_GD, \"No wiring\")\n",
    "            best_wiring = non_local_boxes.utils.random_wiring(n)\n",
    "\n",
    "            if is_in_a_blue_cone_1D(value, blue_points):\n",
    "                color_point = (0, 0.1, 0.1)\n",
    "            else:\n",
    "                for k in range(max_box_power_GD-1):\n",
    "                    Q, best_wiring, blue_points, color_point = next_Q_1D(Q, P, best_wiring, color_point, k+1, max_box_power_GD, learning_rate, nb_iterations, threshold, blue_points, valueP)\n",
    "                    blue_points, color_point = test_box_power_1D(Q, P, best_wiring, n, color_point, k+1, max_box_power_GD, max_box_power, learning_rate, nb_iterations, threshold, blue_points, valueP)\n",
    "\n",
    "            plt.plot(xP, yP, 'o', markersize=3, color=color_point)\n",
    "                    \n",
    "    plt.text(X[0,0], X[0,1]+0.1, Box1_name, horizontalalignment='center')\n",
    "    plt.text(X[1,0]+0.1, X[1,1], Box2_name, verticalalignment='center')\n",
    "    plt.show()"
   ]
  },
  {
   "attachments": {},
   "cell_type": "markdown",
   "metadata": {},
   "source": [
    "## Test a wiring in a segment and in a triangle"
   ]
  },
  {
   "cell_type": "code",
   "execution_count": 58,
   "metadata": {},
   "outputs": [],
   "source": [
    "def test_wiring_segment(W, Box1, Box1_name, Box2, Box2_name, box_grid_size, max_box_power, threshold):\n",
    "    # W is a vector of size 32\n",
    "    n = non_local_boxes.evaluate.nb_columns\n",
    "    W = torch.t(W.repeat(n, 1))\n",
    "    # Now W is a 32xn tensor\n",
    "\n",
    "    X = torch.tensor([[1,3], [4,1], [4, 5]]).numpy()\n",
    "    triangle = plt.Polygon(X[:3,:], color=\"snow\")\n",
    "    plt.gca().add_patch(triangle)\n",
    "    \n",
    "    for i in range(box_grid_size+1):\n",
    "        alpha = i/box_grid_size\n",
    "        P = alpha*Box1 + (1-alpha)*Box2   # P is a 4x4 matrix\n",
    "        color_point = \"orangered\"\n",
    "\n",
    "        Q=non_local_boxes.utils.matrix_to_tensor(torch.clone(P))  # Q is a 2x2x2x2 tensor \n",
    "        value = float(non_local_boxes.evaluate.h_flat(Q))\n",
    "        #print(value)\n",
    "        if value > threshold:\n",
    "                color_point = (0, 0.1, 0.1)\n",
    "        else:\n",
    "            if value != 0.75:\n",
    "                for l in range(max_box_power):\n",
    "                    if color_point != \"orangered\":\n",
    "                        break\n",
    "                    Q=non_local_boxes.evaluate.R(W, non_local_boxes.utils.tensor_to_matrix(Q), P)[:,:,:,:,0]\n",
    "                    value = float(non_local_boxes.evaluate.h_flat(Q))\n",
    "                    if value > threshold:\n",
    "                        color_point = (0, 0.1*(1-l/max_box_power)+1*(l/max_box_power), 0.1*(1-l/max_box_power)+1*(l/max_box_power))\n",
    "\n",
    "        plt.plot(X[0,0]*alpha + X[1,0]*(1-alpha), X[0,1]*alpha + X[1,1]*(1-alpha), 'o', markersize=3, color=color_point)\n",
    "                    \n",
    "    plt.text(X[0,0], X[0,1]+0.1, Box1_name, horizontalalignment='center')\n",
    "    plt.text(X[1,0]+0.1, X[1,1], Box2_name, verticalalignment='center')\n",
    "    plt.show()\n"
   ]
  },
  {
   "cell_type": "code",
   "execution_count": 59,
   "metadata": {},
   "outputs": [],
   "source": [
    "def proportion_blue_points_in_a_segment(W, Box1, Box3, box_grid_size, max_box_power, threshold):\n",
    "    \n",
    "    number_blue_points = 0\n",
    "\n",
    "    for i in range(box_grid_size+1):\n",
    "        alpha = i/box_grid_size\n",
    "        P = alpha*Box1 + (1-alpha)*Box3   # P is a 4x4 matrix\n",
    "        color_point = \"orangered\"\n",
    "\n",
    "        Q=non_local_boxes.utils.matrix_to_tensor(torch.clone(P))  # Q is a 2x2x2x2 tensor \n",
    "        value = float(non_local_boxes.evaluate.h_flat(Q))\n",
    "        #print(value)\n",
    "        if value > threshold:\n",
    "            color_point = (0, 0.1, 0.1)\n",
    "            number_blue_points += 1\n",
    "        else:\n",
    "            if value != 0.75:\n",
    "                for l in range(max_box_power):\n",
    "                    if color_point != \"orangered\":\n",
    "                        break\n",
    "                    Q=non_local_boxes.evaluate.R(W, non_local_boxes.utils.tensor_to_matrix(Q), P)[:,:,:,:,0]\n",
    "                    value = float(non_local_boxes.evaluate.h_flat(Q))\n",
    "                    if value > threshold:\n",
    "                        color_point = (0, 0.1*(1-l/max_box_power)+1*(l/max_box_power), 0.1*(1-l/max_box_power)+1*(l/max_box_power))\n",
    "                        number_blue_points += 1\n",
    "\n",
    "    return number_blue_points/box_grid_size"
   ]
  },
  {
   "cell_type": "code",
   "execution_count": 60,
   "metadata": {},
   "outputs": [],
   "source": [
    "def test_wiring_triangle(W, Box1, Box1_name, Box2, Box2_name, Box3, Box3_name, box_grid_size, max_box_power, threshold, Details_Are_Printed):\n",
    "    # W is a vector of size 32\n",
    "    n = non_local_boxes.evaluate.nb_columns\n",
    "    W = torch.t(W.repeat(n, 1))\n",
    "    # Now W is a 32xn tensor\n",
    "\n",
    "    # Check the proportion of blue points in the top segment -> stop if there is no enough blue points.\n",
    "    if proportion_blue_points_in_a_segment(W, Box1, Box3, box_grid_size, 21, threshold)<0.39:\n",
    "        if Details_Are_Printed:\n",
    "            print(\"-- Not collapsing:  \", Box1_name,\" -- \", Box3_name)\n",
    "        return \"\"\n",
    "\n",
    "    X = torch.tensor([[1,3], [4,1], [4, 5]]).numpy()\n",
    "    triangle = plt.Polygon(X[:3,:], color=\"snow\")\n",
    "    plt.gca().add_patch(triangle)\n",
    "    \n",
    "    for i in range(box_grid_size+1):\n",
    "        for j in range(box_grid_size-i+1):\n",
    "            alpha, beta = i/box_grid_size, j/box_grid_size\n",
    "            P = alpha*Box1 + beta*Box2 + (1-alpha-beta)*Box3   # P is a 4x4 matrix\n",
    "            color_point = \"orangered\"\n",
    "\n",
    "            Q=non_local_boxes.utils.matrix_to_tensor(torch.clone(P))  # Q is a 2x2x2x2 tensor \n",
    "            value = float(non_local_boxes.evaluate.h_flat(Q))\n",
    "            #print(value)\n",
    "            if value > threshold:\n",
    "                    color_point = (0, 0.1, 0.1)\n",
    "            else:\n",
    "                #if value > 0.75:\n",
    "                for l in range(max_box_power):\n",
    "                    if color_point != \"orangered\":\n",
    "                        break\n",
    "                    Q=non_local_boxes.evaluate.R(W, non_local_boxes.utils.tensor_to_matrix(Q), P)[:,:,:,:,0]\n",
    "                    value = float(non_local_boxes.evaluate.h_flat(Q))\n",
    "                    if value > threshold:\n",
    "                        color_point = (0, 0.1*(1-l/max_box_power)+1*(l/max_box_power), 0.1*(1-l/max_box_power)+1*(l/max_box_power))\n",
    "\n",
    "            plt.plot(X[0,0]*alpha + X[1,0]*beta + X[2,0]*(1-alpha-beta), X[0,1]*alpha + X[1,1]*beta + X[2,1]*(1-alpha-beta), 'o', markersize=3, color=color_point)\n",
    "                    \n",
    "    plt.text(X[0,0], X[0,1]+0.1, Box1_name, horizontalalignment='center')\n",
    "    plt.text(X[1,0]+0.1, X[1,1], Box2_name, verticalalignment='center')\n",
    "    plt.text(X[2,0]+0.1, X[2,1], Box3_name, verticalalignment='center')\n",
    "    plt.show()"
   ]
  },
  {
   "cell_type": "code",
   "execution_count": 61,
   "metadata": {},
   "outputs": [],
   "source": [
    "def test_wiring_triangle_with_left_multiplication(W, Box1, Box1_name, Box2, Box2_name, Box3, Box3_name, box_grid_size, max_box_power, threshold):\n",
    "    # W is a vector of size 32\n",
    "    n = non_local_boxes.evaluate.nb_columns\n",
    "    W = torch.t(W.repeat(n, 1))\n",
    "    # Now W is a 32xn tensor\n",
    "\n",
    "    # # Check the proportion of blue points in the top segment -> stop if there is no enough blue points.\n",
    "    # if proportion_blue_points_in_a_segment(W, Box1, Box3, box_grid_size, 21, threshold)<0.39:\n",
    "    #     if Details_Are_Printed:\n",
    "    #         print(\"-- Not collapsing:  \", Box1_name,\" -- \", Box3_name)\n",
    "    #     return \"\"\n",
    "\n",
    "    X = torch.tensor([[1,3], [4,1], [4, 5]]).numpy()\n",
    "    triangle = plt.Polygon(X[:3,:], color=\"snow\")\n",
    "    plt.gca().add_patch(triangle)\n",
    "    \n",
    "    for i in range(box_grid_size+1):\n",
    "        for j in range(box_grid_size-i+1):\n",
    "            alpha, beta = i/box_grid_size, j/box_grid_size\n",
    "            P = alpha*Box1 + beta*Box2 + (1-alpha-beta)*Box3   # P is a 4x4 matrix\n",
    "            color_point = \"orangered\"\n",
    "\n",
    "            Q=non_local_boxes.utils.matrix_to_tensor(torch.clone(P))  # Q is a 2x2x2x2 tensor \n",
    "            value = float(non_local_boxes.evaluate.h_flat(Q))\n",
    "            #print(value)\n",
    "            if value > threshold:\n",
    "                    color_point = (0, 0.1, 0.1)\n",
    "            else:\n",
    "                #if value > 0.75:\n",
    "                for l in range(max_box_power):\n",
    "                    if color_point != \"orangered\":\n",
    "                        break\n",
    "                    Q=non_local_boxes.evaluate.R(W, P, non_local_boxes.utils.tensor_to_matrix(Q))[:,:,:,:,0]\n",
    "                    value = float(non_local_boxes.evaluate.h_flat(Q))\n",
    "                    if value > threshold:\n",
    "                        color_point = (0, 0.1*(1-l/max_box_power)+1*(l/max_box_power), 0.1*(1-l/max_box_power)+1*(l/max_box_power))\n",
    "\n",
    "            plt.plot(X[0,0]*alpha + X[1,0]*beta + X[2,0]*(1-alpha-beta), X[0,1]*alpha + X[1,1]*beta + X[2,1]*(1-alpha-beta), 'o', markersize=3, color=color_point)\n",
    "                    \n",
    "    plt.text(X[0,0], X[0,1]+0.1, Box1_name, horizontalalignment='center')\n",
    "    plt.text(X[1,0]+0.1, X[1,1], Box2_name, verticalalignment='center')\n",
    "    plt.text(X[2,0]+0.1, X[2,1], Box3_name, verticalalignment='center')\n",
    "    plt.show()"
   ]
  },
  {
   "cell_type": "code",
   "execution_count": 62,
   "metadata": {},
   "outputs": [],
   "source": [
    "def test_wiring_triangle_with_pairwise_multiplication(W, Box1, Box1_name, Box2, Box2_name, Box3, Box3_name, box_grid_size, max_box_power, threshold):\n",
    "    # W is a vector of size 32\n",
    "    n = non_local_boxes.evaluate.nb_columns\n",
    "    W = torch.t(W.repeat(n, 1))\n",
    "    # Now W is a 32xn tensor\n",
    "\n",
    "    # # Check the proportion of blue points in the top segment -> stop if there is no enough blue points.\n",
    "    # if proportion_blue_points_in_a_segment(W, Box1, Box3, box_grid_size, 21, threshold)<0.39:\n",
    "    #     if Details_Are_Printed:\n",
    "    #         print(\"-- Not collapsing:  \", Box1_name,\" -- \", Box3_name)\n",
    "    #     return \"\"\n",
    "\n",
    "    X = torch.tensor([[1,3], [4,1], [4, 5]]).numpy()\n",
    "    triangle = plt.Polygon(X[:3,:], color=\"snow\")\n",
    "    plt.gca().add_patch(triangle)\n",
    "    \n",
    "    for i in range(box_grid_size+1):\n",
    "        for j in range(box_grid_size-i+1):\n",
    "            alpha, beta = i/box_grid_size, j/box_grid_size\n",
    "            P = alpha*Box1 + beta*Box2 + (1-alpha-beta)*Box3   # P is a 4x4 matrix\n",
    "            color_point = \"orangered\"\n",
    "\n",
    "            Q=non_local_boxes.utils.matrix_to_tensor(torch.clone(P))  # Q is a 2x2x2x2 tensor \n",
    "            value = float(non_local_boxes.evaluate.h_flat(Q))\n",
    "            #print(value)\n",
    "            if value > threshold:\n",
    "                    color_point = (0, 0.1, 0.1)\n",
    "            else:\n",
    "                #if value > 0.75:\n",
    "                for l in range(max_box_power):\n",
    "                    if color_point != \"orangered\":\n",
    "                        break\n",
    "                    Q=non_local_boxes.evaluate.R(W, non_local_boxes.utils.tensor_to_matrix(Q), non_local_boxes.utils.tensor_to_matrix(Q))[:,:,:,:,0]\n",
    "                    value = float(non_local_boxes.evaluate.h_flat(Q))\n",
    "                    if value > threshold:\n",
    "                        color_point = (0, 0.1*(1-l/max_box_power)+1*(l/max_box_power), 0.1*(1-l/max_box_power)+1*(l/max_box_power))\n",
    "\n",
    "            plt.plot(X[0,0]*alpha + X[1,0]*beta + X[2,0]*(1-alpha-beta), X[0,1]*alpha + X[1,1]*beta + X[2,1]*(1-alpha-beta), 'o', markersize=3, color=color_point)\n",
    "                    \n",
    "    plt.text(X[0,0], X[0,1]+0.1, Box1_name, horizontalalignment='center')\n",
    "    plt.text(X[1,0]+0.1, X[1,1], Box2_name, verticalalignment='center')\n",
    "    plt.text(X[2,0]+0.1, X[2,1], Box3_name, verticalalignment='center')\n",
    "    plt.show()"
   ]
  },
  {
   "attachments": {},
   "cell_type": "markdown",
   "metadata": {},
   "source": [
    "## Test"
   ]
  },
  {
   "cell_type": "code",
   "execution_count": 63,
   "metadata": {},
   "outputs": [
    {
     "data": {
      "image/png": "[encoded data removed]",
      "text/plain": [
       "<Figure size 640x480 with 1 Axes>"
      ]
     },
     "metadata": {},
     "output_type": "display_data"
    }
   ],
   "source": [
    "W = torch.tensor([0., 0., 1., 1.,              # f_1(x, a_2) = x\n",
    "            0., 0., 1., 1.,              # g_1(y, b_2) = y\n",
    "            0., 0., 0., 1.,              # f_2(x, a_1) = a_1*x\n",
    "            0., 0., 0., 1.,              # g_2(y, b_1) = b_1*y\n",
    "            0., 1., 1., 0., 0., 1., 1., 0.,  # f_3(x, a_1, a_2) = a_1 + a_2 mod 2\n",
    "            0., 1., 1., 0., 0., 1., 1., 0.   # g_3(y, b_1, b_2) = b_1 + b_2 mod 2\n",
    "            ])\n",
    "\n",
    "# Set the number of wirings to 1\n",
    "\n",
    "test_wiring_triangle_with_left_multiplication(\n",
    "    W = W,\n",
    "    Box1=non_local_boxes.utils.PR,\n",
    "    Box1_name = \"PR\",\n",
    "    Box2=non_local_boxes.utils.P_0,\n",
    "    Box2_name = \"$P_0$\",\n",
    "    Box3=non_local_boxes.utils.P_1,\n",
    "    Box3_name = \"$P_1$\",\n",
    "    box_grid_size = 60,\n",
    "    max_box_power = 15,\n",
    "    threshold = (3 + float(torch.sqrt(torch.tensor(6))))/6\n",
    ")"
   ]
  },
  {
   "cell_type": "code",
   "execution_count": 64,
   "metadata": {},
   "outputs": [
    {
     "data": {
      "image/png": "[encoded data removed]",
      "text/plain": [
       "<Figure size 640x480 with 1 Axes>"
      ]
     },
     "metadata": {},
     "output_type": "display_data"
    }
   ],
   "source": [
    "W = torch.tensor([0., 0., 1., 1.,              # f_1(x, a_2) = x\n",
    "            0., 0., 1., 1.,              # g_1(y, b_2) = y\n",
    "            0., 0., 0., 1.,              # f_2(x, a_1) = a_1*x\n",
    "            0., 0., 0., 1.,              # g_2(y, b_1) = b_1*y\n",
    "            0., 1., 1., 0., 0., 1., 1., 0.,  # f_3(x, a_1, a_2) = a_1 + a_2 mod 2\n",
    "            0., 1., 1., 0., 0., 1., 1., 0.   # g_3(y, b_1, b_2) = b_1 + b_2 mod 2\n",
    "            ])\n",
    "\n",
    "# Set the number of wirings to 1\n",
    "\n",
    "test_wiring_triangle_with_pairwise_multiplication(\n",
    "    W = W,\n",
    "    Box1=non_local_boxes.utils.PR,\n",
    "    Box1_name = \"PR\",\n",
    "    Box2=non_local_boxes.utils.P_0,\n",
    "    Box2_name = \"$P_0$\",\n",
    "    Box3=non_local_boxes.utils.P_1,\n",
    "    Box3_name = \"$P_1$\",\n",
    "    box_grid_size = 60,\n",
    "    max_box_power = 15,\n",
    "    threshold = (3 + float(torch.sqrt(torch.tensor(6))))/6\n",
    ")"
   ]
  },
  {
   "cell_type": "code",
   "execution_count": 65,
   "metadata": {},
   "outputs": [
    {
     "data": {
      "image/png": "[encoded data removed]",
      "text/plain": [
       "<Figure size 640x480 with 1 Axes>"
      ]
     },
     "metadata": {},
     "output_type": "display_data"
    }
   ],
   "source": [
    "W = torch.tensor([0., 0., 1., 1.,              # f_1(x, a_2) = x\n",
    "            0., 0., 1., 1.,              # g_1(y, b_2) = y\n",
    "            0., 0., 0., 1.,              # f_2(x, a_1) = a_1*x\n",
    "            0., 0., 0., 1.,              # g_2(y, b_1) = b_1*y\n",
    "            0., 1., 1., 0., 0., 1., 1., 0.,  # f_3(x, a_1, a_2) = a_1 + a_2 mod 2\n",
    "            0., 1., 1., 0., 0., 1., 1., 0.   # g_3(y, b_1, b_2) = b_1 + b_2 mod 2\n",
    "            ])\n",
    "\n",
    "# Set the number of wirings to 1\n",
    "\n",
    "test_wiring_triangle(\n",
    "    W = W,\n",
    "    Box1=non_local_boxes.utils.PR,\n",
    "    Box1_name = \"PR\",\n",
    "    Box2=non_local_boxes.utils.P_0,\n",
    "    Box2_name = \"$P_0$\",\n",
    "    Box3=non_local_boxes.utils.P_1,\n",
    "    Box3_name = \"$P_1$\",\n",
    "    box_grid_size = 60,\n",
    "    max_box_power = 15,\n",
    "    threshold = (3 + float(torch.sqrt(torch.tensor(6))))/6,\n",
    "    Details_Are_Printed=False\n",
    ")"
   ]
  },
  {
   "attachments": {},
   "cell_type": "markdown",
   "metadata": {},
   "source": [
    "# Last definition"
   ]
  },
  {
   "cell_type": "code",
   "execution_count": 66,
   "metadata": {},
   "outputs": [],
   "source": [
    "PR = non_local_boxes.utils.PR\n",
    "PL = non_local_boxes.utils.P_L\n",
    "PNL = non_local_boxes.utils.P_NL\n",
    "\n",
    "W_BS09 = torch.tensor([0., 0., 1., 1.,              # f_1(x, a_2) = x\n",
    "            0., 0., 1., 1.,              # g_1(y, b_2) = y\n",
    "            0., 0., 0., 1.,              # f_2(x, a_1) = a_1*x\n",
    "            0., 0., 0., 1.,              # g_2(y, b_1) = b_1*y\n",
    "            0., 1., 1., 0., 0., 1., 1., 0.,  # f_3(x, a_1, a_2) = a_1 + a_2 mod 2\n",
    "            0., 1., 1., 0., 0., 1., 1., 0.   # g_3(y, b_1, b_2) = b_1 + b_2 mod 2\n",
    "            ])"
   ]
  },
  {
   "cell_type": "code",
   "execution_count": 67,
   "metadata": {},
   "outputs": [],
   "source": [
    "# Set the number of wirings to 1\n",
    "\n",
    "def Test_Wiring(W_list, Fixed_box_in_drawings, Fixed_box_name, known_collapsing_W, Details_Are_Printed, compare_with_known_wirings=True):\n",
    "    # W_list is given as a list here\n",
    "\n",
    "    if non_local_boxes.evaluate.nb_columns != 1:\n",
    "        print(\"WARNING: please change the number of wirings to 1.\")\n",
    "        return \" \"\n",
    "\n",
    "    W = torch.tensor(W_list)*1.\n",
    "    if Details_Are_Printed:\n",
    "        print(\"------ Number of known wirings: \", len(known_collapsing_W))\n",
    "    print(\"\\nW = \",W,\"\\n\")\n",
    "    if compare_with_known_wirings:\n",
    "        for i in range(len(known_collapsing_W)):\n",
    "            if torch.all(W == torch.tensor(known_collapsing_W[i])):\n",
    "                print(\" !!!  This wiring is already known: \",i+1,\"th/ \",len(known_collapsing_W),\"  !!!\")\n",
    "                return \" \"\n",
    "    \n",
    "    threshold = (3 + float(torch.sqrt(torch.tensor(6))))/6\n",
    "\n",
    "    # test_wiring_segment(\n",
    "    #     W = W,\n",
    "    #     Box1=PR,\n",
    "    #     Box1_name = \"PR\",\n",
    "    #     Box2 = Fixed_box_in_drawings,\n",
    "    #     Box2_name = Fixed_box_name,\n",
    "    #     box_grid_size = 60,\n",
    "    #     max_box_power = 50,\n",
    "    #     threshold = (3 + float(torch.sqrt(torch.tensor(6))))/6\n",
    "    # )    \n",
    "\n",
    "    n = non_local_boxes.evaluate.nb_columns\n",
    "    p = proportion_blue_points_in_a_segment(torch.t(W.repeat(n, 1)), PR, Fixed_box_in_drawings, 40, 40, threshold)\n",
    "    texte = \"\"\n",
    "    if Details_Are_Printed:\n",
    "        texte =\"------ \"\n",
    "    print(texte,\"Proportion of blue points in the segment PR --\", Fixed_box_name, \":   \", 100*p, \"%\")\n",
    "\n",
    "    if p>0.4:\n",
    "        boxes_to_be_tested = non_local_boxes.utils.boxes_to_be_tested\n",
    "        for box_number in boxes_to_be_tested:\n",
    "            mu, nu, sigma, tau = box_number\n",
    "            if PL(mu,nu,sigma,tau).tolist() != Fixed_box_in_drawings.tolist():\n",
    "                test_wiring_triangle(\n",
    "                    W = W,\n",
    "                    Box1=PR,\n",
    "                    Box1_name = \"PR\",\n",
    "                    Box2 = Fixed_box_in_drawings,\n",
    "                    Box2_name = Fixed_box_name,\n",
    "                    Box3=PL(mu,nu,sigma,tau),\n",
    "                    Box3_name = \"PL\"+str(mu)+str(nu)+str(sigma)+str(tau),\n",
    "                    box_grid_size = 60,\n",
    "                    max_box_power = 20,\n",
    "                    threshold = threshold,\n",
    "                    Details_Are_Printed = Details_Are_Printed\n",
    "                )\n",
    "        \n",
    "        test_wiring_triangle(\n",
    "            W = W,\n",
    "            Box1=PR,\n",
    "            Box1_name = \"PR\",\n",
    "            Box2=PL(0,0,0,0),\n",
    "            Box2_name = \"$P_0$\",\n",
    "            Box3=(PR + non_local_boxes.utils.PRprime)/2,\n",
    "            Box3_name = \"(PR+PR') / 2\",\n",
    "            box_grid_size = 60,\n",
    "            max_box_power = 20,\n",
    "            threshold = threshold,\n",
    "            Details_Are_Printed = Details_Are_Printed\n",
    "        )\n",
    "\n",
    "    if Details_Are_Printed:\n",
    "        print(\"---------- FINISHED ----------\")"
   ]
  },
  {
   "attachments": {},
   "cell_type": "markdown",
   "metadata": {},
   "source": [
    "# Let's Go!"
   ]
  },
  {
   "cell_type": "code",
   "execution_count": 73,
   "metadata": {},
   "outputs": [
    {
     "name": "stdout",
     "output_type": "stream",
     "text": [
      "------ Number of known wirings:  79\n",
      "\n",
      "W =  tensor([0.0000, 1.0000, 0.0000, 1.0000, 0.0000, 1.0000, 1.0000, 1.0000, 1.0000,\n",
      "        1.0000, 0.0000, 0.0000, 0.0122, 0.0122, 1.0000, 1.0000, 0.0000, 0.0000,\n",
      "        1.0000, 1.0000, 0.0000, 0.0000, 1.0000, 1.0000, 0.0000, 1.0000, 1.0000,\n",
      "        0.0000, 1.0000, 0.0000, 0.0000, 1.0000]) \n",
      "\n",
      "------  Proportion of blue points in the segment PR -- PL1000 :    97.5 %\n",
      "-- Not collapsing:   PR  --  PL0000\n",
      "-- Not collapsing:   PR  --  PL0001\n",
      "-- Not collapsing:   PR  --  PL0010\n",
      "-- Not collapsing:   PR  --  PL0011\n",
      "-- Not collapsing:   PR  --  PL0100\n",
      "-- Not collapsing:   PR  --  PL0101\n",
      "-- Not collapsing:   PR  --  PL0110\n",
      "-- Not collapsing:   PR  --  PL0111\n",
      "-- Not collapsing:   PR  --  PL1001\n",
      "-- Not collapsing:   PR  --  PL1010\n",
      "-- Not collapsing:   PR  --  PL1011\n",
      "-- Not collapsing:   PR  --  PL1100\n",
      "-- Not collapsing:   PR  --  PL1101\n"
     ]
    },
    {
     "data": {
      "image/png": "[encoded data removed]",
      "text/plain": [
       "<Figure size 640x480 with 1 Axes>"
      ]
     },
     "metadata": {},
     "output_type": "display_data"
    },
    {
     "name": "stdout",
     "output_type": "stream",
     "text": [
      "-- Not collapsing:   PR  --  PL1111\n",
      "-- Not collapsing:   PR  --  (PR+PR') / 2\n",
      "---------- FINISHED ----------\n"
     ]
    }
   ],
   "source": [
    "known_collapsing_W = non_local_boxes.utils.known_collapsing_W\n",
    "\n",
    "W = [0.    , 1.    , 0.    , 1.    , 0.    , 1.    , 1.    , 1.    , 1.    , 1.    , 0.    , 0.    , 0.0122, 0.0122, 1.    , 1.    , 0.    , 0.    , 1.    , 1.    , 0.    , 0.    , 1.    , 1.    , 0.    , 1.    , 1.    , 0.    , 1.    , 0.    , 0.    , 1.    ]\n",
    "\n",
    "Test_Wiring(\n",
    "    W,\n",
    "    PL(1,0,0,0),\n",
    "    \"PL1000\",\n",
    "    known_collapsing_W,\n",
    "    Details_Are_Printed = True,\n",
    "    compare_with_known_wirings=False\n",
    ")"
   ]
  },
  {
   "attachments": {},
   "cell_type": "markdown",
   "metadata": {},
   "source": [
    "---\n",
    "---\n",
    "---"
   ]
  },
  {
   "cell_type": "code",
   "execution_count": null,
   "metadata": {},
   "outputs": [],
   "source": [
    "i=0\n",
    "\n",
    "known_collapsing_W = non_local_boxes.utils.known_collapsing_W\n",
    "\n",
    "for C in [[1., 0., 0., 0.], [0., 1., 0., 0.], [0., 0., 1., 0.], [0., 0., 0., 1.]]:        # TO BE IMPROVED\n",
    "    for D in [[1., 0., 0., 0.], [0., 1., 0., 0.], [0., 0., 1., 0.], [0., 0., 0., 1.]]:    # TO BE IMPROVED\n",
    "        for A in [[0.,0.,1.,1.], [1.,1.,0.,0.]]:\n",
    "            for B in [[0.,0.,1.,1.], [1.,1.,0.,0.]]:\n",
    "                for E in [[0., 1., 1., 0.], [1., 0., 0., 1.]]:\n",
    "                    for F in [[0., 1., 1., 0.], [1., 0., 0., 1.]]:\n",
    "                        for G in [[0., 1., 1., 0.], [1., 0., 0., 1.]]:\n",
    "                            for H in [[0., 1., 1., 0.], [1., 0., 0., 1.]]:\n",
    "                                i += 1\n",
    "                                print(\" \")\n",
    "                                print(\"--------------   TEST NUMBER \", i, \"  --------------\")\n",
    "                                print(\" \")\n",
    "\n",
    "                                W = A+B+C+D+E+F+G+H # concatenation of A, B, C, D, E, F, G H\n",
    "\n",
    "                                Test_Wiring(\n",
    "                                    W,\n",
    "                                    PL(0,0,0,0),\n",
    "                                    \"P_0\",\n",
    "                                    known_collapsing_W, \n",
    "                                    False\n",
    "                                )"
   ]
  },
  {
   "attachments": {},
   "cell_type": "markdown",
   "metadata": {},
   "source": [
    "---\n",
    "---\n",
    "---"
   ]
  },
  {
   "cell_type": "code",
   "execution_count": null,
   "metadata": {},
   "outputs": [],
   "source": [
    "# Check that all known wirings are different.\n",
    "\n",
    "known_collapsing_W = non_local_boxes.utils.known_collapsing_W\n",
    "\n",
    "N = len(known_collapsing_W)\n",
    "print(\"Number of known wirings: \",N)\n",
    "for i in range(N-1):\n",
    "    for j in range(i+1,N):\n",
    "        if known_collapsing_W[i] == known_collapsing_W[j]:\n",
    "            print(\"W_\",i+1,\" and W_\",j+1,\" are the same\")\n",
    "            assert(False)\n",
    "print(\"-- finished --\")"
   ]
  },
  {
   "cell_type": "code",
   "execution_count": null,
   "metadata": {},
   "outputs": [],
   "source": [
    "torch.tensor(known_collapsing_W[65])"
   ]
  },
  {
   "cell_type": "code",
   "execution_count": null,
   "metadata": {},
   "outputs": [],
   "source": [
    "torch.tensor(known_collapsing_W[66])"
   ]
  },
  {
   "cell_type": "code",
   "execution_count": null,
   "metadata": {},
   "outputs": [],
   "source": []
  }
 ],
 "metadata": {
  "kernelspec": {
   "display_name": ".venv_boxes",
   "language": "python",
   "name": "python3"
  },
  "language_info": {
   "codemirror_mode": {
    "name": "ipython",
    "version": 3
   },
   "file_extension": ".py",
   "mimetype": "text/x-python",
   "name": "python",
   "nbconvert_exporter": "python",
   "pygments_lexer": "ipython3",
   "version": "3.9.12"
  },
  "orig_nbformat": 4
 },
 "nbformat": 4,
 "nbformat_minor": 2
}
