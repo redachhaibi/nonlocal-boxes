{
 "cells": [
  {
   "cell_type": "code",
   "execution_count": null,
   "metadata": {},
   "outputs": [],
   "source": [
    "import numpy as np\n",
    "import matplotlib.pyplot as plt\n",
    "from matplotlib.colors import hsv_to_rgb\n",
    "import matplotlib.patches as mpatches\n",
    "\n",
    "plt.rcParams['figure.dpi'] = 300\n",
    "plt.rcParams['savefig.dpi'] = 300"
   ]
  },
  {
   "cell_type": "markdown",
   "metadata": {},
   "source": [
    "# Boxes and CHSH-value"
   ]
  },
  {
   "cell_type": "code",
   "execution_count": null,
   "metadata": {},
   "outputs": [],
   "source": [
    "def P_L(mu, nu, sigma, tau):\n",
    "    new_box = np.zeros((4,4))\n",
    "    for a in range(2):\n",
    "        for b in range(2):\n",
    "            for x in range(2):\n",
    "                for y in range(2):\n",
    "                    if a==(mu*x+nu)%2 and b==(sigma*y+tau)%2:\n",
    "                        new_box[2*x+y, 2*a+b] = 1         \n",
    "    return new_box\n",
    "\n",
    "\n",
    "def P_NL(mu, nu, sigma):\n",
    "    new_box = np.zeros((4,4))\n",
    "    for a in range(2):\n",
    "        for b in range(2):\n",
    "            for x in range(2):\n",
    "                for y in range(2):\n",
    "                    if (a+b)%2==(x*y + mu*x + nu*y + sigma)%2:\n",
    "                        new_box[2*x+y, 2*a+b] = 0.5               \n",
    "    return new_box\n",
    "\n",
    "\n",
    "PR = P_NL(0,0,0)\n",
    "PRbar = P_NL(0,0,1)\n",
    "PRprime = P_NL(1,1,1)\n",
    "P_0 = P_L(0,0,0,0)\n",
    "P_1 = P_L(0,1,0,1)\n",
    "SR = (P_0 + P_1)/2\n",
    "I = 0.25*np.ones((4,4))\n",
    "SRbar = 2*I-SR\n",
    "\n",
    "\n",
    "def corNLB(p):\n",
    "    return p*PR + (1-p)*SR"
   ]
  },
  {
   "cell_type": "code",
   "execution_count": null,
   "metadata": {},
   "outputs": [],
   "source": [
    "CHSH = np.zeros((4,4))\n",
    "CHSHprime = np.zeros((4,4))\n",
    "\n",
    "for a in range(2):\n",
    "    for b in range(2):\n",
    "        for x in range(2):\n",
    "            for y in range(2):\n",
    "                if (a+b)%2==(x*y)%2:\n",
    "                    CHSH[2*x+y, 2*a+b] = 0.25  \n",
    "                if (a+b)%2==((x+1)*(y+1))%2:\n",
    "                    CHSHprime[2*x+y, 2*a+b] = 0.25 \n",
    "\n",
    "def CHSHvalue(Box):\n",
    "    return np.sum(Box*CHSH)\n",
    "\n",
    "def CHSHprimevalue(Box):\n",
    "    return np.sum(Box*CHSHprime)"
   ]
  },
  {
   "cell_type": "markdown",
   "metadata": {},
   "source": [
    "# Definition of $\\mathcal Q$"
   ]
  },
  {
   "cell_type": "markdown",
   "metadata": {},
   "source": [
    "We use this article to draw $\\mathcal Q$: https://arxiv.org/abs/quant-ph/0309137"
   ]
  },
  {
   "cell_type": "code",
   "execution_count": null,
   "metadata": {},
   "outputs": [],
   "source": [
    "def E(Box, x, y):\n",
    "    return Box[2*x+y, 2*0+0] + Box[2*x+y, 2*1+1] - Box[2*x+y, 2*0+1] - Box[2*x+y, 2*1+0]\n",
    "\n",
    "def is_in_Q(Box1, Box2, Box3, alpha, beta):\n",
    "    # alpha, beta, gamma = Compute_Coeff(PR, SR, I, CHSHprime_value=CHSHprime_value, CHSH_value=CHSH_value)\n",
    "    Box = alpha*Box1 + beta*Box2 + (1-alpha-beta)*Box3\n",
    "        # Box is a 4x4 matrix\n",
    "    coeff00 = np.arcsin(E(Box,0,0))\n",
    "    coeff01 = np.arcsin(E(Box,0,1))\n",
    "    coeff10 = np.arcsin(E(Box,1,0))\n",
    "    coeff11 = np.arcsin(E(Box,1,1))\n",
    "    return coeff00 + coeff01 + coeff10 - coeff11 <= np.pi"
   ]
  },
  {
   "cell_type": "code",
   "execution_count": null,
   "metadata": {},
   "outputs": [],
   "source": [
    "def draw_Q(Box1, Box1name, Box2, Box2name, Box3, Box3name, precision=0.001):\n",
    "\n",
    "    # Draw the initial background triangle:\n",
    "    x1, y1 = CHSHprimevalue(Box1), CHSHvalue(Box1)\n",
    "    x2, y2 = CHSHprimevalue(Box2), CHSHvalue(Box2)\n",
    "    x3, y3 = CHSHprimevalue(Box3), CHSHvalue(Box3)\n",
    "    triangle = plt.Polygon(np.array([[x1, y1], [x2,y2], [x3, y3]]), color=hsv_to_rgb([0.475, 1, 0.9]))\n",
    "    plt.gca().add_patch(triangle)\n",
    "\n",
    "    Quantum_color = 'pink'\n",
    "    beta=1\n",
    "    alpha=0\n",
    "    alpha_memory=0\n",
    "    while beta>0:\n",
    "        if is_in_Q(Box1, Box2, Box3, alpha, beta):\n",
    "            Box = alpha*Box1 + beta*Box2 + (1-alpha-beta)*Box3\n",
    "            plt.plot([CHSHprimevalue(Box), CHSHprimevalue(Box)], [CHSHvalue(Box), CHSHvalue(Box3)], color=Quantum_color)\n",
    "            alpha_memory=alpha\n",
    "            beta-=precision\n",
    "            alpha=1-beta\n",
    "        else:\n",
    "            alpha-=precision\n",
    "            if alpha<0:\n",
    "                beta-=precision\n",
    "                alpha=1-beta\n",
    "\n",
    "    Box = alpha_memory*Box1 + (1-alpha_memory)*Box3\n",
    "    triangle2 = plt.Polygon(np.array([[CHSHprimevalue(Box), CHSHvalue(Box)], [CHSHprimevalue(Box),CHSHvalue(Box3)], [CHSHprimevalue(Box3), CHSHvalue(Box3)]]), color=Quantum_color)\n",
    "    plt.gca().add_patch(triangle2)\n",
    "\n",
    "    plt.text(x1+0.001, y1, Box1name, horizontalalignment='center',weight=\"bold\")\n",
    "    plt.text(x2, y2+0.007, Box2name, verticalalignment='center',weight=\"bold\")\n",
    "    plt.text(x3, y3-0.007, Box3name, verticalalignment='center',weight=\"bold\")\n",
    "    plt.title(\"Quantum area drawn using [Masanes03]\")\n",
    "    plt.xlabel(\"$\\mathbb{P}($win at CHSH'$)$\")\n",
    "    plt.ylabel(\"$\\mathbb{P}($win at CHSH$)$\")\n",
    "    handles = []\n",
    "    handles.append( mpatches.Patch(color=hsv_to_rgb([0.475, 1, 0.8]), label='$\\mathcal{N\\!S}$-boxes.') )\n",
    "    handles.append( mpatches.Patch(color=Quantum_color, label='Quantum boxes.') )\n",
    "    plt.legend(handles=handles, loc='upper right', fontsize = 10)\n",
    "    plt.show()\n",
    "        "
   ]
  },
  {
   "cell_type": "markdown",
   "metadata": {},
   "source": [
    "# Draw $\\mathcal Q$"
   ]
  },
  {
   "cell_type": "code",
   "execution_count": null,
   "metadata": {},
   "outputs": [],
   "source": [
    "is_in_Q(PR, SR, (2/3)*PR+(1/3)*SRbar, 0.2, 0)"
   ]
  },
  {
   "cell_type": "code",
   "execution_count": null,
   "metadata": {},
   "outputs": [],
   "source": [
    "draw_Q(PR, \"PR\", SR, \"SR\", (2/3)*PR+(1/3)*SRbar, \"⅔PR + ⅓SRbar\", precision=0.001)"
   ]
  },
  {
   "cell_type": "code",
   "execution_count": null,
   "metadata": {},
   "outputs": [],
   "source": []
  }
 ],
 "metadata": {
  "kernelspec": {
   "display_name": ".venv_boxes",
   "language": "python",
   "name": "python3"
  },
  "language_info": {
   "codemirror_mode": {
    "name": "ipython",
    "version": 3
   },
   "file_extension": ".py",
   "mimetype": "text/x-python",
   "name": "python",
   "nbconvert_exporter": "python",
   "pygments_lexer": "ipython3",
   "version": "3.9.12"
  },
  "orig_nbformat": 4
 },
 "nbformat": 4,
 "nbformat_minor": 2
}
