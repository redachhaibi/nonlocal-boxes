{
 "cells": [
  {
   "cell_type": "code",
   "execution_count": null,
   "metadata": {},
   "outputs": [],
   "source": [
    "import torch\n",
    "import non_local_boxes\n",
    "import numpy as np\n",
    "import math\n",
    "import matplotlib.pyplot as plt\n",
    "from matplotlib.colors import hsv_to_rgb\n",
    "import matplotlib.patches as mpatches\n",
    "\n",
    "import matplotlib.lines as mlines\n",
    "\n",
    "# Sugar coating for reloading\n",
    "%matplotlib inline\n",
    "%load_ext autoreload\n",
    "%autoreload 2\n",
    "\n",
    "# from IPython.display import set_matplotlib_formats\n",
    "# set_matplotlib_formats('svg')   # in ordert to have unblurred pictures\n",
    "plt.rcParams['figure.dpi'] = 300\n",
    "plt.rcParams['savefig.dpi'] = 300"
   ]
  },
  {
   "attachments": {},
   "cell_type": "markdown",
   "metadata": {},
   "source": [
    "# Definitions"
   ]
  },
  {
   "cell_type": "code",
   "execution_count": null,
   "metadata": {},
   "outputs": [],
   "source": [
    "matrix_to_tensor = non_local_boxes.utils.matrix_to_tensor\n",
    "tensor_to_matrix = non_local_boxes.utils.tensor_to_matrix\n",
    "\n",
    "# Boxes as 2x2x2x2 tensors\n",
    "PR = matrix_to_tensor(non_local_boxes.utils.PR)\n",
    "PRprime = matrix_to_tensor(non_local_boxes.utils.PRprime)\n",
    "SR = matrix_to_tensor(non_local_boxes.utils.SR)\n",
    "I = matrix_to_tensor(non_local_boxes.utils.I)\n",
    "\n",
    "n = non_local_boxes.evaluate.nb_columns\n",
    "W_BS09 = non_local_boxes.utils.W_BS09(n)\n",
    "\n",
    "def WinCHSH(P): return float(non_local_boxes.evaluate.h_flat(P))                    # P is a 2x2x2x2 tensor\n",
    "def WinCHSHprime(P): return float(non_local_boxes.evaluate.h_prime_flat(P))         # P is a 2x2x2x2 tensor\n",
    "def BoxProduct(W,P,Q): return non_local_boxes.evaluate.R_tensor(W,P,Q)[:,:,:,:,0]   # P,Q are is a 2x2x2x2 tensor\n",
    "\n",
    "def Catalan_number(k):\n",
    "    return int(math.factorial(2*(k-1))/(math.factorial(k)*math.factorial(k-1)))\n",
    "\n",
    "P = PR\n",
    "print(WinCHSH(P), WinCHSHprime(P))\n",
    "for k in range(1,11):\n",
    "    print(k, Catalan_number(k))"
   ]
  },
  {
   "cell_type": "code",
   "execution_count": null,
   "metadata": {},
   "outputs": [],
   "source": [
    "def Compute_Orbits(P, W, max_depth):\n",
    "    Orbits = [[P]]  # each all_orbits[k] is a list, which is the orbit of depth k+1\n",
    "    for k in range(max_depth-1):\n",
    "          Orbits.append([])\n",
    "          for l in range(k+1):\n",
    "                for Q1 in Orbits[l]:\n",
    "                      for Q2 in Orbits[k-l]:\n",
    "                            Orbits[k+1].append( BoxProduct(W, Q1, Q2) )\n",
    "    return Orbits"
   ]
  },
  {
   "cell_type": "code",
   "execution_count": null,
   "metadata": {},
   "outputs": [],
   "source": [
    "def Draw_Orbit(P, P1, P1name, P2, P2name, P3, P3name, W, Wname, max_depth):\n",
    "    # P, P1, P2, P3 are 2x2x2x2 matrices\n",
    "\n",
    "    # Draw the initial background triangle:\n",
    "    x1, y1 = WinCHSHprime(P1), WinCHSH(P1)\n",
    "    x2, y2 = WinCHSHprime(P2), WinCHSH(P2)\n",
    "    x3, y3 = WinCHSHprime(P3), WinCHSH(P3)\n",
    "    triangle = plt.Polygon(np.array([[x1, y1], [x2,y2], [x3, y3]]), color=hsv_to_rgb([0.475, 1, 0.9]))\n",
    "    plt.gca().add_patch(triangle)\n",
    "\n",
    "    BBLMTU_value = (3+math.sqrt(6))/6\n",
    "    BBLMTU_rectangle = plt.Polygon(np.array([[0.5, 1.0], [0.5,BBLMTU_value], [1.5-BBLMTU_value, BBLMTU_value]]), color=hsv_to_rgb([0.475, 1, 0.5]))\n",
    "    plt.gca().add_patch(BBLMTU_rectangle)\n",
    "\n",
    "    # Check if our coordinate system is good, i.e. if projected points aren't aligned:\n",
    "    if (x1 - x3)*(y2-y3)==(x2-x3)*(y1-y3):\n",
    "            print(\"WARNING: Error in the coordinate system.\")\n",
    "            return None\n",
    "\n",
    "    # Draw the orbit:\n",
    "    Orbits = Compute_Orbits(P, W, max_depth)\n",
    "    for k in range(len(Orbits)):\n",
    "        color = hsv_to_rgb([k/(7*(len(Orbits)-1)), 1, 1])\n",
    "        for Q in Orbits[k]:  # Q is a tensor\n",
    "            # Compute the abscissa and the ordinate:\n",
    "            x = WinCHSHprime(Q)\n",
    "            if x>=0.5:\n",
    "                y = WinCHSH(Q)\n",
    "                plt.plot(x, y, 'o', markersize=4, color=color)\n",
    "    \n",
    "    plt.text(WinCHSHprime(P), WinCHSH(P), \"  ← starting box $\\mathbf{P}$\", horizontalalignment='left', verticalalignment = 'center')\n",
    "    plt.text(x1+0.001, y1, P1name, horizontalalignment='center',weight=\"bold\")\n",
    "    plt.text(x2, y2+0.007, P2name, verticalalignment='center',weight=\"bold\")\n",
    "    plt.text(x3, y3-0.007, P3name, verticalalignment='center',weight=\"bold\")\n",
    "    plt.title(\"Orbit of a box $\\mathbf{P}$ until depth $k=$\"+str(max_depth)+\" (wiring $W=$\"+Wname+\")\")\n",
    "    plt.xlabel(\"$\\mathbb{P}($winning at CHSH'$)$\")\n",
    "    plt.ylabel(\"$\\mathbb{P}($winning at CHSH$)$\")\n",
    "    handles = []\n",
    "    handles.append( mpatches.Patch(color=hsv_to_rgb([0.475, 1, 0.5]), label='Collapsing $\\mathcal{N\\!S}$-boxes from [BBLMTU06].') )\n",
    "    handles.append( mpatches.Patch(color=hsv_to_rgb([0.475, 1, 0.8]), label='Other $\\mathcal{N\\!S}$-boxes.') )\n",
    "    handles.append( mlines.Line2D([], [],color=hsv_to_rgb([0.0, 1, 1]), marker='o',ls='', label='Orbit of depth $k=$'+str(1)) )\n",
    "    handles.append(  mlines.Line2D([], [],color=hsv_to_rgb([1/14, 1, 1]), marker='o',ls='', label='Orbit of depth $k=$'+str(max_depth//2)) )\n",
    "    handles.append( mlines.Line2D([], [],color=hsv_to_rgb([1/7, 1, 1]), marker='o',ls='', label='Orbit of depth $k=$'+str(max_depth)) )\n",
    "    plt.legend(handles=handles)\n",
    "    plt.show()\n"
   ]
  },
  {
   "attachments": {},
   "cell_type": "markdown",
   "metadata": {},
   "source": [
    "# Compute the Orbit"
   ]
  },
  {
   "cell_type": "code",
   "execution_count": null,
   "metadata": {},
   "outputs": [],
   "source": [
    "alpha = 0.47\n",
    "beta = 0.51\n",
    "P = alpha*PR + beta*SR + (1-alpha-beta)*I\n",
    "\n",
    "Orbits = Draw_Orbit(\n",
    "    P = P,\n",
    "    P1 = PR,\n",
    "    P1name = \"PR\",\n",
    "    P2 = SR,\n",
    "    P2name = \"SR\",\n",
    "    P3 = (I+PR)/2,\n",
    "    P3name = \"(I+PR)/2\",\n",
    "    W = W_BS09,\n",
    "    Wname = \"$W_{bs}$\",\n",
    "    max_depth = 12\n",
    ")"
   ]
  },
  {
   "cell_type": "code",
   "execution_count": null,
   "metadata": {},
   "outputs": [],
   "source": [
    "alpha = 0.47\n",
    "beta = 0.51\n",
    "P = alpha*PR + beta*SR + (1-alpha-beta)*I\n",
    "\n",
    "Orbits = Draw_Orbit(\n",
    "    P = P,\n",
    "    P1 = PR,\n",
    "    P1name = \"PR\",\n",
    "    P2 = SR,\n",
    "    P2name = \"SR\",\n",
    "    P3 = (I+PR)/2,\n",
    "    P3name = \"(I+PR)/2\",\n",
    "    W = non_local_boxes.utils.W_FWW09(n),\n",
    "    Wname = \"$W_{\\oplus}$\",\n",
    "    max_depth = 12\n",
    ")"
   ]
  },
  {
   "cell_type": "code",
   "execution_count": null,
   "metadata": {},
   "outputs": [],
   "source": []
  }
 ],
 "metadata": {
  "kernelspec": {
   "display_name": ".venv_boxes",
   "language": "python",
   "name": "python3"
  },
  "language_info": {
   "codemirror_mode": {
    "name": "ipython",
    "version": 3
   },
   "file_extension": ".py",
   "mimetype": "text/x-python",
   "name": "python",
   "nbconvert_exporter": "python",
   "pygments_lexer": "ipython3",
   "version": "3.9.12"
  },
  "orig_nbformat": 4
 },
 "nbformat": 4,
 "nbformat_minor": 2
}
