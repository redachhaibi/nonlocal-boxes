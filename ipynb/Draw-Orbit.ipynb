{
 "cells": [
  {
   "cell_type": "code",
   "execution_count": 51,
   "metadata": {},
   "outputs": [
    {
     "name": "stdout",
     "output_type": "stream",
     "text": [
      "The autoreload extension is already loaded. To reload it, use:\n",
      "  %reload_ext autoreload\n"
     ]
    }
   ],
   "source": [
    "import torch\n",
    "import non_local_boxes\n",
    "#import numpy as np\n",
    "import math\n",
    "\n",
    "# Sugar coating for reloading\n",
    "%matplotlib inline\n",
    "%load_ext autoreload\n",
    "%autoreload 2"
   ]
  },
  {
   "attachments": {},
   "cell_type": "markdown",
   "metadata": {},
   "source": [
    "# Definitions"
   ]
  },
  {
   "cell_type": "code",
   "execution_count": 65,
   "metadata": {},
   "outputs": [
    {
     "name": "stdout",
     "output_type": "stream",
     "text": [
      "1.0 0.5\n",
      "1 1\n",
      "2 1\n",
      "3 2\n",
      "4 5\n",
      "5 14\n",
      "6 42\n",
      "7 132\n",
      "8 429\n",
      "9 1430\n",
      "10 4862\n"
     ]
    }
   ],
   "source": [
    "matrix_to_tensor = non_local_boxes.utils.matrix_to_tensor\n",
    "tensor_to_matrix = non_local_boxes.utils.tensor_to_matrix\n",
    "\n",
    "# Boxes as 2x2x2x2 tensors\n",
    "PR = matrix_to_tensor(non_local_boxes.utils.PR)\n",
    "PRprime = matrix_to_tensor(non_local_boxes.utils.PRprime)\n",
    "SR = matrix_to_tensor(non_local_boxes.utils.SR)\n",
    "I = matrix_to_tensor(non_local_boxes.utils.I)\n",
    "\n",
    "n = non_local_boxes.evaluate.nb_columns\n",
    "W_BS09 = non_local_boxes.utils.W_BS09(n)\n",
    "\n",
    "def WinCHSH(P): return float(non_local_boxes.evaluate.h_flat(P))                    # P is a 2x2x2x2 tensor\n",
    "def WinCHSHprime(P): return float(non_local_boxes.evaluate.h_prime_flat(P))         # P is a 2x2x2x2 tensor\n",
    "def BoxProduct(W,P,Q): return non_local_boxes.evaluate.R_tensor(W,P,Q)[:,:,:,:,0]   # P,Q are is a 2x2x2x2 tensor\n",
    "\n",
    "def Catalan_number(k):\n",
    "    return int(math.factorial(2*(k-1))/(math.factorial(k)*math.factorial(k-1)))\n",
    "\n",
    "P = PR\n",
    "print(WinCHSH(P), WinCHSHprime(P))\n",
    "for k in range(1,11):\n",
    "    print(k, Catalan_number(k))"
   ]
  },
  {
   "cell_type": "code",
   "execution_count": 80,
   "metadata": {},
   "outputs": [],
   "source": [
    "def Compute_Orbits(P, W, max_depth):\n",
    "    Orbits = [[P]]  # each all_orbits[k] is a list, which is the orbit of depth k+1\n",
    "    for k in range(max_depth):\n",
    "          Orbits.append([])\n",
    "          for l in range(k+1):\n",
    "                for Q1 in Orbits[l]:\n",
    "                      for Q2 in Orbits[k-l]:\n",
    "                            Orbits[k+1].append( BoxProduct(W, Q1, Q2) )\n",
    "    return Orbits"
   ]
  },
  {
   "cell_type": "code",
   "execution_count": 83,
   "metadata": {},
   "outputs": [],
   "source": [
    "def Draw_Orbit(P, P1, P1name, P2, P2name, P3, P3name, W, max_depth):\n",
    "    # P, P1, P2, P3 are 2x2x2x2 matrices\n",
    "\n",
    "    x1, y1 = WinCHSHprime(P1), WinCHSH(P1)\n",
    "    x2, y2 = WinCHSHprime(P2), WinCHSH(P2)\n",
    "    x3, y3 = WinCHSHprime(P3), WinCHSH(P3)\n",
    "\n",
    "    # Check if our coordinate system is good, i.e. if projected points aren't aligned:\n",
    "    if (x1 - x3)*(y2-y3)==(x2-x3)*(y1-y3):\n",
    "            print(\"WARNING: Error in the coordinate system.\")\n",
    "            return None\n",
    "    \n",
    "    #\n",
    "    # Draw the initial background triangle:\n",
    "\n",
    "\n",
    "    # Draw the orbit:\n",
    "    Orbits = Compute_Orbits(P, W, max_depth)\n",
    "    for k in range(len(Orbits)):\n",
    "        color = \"red\"\n",
    "        for Q in Orbits[k]:  # Q is a tensor\n",
    "            # Compute the abscissa and the ordinate:\n",
    "            x = WinCHSHprime(Q)\n",
    "            y = WinCHSH(Q)\n",
    "            print(x,\"  \", y)\n"
   ]
  },
  {
   "cell_type": "code",
   "execution_count": 87,
   "metadata": {},
   "outputs": [
    {
     "name": "stdout",
     "output_type": "stream",
     "text": [
      "0.5    1.0\n",
      "0.5    1.0\n",
      "0.5    1.0\n",
      "0.5    1.0\n",
      "0.5    1.0\n",
      "0.5    1.0\n",
      "0.5    1.0\n",
      "0.5    1.0\n",
      "0.5    1.0\n",
      "0.5    1.0\n",
      "0.5    1.0\n",
      "0.5    1.0\n",
      "0.5    1.0\n",
      "0.5    1.0\n",
      "0.5    1.0\n",
      "0.5    1.0\n",
      "0.5    1.0\n",
      "0.5    1.0\n",
      "0.5    1.0\n",
      "0.5    1.0\n",
      "0.5    1.0\n",
      "0.5    1.0\n",
      "0.5    1.0\n",
      "0.5    1.0\n",
      "0.5    1.0\n",
      "0.5    1.0\n",
      "0.5    1.0\n",
      "0.5    1.0\n",
      "0.5    1.0\n",
      "0.5    1.0\n",
      "0.5    1.0\n",
      "0.5    1.0\n",
      "0.5    1.0\n",
      "0.5    1.0\n",
      "0.5    1.0\n",
      "0.5    1.0\n",
      "0.5    1.0\n",
      "0.5    1.0\n",
      "0.5    1.0\n",
      "0.5    1.0\n",
      "0.5    1.0\n",
      "0.5    1.0\n",
      "0.5    1.0\n",
      "0.5    1.0\n",
      "0.5    1.0\n",
      "0.5    1.0\n",
      "0.5    1.0\n",
      "0.5    1.0\n",
      "0.5    1.0\n",
      "0.5    1.0\n",
      "0.5    1.0\n",
      "0.5    1.0\n",
      "0.5    1.0\n",
      "0.5    1.0\n",
      "0.5    1.0\n",
      "0.5    1.0\n",
      "0.5    1.0\n",
      "0.5    1.0\n",
      "0.5    1.0\n",
      "0.5    1.0\n",
      "0.5    1.0\n",
      "0.5    1.0\n",
      "0.5    1.0\n",
      "0.5    1.0\n",
      "0.5    1.0\n"
     ]
    }
   ],
   "source": [
    "Orbits = Draw_Orbit(\n",
    "    P = PR,\n",
    "    P1 = PR,\n",
    "    P1name = \"\",\n",
    "    P2 = SR,\n",
    "    P2name = \"\",\n",
    "    P3 = I,\n",
    "    P3name = \"\",\n",
    "    W = W_BS09,\n",
    "    max_depth = 5\n",
    ")"
   ]
  },
  {
   "cell_type": "code",
   "execution_count": null,
   "metadata": {},
   "outputs": [],
   "source": []
  }
 ],
 "metadata": {
  "kernelspec": {
   "display_name": ".venv_boxes",
   "language": "python",
   "name": "python3"
  },
  "language_info": {
   "codemirror_mode": {
    "name": "ipython",
    "version": 3
   },
   "file_extension": ".py",
   "mimetype": "text/x-python",
   "name": "python",
   "nbconvert_exporter": "python",
   "pygments_lexer": "ipython3",
   "version": "3.9.12"
  },
  "orig_nbformat": 4
 },
 "nbformat": 4,
 "nbformat_minor": 2
}
