{
 "cells": [
  {
   "cell_type": "code",
   "execution_count": null,
   "metadata": {},
   "outputs": [],
   "source": [
    "import torch\n",
    "import numpy as np\n",
    "import non_local_boxes\n",
    "import matplotlib.pyplot as plt\n",
    "from matplotlib.colors import hsv_to_rgb\n",
    "import matplotlib.patches as mpatches\n",
    "\n",
    "# Sugar coating for reloading\n",
    "%matplotlib inline\n",
    "%load_ext autoreload\n",
    "%autoreload 2"
   ]
  },
  {
   "attachments": {},
   "cell_type": "markdown",
   "metadata": {},
   "source": [
    "# Implementation of `rho_EG16(P)`"
   ]
  },
  {
   "attachments": {},
   "cell_type": "markdown",
   "metadata": {},
   "source": [
    "Based on [EG16]: https://ieeexplore.ieee.org/abstract/document/7329921?casa_token=Gru1-7wNm_EAAAAA:0zLAco1Mrd-RUQYIwCOTYEL6gASgAOIHAFyr23nqnLC-41DyYOAQ9zD3LxbPbHwoiFDaDQ-PSaee"
   ]
  },
  {
   "cell_type": "code",
   "execution_count": null,
   "metadata": {},
   "outputs": [],
   "source": [
    "def rho_EG16_max(P):   # P is a 2x2x2x2 tensor\n",
    "    values = np.zeros((2,2))\n",
    "    for x in range(2):\n",
    "        for y in range(2):\n",
    "            prob_a_is_0 = P[0, 0, x, y] + P[0, 1, x, y]\n",
    "            prob_a_is_1 = P[1, 0, x, y] + P[1, 1, x, y]\n",
    "            prob_b_is_0 = P[0, 0, x, y] + P[1, 0, x, y]\n",
    "            prob_b_is_1 = P[0, 1, x, y] + P[1, 1, x, y]\n",
    "            mu_A = prob_a_is_1/prob_a_is_0\n",
    "            mu_B = prob_b_is_1/prob_b_is_0\n",
    "            f1 = 1/np.sqrt((1+mu_A)*prob_a_is_1)\n",
    "            f0 = -f1 * mu_A\n",
    "            g1 = 1/np.sqrt((1+mu_B)*prob_b_is_1)\n",
    "            g0 = -g1 * mu_B\n",
    "            values[x,y] = f0 * g0 * P[0,0,x,y] + f1 * g0 * P[1,0,x,y] + f0 * g1 * P[0,1,x,y] + f1 * g1 * P[1,1,x,y]\n",
    "    return np.max(values)"
   ]
  },
  {
   "cell_type": "code",
   "execution_count": null,
   "metadata": {},
   "outputs": [],
   "source": [
    "def rho_EG16_average(P):   # P is a 2x2x2x2 tensor\n",
    "    values = np.zeros((2,2))\n",
    "    for x in range(2):\n",
    "        for y in range(2):\n",
    "            prob_a_is_0 = P[0, 0, x, y] + P[0, 1, x, y]\n",
    "            prob_a_is_1 = P[1, 0, x, y] + P[1, 1, x, y]\n",
    "            prob_b_is_0 = P[0, 0, x, y] + P[1, 0, x, y]\n",
    "            prob_b_is_1 = P[0, 1, x, y] + P[1, 1, x, y]\n",
    "            mu_A = prob_a_is_1/prob_a_is_0\n",
    "            mu_B = prob_b_is_1/prob_b_is_0\n",
    "            f1 = 1/np.sqrt((1+mu_A)*prob_a_is_1)\n",
    "            f0 = -f1 * mu_A\n",
    "            g1 = 1/np.sqrt((1+mu_B)*prob_b_is_1)\n",
    "            g0 = -g1 * mu_B\n",
    "            values[x,y] = f0 * g0 * P[0,0,x,y] + f1 * g0 * P[1,0,x,y] + f0 * g1 * P[0,1,x,y] + f1 * g1 * P[1,1,x,y]\n",
    "    return np.average(values)"
   ]
  },
  {
   "cell_type": "code",
   "execution_count": null,
   "metadata": {},
   "outputs": [],
   "source": [
    "def draw_triangle(Box1, Box1_name, Box2, Box2_name, Box3, Box3_name, box_grid_size, function_rho, function_name): # Box is a 4x4 tensor\n",
    "    X = torch.tensor([[0, 10], [10,0], [0, 0]]).numpy()\n",
    "    triangle = plt.Polygon(X[:3,:], color=\"snow\")\n",
    "    plt.gca().add_patch(triangle)\n",
    "\n",
    "    for i in range(box_grid_size+1):\n",
    "        for j in range(box_grid_size-i+1):\n",
    "            alpha, beta = i/box_grid_size, j/box_grid_size\n",
    "            p = function_rho(alpha*Box1 + beta*Box2 + (1-alpha-beta)*Box3)\n",
    "            color_point = hsv_to_rgb([p, 1, 1]) #(0., 0.*(1-p)+0.8*p, 0.*(1-p)+0.8*p)\n",
    "            plt.plot(X[0,0]*alpha + X[1,0]*beta + X[2,0]*(1-alpha-beta), X[0,1]*alpha + X[1,1]*beta + X[2,1]*(1-alpha-beta), 'o', markersize=3, color=color_point)\n",
    "\n",
    "    plt.text(X[0,0]+0.3, X[0,1], Box1_name, horizontalalignment='center')\n",
    "    plt.text(X[1,0], X[1,1]+0.3, Box2_name, verticalalignment='center')\n",
    "    plt.text(X[2,0], X[2,1]-0.3, Box3_name, verticalalignment='center')\n",
    "    plt.title(\"Level lines of \"+function_name)\n",
    "    color1 = mpatches.Patch(color=hsv_to_rgb([1, 1, 1]), label='rho = 1')\n",
    "    color075 = mpatches.Patch(color=hsv_to_rgb([0.75, 1, 1]), label='rho = 0.75')\n",
    "    color05 = mpatches.Patch(color=hsv_to_rgb([0.5, 1, 1]), label='rho = 0.5')\n",
    "    color025 = mpatches.Patch(color=hsv_to_rgb([0.25, 1, 1]), label='rho = 0.25')\n",
    "    plt.legend(handles=[color1, color075, color05, color025]) \n",
    "    plt.show()"
   ]
  },
  {
   "cell_type": "code",
   "execution_count": null,
   "metadata": {},
   "outputs": [],
   "source": [
    "def draw_above_BBLMTU(Box1, Box1_name, Box2, Box2_name, Box3, Box3_name, box_grid_size, function_rho, function_name): # Box is a 4x4 tensor\n",
    "    X = torch.tensor([[0, 10], [10,0], [0, 0]]).numpy()\n",
    "    triangle = plt.Polygon(X[:3,:], color=\"snow\")\n",
    "    plt.gca().add_patch(triangle)\n",
    "    a = (3 + float(torch.sqrt(torch.tensor(6))))/6\n",
    "    threshold = function_rho(a*non_local_boxes.utils.matrix_to_tensor(non_local_boxes.utils.PR) + (1-a)*non_local_boxes.utils.matrix_to_tensor(non_local_boxes.utils.PRbar))\n",
    "\n",
    "    color_above_threshold = hsv_to_rgb([0.475, 1, 0.8])\n",
    "    color_below_threshold = hsv_to_rgb([0.475, 1, 0.5])\n",
    "\n",
    "    for i in range(box_grid_size+1):\n",
    "        for j in range(box_grid_size-i+1):\n",
    "            alpha, beta = i/box_grid_size, j/box_grid_size\n",
    "            p = function_rho(alpha*Box1 + beta*Box2 + (1-alpha-beta)*Box3)\n",
    "            color_point = color_below_threshold #(0., 0.3, 0.3)\n",
    "            if p > threshold:\n",
    "                color_point = color_above_threshold # (0., 0.7, 0.7)\n",
    "            plt.plot(X[0,0]*alpha + X[1,0]*beta + X[2,0]*(1-alpha-beta), X[0,1]*alpha + X[1,1]*beta + X[2,1]*(1-alpha-beta), 'o', markersize=3, color=color_point)\n",
    "\n",
    "    plt.text(X[0,0]+0.3, X[0,1], Box1_name, horizontalalignment='center')\n",
    "    plt.text(X[1,0], X[1,1]+0.3, Box2_name, verticalalignment='center')\n",
    "    plt.text(X[2,0], X[2,1]-0.3, Box3_name, verticalalignment='center')\n",
    "    plt.title(function_name+\" combined with [BBLMTU06]\")\n",
    "    color_below_patch = mpatches.Patch(color=color_below_threshold, label='Impossible to distill until the collapsing triangle.')\n",
    "    color_above_patch = mpatches.Patch(color=color_above_threshold, label='No conclusion.')\n",
    "    plt.legend(handles=[color_below_patch, color_above_patch])   \n",
    "    plt.show()"
   ]
  },
  {
   "attachments": {},
   "cell_type": "markdown",
   "metadata": {},
   "source": [
    "# Compute $\\rho$ of somes boxes"
   ]
  },
  {
   "cell_type": "code",
   "execution_count": null,
   "metadata": {},
   "outputs": [],
   "source": [
    "PR = non_local_boxes.matrix_to_tensor(non_local_boxes.utils.PR)\n",
    "PRprime = non_local_boxes.matrix_to_tensor(non_local_boxes.utils.PRprime)\n",
    "SR = non_local_boxes.matrix_to_tensor(non_local_boxes.utils.SR)\n",
    "I = non_local_boxes.matrix_to_tensor(non_local_boxes.utils.I)"
   ]
  },
  {
   "cell_type": "code",
   "execution_count": null,
   "metadata": {},
   "outputs": [],
   "source": [
    "p = 0.156\n",
    "print(rho_EG16_max(PR), rho_EG16_max(SR), rho_EG16_max(I), rho_EG16_max((PR+I)/2))\n",
    "print(rho_EG16_max(p*PR + (1-p)*I))"
   ]
  },
  {
   "cell_type": "code",
   "execution_count": null,
   "metadata": {},
   "outputs": [],
   "source": [
    "draw_triangle(\n",
    "    Box1 = PR,\n",
    "    Box1_name = \"PR\",\n",
    "    Box2 = SR,\n",
    "    Box2_name = \"SR\",\n",
    "    Box3 = (PR+I)/2,\n",
    "    Box3_name = \"(PR+I)/2\",\n",
    "    box_grid_size = 60,\n",
    "    function_rho = rho_EG16_max, \n",
    "    function_name = \"rho_EG16_max\"\n",
    ")"
   ]
  },
  {
   "cell_type": "code",
   "execution_count": null,
   "metadata": {},
   "outputs": [],
   "source": [
    "draw_above_BBLMTU(\n",
    "    Box1 = PR,\n",
    "    Box1_name = \"PR\",\n",
    "    Box2 = SR,\n",
    "    Box2_name = \"SR\",\n",
    "    Box3 = (PR+I)/2,\n",
    "    Box3_name = \"(PR+I)/2\",\n",
    "    box_grid_size = 60,\n",
    "    function_rho = rho_EG16_max, \n",
    "    function_name = \"rho_EG16_max\"\n",
    ")"
   ]
  },
  {
   "cell_type": "code",
   "execution_count": null,
   "metadata": {},
   "outputs": [],
   "source": [
    "draw_above_BBLMTU(\n",
    "    Box1 = PR,\n",
    "    Box1_name = \"PR\",\n",
    "    Box2 = SR,\n",
    "    Box2_name = \"(PR+PRpime)/2\",\n",
    "    Box3 = (PR+PRprime)/2,\n",
    "    Box3_name = \"(PR+I)/2\",\n",
    "    box_grid_size = 60,\n",
    "    function_rho = rho_EG16_max, \n",
    "    function_name = \"rho_EG16_max\"\n",
    ")"
   ]
  },
  {
   "attachments": {},
   "cell_type": "markdown",
   "metadata": {},
   "source": [
    "# $\\rho$ average"
   ]
  },
  {
   "cell_type": "code",
   "execution_count": null,
   "metadata": {},
   "outputs": [],
   "source": [
    "draw_triangle(\n",
    "    Box1 = PR,\n",
    "    Box1_name = \"PR\",\n",
    "    Box2 = SR,\n",
    "    Box2_name = \"SR\",\n",
    "    Box3 = (PR+I)/2,\n",
    "    Box3_name = \"(PR+I)/2\",\n",
    "    box_grid_size = 60,\n",
    "    function_rho = rho_EG16_average, \n",
    "    function_name = \"rho_EG16_average\"\n",
    ")"
   ]
  },
  {
   "cell_type": "code",
   "execution_count": null,
   "metadata": {},
   "outputs": [],
   "source": [
    "draw_above_BBLMTU(\n",
    "    Box1 = PR,\n",
    "    Box1_name = \"PR\",\n",
    "    Box2 = SR,\n",
    "    Box2_name = \"SR\",\n",
    "    Box3 = (PR+I)/2,\n",
    "    Box3_name = \"(PR+I)/2\",\n",
    "    box_grid_size = 60,\n",
    "    function_rho = rho_EG16_average, \n",
    "    function_name = \"rho_EG16_average\"\n",
    ")"
   ]
  },
  {
   "cell_type": "code",
   "execution_count": null,
   "metadata": {},
   "outputs": [],
   "source": [
    "draw_above_BBLMTU(\n",
    "    Box1 = PR,\n",
    "    Box1_name = \"PR\",\n",
    "    Box2 = SR,\n",
    "    Box2_name = \"(PR+PRpime)/2\",\n",
    "    Box3 = (PR+PRprime)/2,\n",
    "    Box3_name = \"(PR+I)/2\",\n",
    "    box_grid_size = 60,\n",
    "    function_rho = rho_EG16_average, \n",
    "    function_name = \"rho_EG16_average\"\n",
    ")"
   ]
  },
  {
   "attachments": {},
   "cell_type": "markdown",
   "metadata": {},
   "source": [
    "# $\\rho$ CHSH"
   ]
  },
  {
   "cell_type": "code",
   "execution_count": null,
   "metadata": {},
   "outputs": [],
   "source": [
    "def rho_EG16_CHSH(P):   # P is a 2x2x2x2 tensor\n",
    "    values = np.zeros((2,2))\n",
    "    for x in range(2):\n",
    "        for y in range(2):\n",
    "            prob_a_is_0 = P[0, 0, x, y] + P[0, 1, x, y]\n",
    "            prob_a_is_1 = P[1, 0, x, y] + P[1, 1, x, y]\n",
    "            prob_b_is_0 = P[0, 0, x, y] + P[1, 0, x, y]\n",
    "            prob_b_is_1 = P[0, 1, x, y] + P[1, 1, x, y]\n",
    "            mu_A = prob_a_is_1/prob_a_is_0\n",
    "            mu_B = prob_b_is_1/prob_b_is_0\n",
    "            f1 = 1/np.sqrt((1+mu_A)*prob_a_is_1)\n",
    "            f0 = -f1 * mu_A\n",
    "            g1 = 1/np.sqrt((1+mu_B)*prob_b_is_1)\n",
    "            g0 = -g1 * mu_B\n",
    "            values[x,y] = f0 * g0 * P[0,0,x,y] + f1 * g0 * P[1,0,x,y] + f0 * g1 * P[0,1,x,y] + f1 * g1 * P[1,1,x,y]\n",
    "    return (values[0,0]+values[0,1]+values[1,0]-values[1,1])/4"
   ]
  },
  {
   "cell_type": "code",
   "execution_count": null,
   "metadata": {},
   "outputs": [],
   "source": [
    "draw_triangle(\n",
    "    Box1 = PR,\n",
    "    Box1_name = \"PR\",\n",
    "    Box2 = SR,\n",
    "    Box2_name = \"SR\",\n",
    "    Box3 = (PR+I)/2,\n",
    "    Box3_name = \"(PR+I)/2\",\n",
    "    box_grid_size = 60,\n",
    "    function_rho = rho_EG16_CHSH, \n",
    "    function_name = \"rho_EG16_CHSH\"\n",
    ")"
   ]
  },
  {
   "cell_type": "code",
   "execution_count": null,
   "metadata": {},
   "outputs": [],
   "source": []
  }
 ],
 "metadata": {
  "kernelspec": {
   "display_name": ".venv_boxes",
   "language": "python",
   "name": "python3"
  },
  "language_info": {
   "codemirror_mode": {
    "name": "ipython",
    "version": 3
   },
   "file_extension": ".py",
   "mimetype": "text/x-python",
   "name": "python",
   "nbconvert_exporter": "python",
   "pygments_lexer": "ipython3",
   "version": "3.9.12"
  },
  "orig_nbformat": 4,
  "vscode": {
   "interpreter": {
    "hash": "6128204f4eed4adf0c9d685282aacc5e13a28be8d9bf88ddc5b468ee739d92e1"
   }
  }
 },
 "nbformat": 4,
 "nbformat_minor": 2
}
